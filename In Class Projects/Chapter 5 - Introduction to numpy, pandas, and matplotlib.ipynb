{
 "cells": [
  {
   "cell_type": "markdown",
   "id": "192390c8",
   "metadata": {},
   "source": [
    "# Chapter 5 - Introduction to _numpy_, *pandas*, and _matplotlib_"
   ]
  },
  {
   "cell_type": "markdown",
   "id": "5f7f5d3c",
   "metadata": {},
   "source": [
    "Numpy library is more efficient than lists, making it faster and using up less memory. Pandas helps organizes data in tables using numpy. "
   ]
  },
  {
   "cell_type": "markdown",
   "id": "0ccdd16d",
   "metadata": {},
   "source": [
    "# Arrays\n",
    "\n",
    "Lists are less efficient but are useful if you need values to be changing over time. Numpy creates arrays that contain data types that are values (Integers and variety of floats). This increases efficiency. "
   ]
  },
  {
   "cell_type": "code",
   "execution_count": 5,
   "id": "4c2f8d61",
   "metadata": {},
   "outputs": [
    {
     "data": {
      "text/plain": [
       "array([1, 2, 3, 4, 5])"
      ]
     },
     "execution_count": 5,
     "metadata": {},
     "output_type": "execute_result"
    }
   ],
   "source": [
    "# Created an array\n",
    "import numpy as np\n",
    "array = np.array([1,2,3,4,5])\n",
    "array"
   ]
  },
  {
   "cell_type": "code",
   "execution_count": 6,
   "id": "43e3c45d",
   "metadata": {},
   "outputs": [
    {
     "data": {
      "text/plain": [
       "numpy.ndarray"
      ]
     },
     "execution_count": 6,
     "metadata": {},
     "output_type": "execute_result"
    }
   ],
   "source": [
    "# Seeing what type the array is\n",
    "type(array)"
   ]
  },
  {
   "cell_type": "code",
   "execution_count": 8,
   "id": "4047510d",
   "metadata": {},
   "outputs": [
    {
     "name": "stdout",
     "output_type": "stream",
     "text": [
      "1 <class 'numpy.int32'>\n",
      "2 <class 'numpy.int32'>\n",
      "3 <class 'numpy.int32'>\n",
      "4 <class 'numpy.int32'>\n",
      "5 <class 'numpy.int32'>\n"
     ]
    }
   ],
   "source": [
    "# Printing the values and types\n",
    "for val in array:\n",
    "    print(val, type(val))"
   ]
  },
  {
   "cell_type": "markdown",
   "id": "59ba9518",
   "metadata": {},
   "source": [
    "# np.arange(start, finish, interval)"
   ]
  },
  {
   "cell_type": "code",
   "execution_count": 11,
   "id": "4dbdc6a7",
   "metadata": {},
   "outputs": [
    {
     "data": {
      "text/plain": [
       "array([  0,   1,   2,   3,   4,   5,   6,   7,   8,   9,  10,  11,  12,\n",
       "        13,  14,  15,  16,  17,  18,  19,  20,  21,  22,  23,  24,  25,\n",
       "        26,  27,  28,  29,  30,  31,  32,  33,  34,  35,  36,  37,  38,\n",
       "        39,  40,  41,  42,  43,  44,  45,  46,  47,  48,  49,  50,  51,\n",
       "        52,  53,  54,  55,  56,  57,  58,  59,  60,  61,  62,  63,  64,\n",
       "        65,  66,  67,  68,  69,  70,  71,  72,  73,  74,  75,  76,  77,\n",
       "        78,  79,  80,  81,  82,  83,  84,  85,  86,  87,  88,  89,  90,\n",
       "        91,  92,  93,  94,  95,  96,  97,  98,  99, 100])"
      ]
     },
     "execution_count": 11,
     "metadata": {},
     "output_type": "execute_result"
    }
   ],
   "source": [
    "# Passing a range instead of a list\n",
    "range_array = np.arange(0,101)\n",
    "range_array"
   ]
  },
  {
   "cell_type": "code",
   "execution_count": 15,
   "id": "8b309271",
   "metadata": {},
   "outputs": [
    {
     "data": {
      "text/plain": [
       "array([ 0,  3,  6,  9, 12, 15, 18, 21, 24, 27, 30, 33, 36, 39, 42, 45, 48,\n",
       "       51, 54, 57, 60, 63, 66, 69, 72, 75, 78, 81, 84, 87, 90, 93, 96, 99])"
      ]
     },
     "execution_count": 15,
     "metadata": {},
     "output_type": "execute_result"
    }
   ],
   "source": [
    "# Range counting by 3\n",
    "range_array = np.arange(0,101, 3)\n",
    "range_array"
   ]
  },
  {
   "cell_type": "code",
   "execution_count": 36,
   "id": "5d09b8b2",
   "metadata": {},
   "outputs": [
    {
     "data": {
      "text/plain": [
       "array([101,  98,  95,  92,  89,  86,  83,  80,  77,  74,  71,  68,  65,\n",
       "        62,  59,  56,  53,  50,  47,  44,  41,  38,  35,  32,  29,  26,\n",
       "        23,  20,  17,  14,  11,   8,   5,   2])"
      ]
     },
     "execution_count": 36,
     "metadata": {},
     "output_type": "execute_result"
    }
   ],
   "source": [
    "# Range counting backwards by 3\n",
    "# arange = array range\n",
    "range_array = np.arange(101,0, -3)\n",
    "range_array"
   ]
  },
  {
   "cell_type": "markdown",
   "id": "a7fdace4",
   "metadata": {},
   "source": [
    "# Forming an array with a list of different types of values"
   ]
  },
  {
   "cell_type": "code",
   "execution_count": 35,
   "id": "a0b95cde",
   "metadata": {},
   "outputs": [
    {
     "name": "stdout",
     "output_type": "stream",
     "text": [
      "int_float_list\n",
      "1 <class 'int'>\n",
      "2 <class 'int'>\n",
      "3 <class 'int'>\n",
      "4.0 <class 'float'>\n",
      "5 <class 'int'>\n",
      "\n",
      "mystery_array\n",
      "1.0 <class 'numpy.float64'>\n",
      "2.0 <class 'numpy.float64'>\n",
      "3.0 <class 'numpy.float64'>\n",
      "4.0 <class 'numpy.float64'>\n",
      "5.0 <class 'numpy.float64'>\n",
      "\n",
      "float_array\n",
      "1.0 <class 'numpy.float64'>\n",
      "2.0 <class 'numpy.float64'>\n",
      "3.0 <class 'numpy.float64'>\n",
      "4.0 <class 'numpy.float64'>\n",
      "5.0 <class 'numpy.float64'>\n"
     ]
    }
   ],
   "source": [
    "# Has one value that is not an int\n",
    "int_float_list = [1,2,3,4.,5]\n",
    "print(\"int_float_list\")\n",
    "for val in int_float_list:\n",
    "    print(val, type(val))\n",
    "\n",
    "# All values are changed to float 64 type\n",
    "mystery_array = np.array(int_float_list)  \n",
    "print() \n",
    "print(\"mystery_array\")\n",
    "for val in mystery_array:\n",
    "    print(val, type(val))\n",
    "\n",
    "# Has all values as float 64 type\n",
    "float_list = [1.,2.,3.,4.,5.]\n",
    "float_array = np.array(float_list)\n",
    "print()\n",
    "print(\"float_array\")\n",
    "for val in float_array:\n",
    "    print(val, type(val))"
   ]
  },
  {
   "cell_type": "markdown",
   "id": "ceae76f4",
   "metadata": {},
   "source": [
    "In last case (float_array), we check to see if the transfomration of a list of all floats is the same as the transformation of a mixed list of floats and ints (int_float_list)."
   ]
  },
  {
   "cell_type": "markdown",
   "id": "b018bfce",
   "metadata": {},
   "source": [
    "# Two dimensional lists and arrays"
   ]
  },
  {
   "cell_type": "code",
   "execution_count": 46,
   "id": "28bb2164",
   "metadata": {},
   "outputs": [
    {
     "data": {
      "text/plain": [
       "[[1, 2, 3], [2, 4, 6], [3, 6, 9]]"
      ]
     },
     "execution_count": 46,
     "metadata": {},
     "output_type": "execute_result"
    }
   ],
   "source": [
    "# two_dim_list = A list of lists\n",
    "# Keep the lists the same for ease of use\n",
    "two_dim_list = [[1,2,3], [2, 4, 6], [3, 6, 9]]\n",
    "two_dim_list"
   ]
  },
  {
   "cell_type": "code",
   "execution_count": 41,
   "id": "9ed5cbb4",
   "metadata": {},
   "outputs": [
    {
     "name": "stdout",
     "output_type": "stream",
     "text": [
      "[1, 2, 3]\n",
      "1\n",
      "2\n",
      "3\n",
      "[2, 4, 6]\n",
      "2\n",
      "4\n",
      "6\n",
      "[3, 6, 9]\n",
      "3\n",
      "6\n",
      "9\n"
     ]
    }
   ],
   "source": [
    "# Prints lists of the two_dim_list\n",
    "for lst in two_dim_list:\n",
    "    print(lst)\n",
    "# To print out each value in each list\n",
    "    for val in lst:\n",
    "        print(val)"
   ]
  },
  {
   "cell_type": "markdown",
   "id": "091e1faa",
   "metadata": {},
   "source": [
    "## Transform two dimensional list to two dimensional array using np.array(lst)"
   ]
  },
  {
   "cell_type": "code",
   "execution_count": 43,
   "id": "4d5909ea",
   "metadata": {},
   "outputs": [
    {
     "data": {
      "text/plain": [
       "array([[1, 2, 3],\n",
       "       [2, 4, 6],\n",
       "       [3, 6, 9]])"
      ]
     },
     "execution_count": 43,
     "metadata": {},
     "output_type": "execute_result"
    }
   ],
   "source": [
    "two_dim_array = np.array(two_dim_list)\n",
    "two_dim_array"
   ]
  },
  {
   "cell_type": "code",
   "execution_count": 45,
   "id": "23199116",
   "metadata": {},
   "outputs": [
    {
     "name": "stdout",
     "output_type": "stream",
     "text": [
      "[1 2 3]\n",
      "1\n",
      "2\n",
      "3\n",
      "[2 4 6]\n",
      "2\n",
      "4\n",
      "6\n",
      "[3 6 9]\n",
      "3\n",
      "6\n",
      "9\n"
     ]
    }
   ],
   "source": [
    "# Prints the same as the list previously\n",
    "for array in two_dim_array:\n",
    "    print(array)\n",
    "    for val in array:\n",
    "        print(val)"
   ]
  },
  {
   "cell_type": "markdown",
   "id": "e9c7073f",
   "metadata": {},
   "source": [
    "## Changing the values of elements in an array\n",
    "\n",
    "Use a list if you simply need to add another element and use an array if you are going to change a value."
   ]
  },
  {
   "cell_type": "code",
   "execution_count": 51,
   "id": "108a74d7",
   "metadata": {},
   "outputs": [
    {
     "data": {
      "text/plain": [
       "array([[0., 0., 0.],\n",
       "       [0., 0., 0.],\n",
       "       [0., 0., 0.]])"
      ]
     },
     "execution_count": 51,
     "metadata": {},
     "output_type": "execute_result"
    }
   ],
   "source": [
    "# Uses built in array of zeros - Can for example add an extra 3 for a third dimension\n",
    "array = np.zeros((3,3))\n",
    "array"
   ]
  },
  {
   "cell_type": "code",
   "execution_count": 54,
   "id": "f81bff13",
   "metadata": {},
   "outputs": [
    {
     "data": {
      "text/plain": [
       "array([[1., 0., 0.],\n",
       "       [0., 3., 0.],\n",
       "       [0., 0., 2.]])"
      ]
     },
     "execution_count": 54,
     "metadata": {},
     "output_type": "execute_result"
    }
   ],
   "source": [
    "# Changes values at each\n",
    "array[0][0] = 1\n",
    "array[1][1] = 3\n",
    "array[2][2] = 2\n",
    "array"
   ]
  },
  {
   "cell_type": "markdown",
   "id": "1a83b8c0",
   "metadata": {},
   "source": [
    "np.zeros creates an n-dimensional array (array of arrays) that is comprised of zeros that are floats. \n",
    "\n",
    "If an n-dimensional array of zeros that are ints is desired, create an n-dimensional list using zeros that are integers"
   ]
  },
  {
   "cell_type": "code",
   "execution_count": 66,
   "id": "ef64ae0a",
   "metadata": {},
   "outputs": [
    {
     "data": {
      "text/plain": [
       "array([[0, 0, 0],\n",
       "       [0, 0, 0],\n",
       "       [0, 0, 0]])"
      ]
     },
     "execution_count": 66,
     "metadata": {},
     "output_type": "execute_result"
    }
   ],
   "source": [
    "# Prints an array of integers intead of the default floats in an array\n",
    "zero_lst_of_lsts = [[0,0,0],[0,0,0],[0,0,0]]\n",
    "zero_array_of_arrays = np.array(zero_lst_of_lsts)\n",
    "zero_array_of_arrays"
   ]
  },
  {
   "cell_type": "code",
   "execution_count": 63,
   "id": "92f32880",
   "metadata": {},
   "outputs": [
    {
     "data": {
      "text/plain": [
       "array([[4, 0, 0],\n",
       "       [0, 0, 0],\n",
       "       [0, 0, 0]])"
      ]
     },
     "execution_count": 63,
     "metadata": {},
     "output_type": "execute_result"
    }
   ],
   "source": [
    "zero_array_of_arrays[0][0] = 4\n",
    "zero_array_of_arrays"
   ]
  },
  {
   "cell_type": "code",
   "execution_count": 65,
   "id": "a517bc90",
   "metadata": {},
   "outputs": [
    {
     "data": {
      "text/plain": [
       "array([[0, 0, 0],\n",
       "       [0, 0, 0],\n",
       "       [0, 0, 0]])"
      ]
     },
     "execution_count": 65,
     "metadata": {},
     "output_type": "execute_result"
    }
   ],
   "source": [
    "# Another way to complete the previous output\n",
    "np.zeros((3,3), dtype = int)"
   ]
  },
  {
   "cell_type": "markdown",
   "id": "96050a26",
   "metadata": {},
   "source": [
    "# Logging Data"
   ]
  },
  {
   "cell_type": "code",
   "execution_count": 68,
   "id": "ce3204ec",
   "metadata": {},
   "outputs": [
    {
     "data": {
      "text/plain": [
       "1.0"
      ]
     },
     "execution_count": 68,
     "metadata": {},
     "output_type": "execute_result"
    }
   ],
   "source": [
    "# Log of natural number\n",
    "import numpy as np\n",
    "\n",
    "np.log(np.e)"
   ]
  },
  {
   "cell_type": "code",
   "execution_count": 69,
   "id": "8a9da2d3",
   "metadata": {},
   "outputs": [
    {
     "data": {
      "text/plain": [
       "1.0"
      ]
     },
     "execution_count": 69,
     "metadata": {},
     "output_type": "execute_result"
    }
   ],
   "source": [
    "# Gives the same since log to the 1 gives you 10, etc\n",
    "np.log10(10)"
   ]
  },
  {
   "cell_type": "code",
   "execution_count": 70,
   "id": "bdbc8522",
   "metadata": {},
   "outputs": [
    {
     "data": {
      "text/plain": [
       "2.0"
      ]
     },
     "execution_count": 70,
     "metadata": {},
     "output_type": "execute_result"
    }
   ],
   "source": [
    "np.log10(100)"
   ]
  },
  {
   "cell_type": "code",
   "execution_count": 74,
   "id": "0b42751b",
   "metadata": {},
   "outputs": [
    {
     "name": "stdout",
     "output_type": "stream",
     "text": [
      "10 1.0\n",
      "20 1.3010299956639813\n",
      "30 1.4771212547196624\n",
      "40 1.6020599913279623\n",
      "50 1.6989700043360187\n",
      "60 1.7781512503836436\n",
      "70 1.845098040014257\n",
      "80 1.9030899869919435\n",
      "90 1.954242509439325\n",
      "100 2.0\n",
      "110 2.041392685158225\n",
      "120 2.0791812460476247\n",
      "130 2.113943352306837\n",
      "140 2.146128035678238\n",
      "150 2.1760912590556813\n",
      "160 2.2041199826559246\n",
      "170 2.230448921378274\n",
      "180 2.255272505103306\n",
      "190 2.278753600952829\n",
      "200 2.3010299956639813\n",
      "210 2.322219294733919\n",
      "220 2.342422680822206\n",
      "230 2.361727836017593\n",
      "240 2.380211241711606\n",
      "250 2.3979400086720375\n",
      "260 2.4149733479708178\n",
      "270 2.4313637641589874\n",
      "280 2.4471580313422194\n",
      "290 2.462397997898956\n",
      "300 2.4771212547196626\n",
      "310 2.4913616938342726\n",
      "320 2.505149978319906\n",
      "330 2.5185139398778875\n",
      "340 2.531478917042255\n",
      "350 2.5440680443502757\n",
      "360 2.5563025007672873\n",
      "370 2.568201724066995\n",
      "380 2.57978359661681\n",
      "390 2.591064607026499\n",
      "400 2.6020599913279625\n",
      "410 2.6127838567197355\n",
      "420 2.6232492903979003\n",
      "430 2.6334684555795866\n",
      "440 2.6434526764861874\n",
      "450 2.6532125137753435\n",
      "460 2.662757831681574\n",
      "470 2.6720978579357175\n",
      "480 2.681241237375587\n",
      "490 2.690196080028514\n",
      "500 2.6989700043360187\n",
      "510 2.7075701760979363\n",
      "520 2.716003343634799\n",
      "530 2.724275869600789\n",
      "540 2.7323937598229686\n",
      "550 2.7403626894942437\n",
      "560 2.7481880270062002\n",
      "570 2.7558748556724915\n",
      "580 2.7634279935629373\n",
      "590 2.7708520116421442\n",
      "600 2.7781512503836434\n",
      "610 2.785329835010767\n",
      "620 2.792391689498254\n",
      "630 2.7993405494535817\n",
      "640 2.806179973983887\n",
      "650 2.8129133566428557\n",
      "660 2.8195439355418688\n",
      "670 2.8260748027008264\n",
      "680 2.832508912706236\n",
      "690 2.838849090737255\n",
      "700 2.845098040014257\n",
      "710 2.8512583487190755\n",
      "720 2.8573324964312685\n",
      "730 2.863322860120456\n",
      "740 2.8692317197309762\n",
      "750 2.8750612633917\n",
      "760 2.8808135922807914\n",
      "770 2.886490725172482\n",
      "780 2.8920946026904804\n",
      "790 2.8976270912904414\n",
      "800 2.9030899869919438\n",
      "810 2.90848501887865\n",
      "820 2.9138138523837167\n",
      "830 2.9190780923760737\n",
      "840 2.9242792860618816\n",
      "850 2.929418925714293\n",
      "860 2.934498451243568\n",
      "870 2.9395192526186187\n",
      "880 2.9444826721501687\n",
      "890 2.949390006644913\n",
      "900 2.9542425094393248\n",
      "910 2.9590413923210934\n",
      "920 2.963787827345555\n",
      "930 2.9684829485539352\n",
      "940 2.9731278535996988\n",
      "950 2.9777236052888476\n",
      "960 2.9822712330395684\n",
      "970 2.9867717342662448\n",
      "980 2.9912260756924947\n",
      "990 2.99563519459755\n",
      "1000 3.0\n"
     ]
    }
   ],
   "source": [
    "# Increases by a decreasing rate \n",
    "for i in range(10, 1001, 10):\n",
    "    print(i, np.log10(i))"
   ]
  },
  {
   "cell_type": "code",
   "execution_count": 77,
   "id": "a993c1bb",
   "metadata": {},
   "outputs": [
    {
     "data": {
      "text/plain": [
       "array([0.        , 0.69314718, 1.09861229, 1.38629436, 1.60943791])"
      ]
     },
     "execution_count": 77,
     "metadata": {},
     "output_type": "execute_result"
    }
   ],
   "source": [
    "# Prints out specific values\n",
    "np.log([1,2,3,4,5])"
   ]
  }
 ],
 "metadata": {
  "kernelspec": {
   "display_name": "Python 3",
   "language": "python",
   "name": "python3"
  },
  "language_info": {
   "codemirror_mode": {
    "name": "ipython",
    "version": 3
   },
   "file_extension": ".py",
   "mimetype": "text/x-python",
   "name": "python",
   "nbconvert_exporter": "python",
   "pygments_lexer": "ipython3",
   "version": "3.8.8"
  }
 },
 "nbformat": 4,
 "nbformat_minor": 5
}
