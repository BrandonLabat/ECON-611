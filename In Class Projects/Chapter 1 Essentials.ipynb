{
 "cells": [
  {
   "cell_type": "markdown",
   "id": "e9f6bf9a",
   "metadata": {},
   "source": [
    "# Project 1 - Chapter 1 - Essentials"
   ]
  },
  {
   "cell_type": "code",
   "execution_count": 1,
   "id": "ecc75228",
   "metadata": {},
   "outputs": [
    {
     "name": "stdout",
     "output_type": "stream",
     "text": [
      "Hello World!\n"
     ]
    }
   ],
   "source": [
    "print(\"Hello World!\")"
   ]
  },
  {
   "cell_type": "markdown",
   "id": "f95962ea",
   "metadata": {},
   "source": [
    "We just used the print function. Print will print whatever object is passed to it. We passed the string, \"Hello World!\", and it printed after the code."
   ]
  },
  {
   "cell_type": "markdown",
   "id": "b1f2af72",
   "metadata": {},
   "source": [
    "# Introduction to Jupyter\n",
    "This is the first program I have written in Econ 411/611. Next, we will start working with string variables."
   ]
  },
  {
   "cell_type": "code",
   "execution_count": 2,
   "id": "2063813d",
   "metadata": {},
   "outputs": [
    {
     "name": "stdout",
     "output_type": "stream",
     "text": [
      "john nash\n"
     ]
    }
   ],
   "source": [
    "msg = \"john nash\"\n",
    "print(msg)"
   ]
  },
  {
   "cell_type": "markdown",
   "id": "15b1352c",
   "metadata": {},
   "source": [
    "Next, we are going to use the string methods to capitalize different letters.\n",
    "The method .upper() will make the string all caps, .title() will capitalize the first letters of each string. "
   ]
  },
  {
   "cell_type": "code",
   "execution_count": 3,
   "id": "892186d2",
   "metadata": {},
   "outputs": [
    {
     "name": "stdout",
     "output_type": "stream",
     "text": [
      "JOHN NASH\n",
      "John Nash\n"
     ]
    }
   ],
   "source": [
    "print(msg.upper())\n",
    "print(msg.title())"
   ]
  },
  {
   "cell_type": "markdown",
   "id": "b890855c",
   "metadata": {},
   "source": [
    "# String Concatenation\n",
    "You can concatenate strings using the +. That means you can join them in order to create a single aggregate string."
   ]
  },
  {
   "cell_type": "code",
   "execution_count": 4,
   "id": "a6c47133",
   "metadata": {},
   "outputs": [
    {
     "name": "stdout",
     "output_type": "stream",
     "text": [
      "You thought it would be easy\n",
      "You thought it wouldn't be hard\n",
      "But once you started\n",
      "It was much more difficult than you imagined\n"
     ]
    }
   ],
   "source": [
    "line1 = \"You thought it would be easy\"\n",
    "line2 = \"You thought it wouldn't be hard\"\n",
    "line3 = \"But once you started\"\n",
    "line4 = \"It was much more difficult than you imagined\"\n",
    "\n",
    "print(line1)\n",
    "print(line2)\n",
    "print(line3)\n",
    "print(line4)"
   ]
  },
  {
   "cell_type": "code",
   "execution_count": 5,
   "id": "d051ba71",
   "metadata": {},
   "outputs": [
    {
     "name": "stdout",
     "output_type": "stream",
     "text": [
      "You thought it would be easyYou thought it wouldn't be hardBut once you startedIt was much more difficult than you imagined\n"
     ]
    }
   ],
   "source": [
    "print(line1+line2+line3+line4)"
   ]
  },
  {
   "cell_type": "code",
   "execution_count": 6,
   "id": "168f0139",
   "metadata": {},
   "outputs": [
    {
     "name": "stdout",
     "output_type": "stream",
     "text": [
      "You thought it would be easyYou thought it wouldn't be hardBut once you startedIt was much more difficult than you imagined\n"
     ]
    }
   ],
   "source": [
    "concat_strings = line1+line2+line3+line4\n",
    "\n",
    "print(concat_strings)"
   ]
  },
  {
   "cell_type": "markdown",
   "id": "d698e96a",
   "metadata": {},
   "source": [
    "The sep option in print() allows you to determine the character that will be printed in lieu of each comma"
   ]
  },
  {
   "cell_type": "code",
   "execution_count": 8,
   "id": "5badb5bf",
   "metadata": {},
   "outputs": [
    {
     "name": "stdout",
     "output_type": "stream",
     "text": [
      "You thought it would be easy You thought it wouldn't be hard But once you started It was much more difficult than you imagined\n"
     ]
    }
   ],
   "source": [
    "line1 = \"You thought it would be easy\"\n",
    "line2 = \"You thought it wouldn't be hard\"\n",
    "line3 = \"But once you started\"\n",
    "line4 = \"It was much more difficult than you imagined\"\n",
    "\n",
    "print(line1, line2, line3, line4)"
   ]
  },
  {
   "cell_type": "code",
   "execution_count": 9,
   "id": "de474053",
   "metadata": {},
   "outputs": [
    {
     "name": "stdout",
     "output_type": "stream",
     "text": [
      "You thought it would be easy\n",
      "You thought it wouldn't be hard\n",
      "But once you started\n",
      "It was much more difficult than you imagined\n",
      "\n"
     ]
    }
   ],
   "source": [
    "print(line1 + \"\\n\",\n",
    "     line2 + \"\\n\",\n",
    "     line3 + \"\\n\",\n",
    "     line4 + \"\\n\",\n",
    "     sep = \"\")"
   ]
  },
  {
   "cell_type": "markdown",
   "id": "3ae4d7f0",
   "metadata": {},
   "source": [
    "# Distinction between double and single quotes"
   ]
  },
  {
   "cell_type": "code",
   "execution_count": 10,
   "id": "fea09d12",
   "metadata": {},
   "outputs": [
    {
     "name": "stdout",
     "output_type": "stream",
     "text": [
      "Can use 'single quotes' within double quotes\n",
      "Can also use \"double quotes\" within single quotes\n",
      "Can use \"double quotes\" in double quotes\n",
      "Can use 'single quotes' in single quotes\n"
     ]
    }
   ],
   "source": [
    "single_in_double = \"Can use 'single quotes' within double quotes\"\n",
    "double_in_single = 'Can also use \"double quotes\" within single quotes'\n",
    "double_in_double = \"Can use \\\"double quotes\\\" in double quotes\"\n",
    "single_in_single = 'Can use \\'single quotes\\' in single quotes'\n",
    "\n",
    "print(single_in_double)\n",
    "print(double_in_single)\n",
    "print(double_in_double)\n",
    "print(single_in_single)"
   ]
  },
  {
   "cell_type": "markdown",
   "id": "83370d01",
   "metadata": {},
   "source": [
    "\"double quotes\" = read it as it is same with 'single quotes'\n",
    "\n",
    "Adding \\n and \\t to build on the example above"
   ]
  },
  {
   "cell_type": "code",
   "execution_count": 11,
   "id": "cd112ada",
   "metadata": {},
   "outputs": [
    {
     "name": "stdout",
     "output_type": "stream",
     "text": [
      "Have to use two backslashes for a single backslash or else it won't be read: \\\n",
      "May start a new line with \n",
      "\t use tab for a hanging indent\n"
     ]
    }
   ],
   "source": [
    "read_backslash = \\\n",
    "\"Have to use two backslashes for a single backslash or else it won't be read: \\\\\"\n",
    "new_line_tab = \"May start a new line with \\n\\t use tab for a hanging indent\"\n",
    "\n",
    "print(read_backslash)\n",
    "print(new_line_tab)"
   ]
  },
  {
   "cell_type": "markdown",
   "id": "11db6af7",
   "metadata": {},
   "source": [
    "# Using .strip() and .replace() string methods\n",
    "May want to transform strings by adding or removing spaces. This can be done with the strip() command\n",
    "\n",
    ".lstrip(): removes spaces from far left .rstrip(): removes spaces from far right .strip(): removes spaces from the left and right of the text object"
   ]
  },
  {
   "cell_type": "code",
   "execution_count": 12,
   "id": "6147abd1",
   "metadata": {},
   "outputs": [
    {
     "name": "stdout",
     "output_type": "stream",
     "text": [
      "No spaces removed:\n",
      "    Look at the spaces in the text!    \n",
      "Removed left spaces: Look at the spaces in the text!    \n",
      "Removed right spaces:     Look at the spaces in the text!\n",
      "Removed left and right spaces: Look at the spaces in the text!\n",
      "removed all spaces: Lookatthespacesinthetext!\n",
      "Capitalize all first letters Look At The Spaces In The Text!    \n"
     ]
    }
   ],
   "source": [
    "spaces = \"    Look at the spaces in the text!    \"\n",
    "print(\"No spaces removed:\", spaces, sep = \"\\n\")\n",
    "\n",
    "remove_left_spaces = spaces.lstrip()\n",
    "remove_right_spaces = spaces.rstrip()\n",
    "remove_left_and_right_spaces = spaces.strip()\n",
    "remove_all_spaces = spaces.replace(\" \",\"\")\n",
    "\n",
    "print(\"Removed left spaces:\", remove_left_spaces)\n",
    "print(\"Removed right spaces:\", remove_right_spaces)\n",
    "print(\"Removed left and right spaces:\", remove_left_and_right_spaces)\n",
    "print(\"removed all spaces:\", remove_all_spaces)\n",
    "\n",
    "print(\"Capitalize all first letters\", remove_left_spaces.title())"
   ]
  },
  {
   "cell_type": "markdown",
   "id": "d8cc31fa",
   "metadata": {},
   "source": [
    "# Integers/Values\n",
    "Make sure to use int here and not str. Won't be correct because this concatenates the strings"
   ]
  },
  {
   "cell_type": "code",
   "execution_count": 13,
   "id": "b00a348c",
   "metadata": {},
   "outputs": [
    {
     "name": "stdout",
     "output_type": "stream",
     "text": [
      "num1: 8 \n",
      "num1string: 53\n"
     ]
    }
   ],
   "source": [
    "num1 = 5 + 3\n",
    "num1string = \"5\" + \"3\"\n",
    "\n",
    "print(\"num1:\", num1, \"\\nnum1string:\", num1string)"
   ]
  },
  {
   "cell_type": "markdown",
   "id": "d1bb86e8",
   "metadata": {},
   "source": [
    "Automatically turns int into floats which gives the correct values if output generates a float. This includes if a float and an int are together."
   ]
  },
  {
   "cell_type": "code",
   "execution_count": 14,
   "id": "40bad8f1",
   "metadata": {},
   "outputs": [
    {
     "name": "stdout",
     "output_type": "stream",
     "text": [
      "num1: 1.6666666666666667 \n",
      "num2: 1.25 \n",
      "num3: 1.3333333333333333\n"
     ]
    }
   ],
   "source": [
    "num1 = 5/3\n",
    "num2 = 5/4\n",
    "num3 = 4/3\n",
    "\n",
    "print(\"num1:\", num1, \"\\nnum2:\", num2, \"\\nnum3:\", num3)"
   ]
  },
  {
   "cell_type": "markdown",
   "id": "893a4216",
   "metadata": {},
   "source": [
    "Type will tell what input is"
   ]
  },
  {
   "cell_type": "code",
   "execution_count": 15,
   "id": "6b71f54d",
   "metadata": {},
   "outputs": [
    {
     "data": {
      "text/plain": [
       "float"
      ]
     },
     "execution_count": 15,
     "metadata": {},
     "output_type": "execute_result"
    }
   ],
   "source": [
    "type(num1)"
   ]
  },
  {
   "cell_type": "code",
   "execution_count": 16,
   "id": "9c7f6675",
   "metadata": {},
   "outputs": [
    {
     "data": {
      "text/plain": [
       "int"
      ]
     },
     "execution_count": 16,
     "metadata": {},
     "output_type": "execute_result"
    }
   ],
   "source": [
    "type(3)"
   ]
  },
  {
   "cell_type": "code",
   "execution_count": 19,
   "id": "0a94c9bd",
   "metadata": {},
   "outputs": [
    {
     "data": {
      "text/plain": [
       "3.0"
      ]
     },
     "execution_count": 19,
     "metadata": {},
     "output_type": "execute_result"
    }
   ],
   "source": [
    "float(3)"
   ]
  },
  {
   "cell_type": "code",
   "execution_count": 20,
   "id": "22525964",
   "metadata": {},
   "outputs": [
    {
     "data": {
      "text/plain": [
       "4.5"
      ]
     },
     "execution_count": 20,
     "metadata": {},
     "output_type": "execute_result"
    }
   ],
   "source": [
    "3 + 1.5"
   ]
  },
  {
   "cell_type": "code",
   "execution_count": 21,
   "id": "c620b225",
   "metadata": {},
   "outputs": [
    {
     "data": {
      "text/plain": [
       "float"
      ]
     },
     "execution_count": 21,
     "metadata": {},
     "output_type": "execute_result"
    }
   ],
   "source": [
    "type(1.5)"
   ]
  },
  {
   "cell_type": "code",
   "execution_count": 22,
   "id": "26913a18",
   "metadata": {},
   "outputs": [
    {
     "data": {
      "text/plain": [
       "float"
      ]
     },
     "execution_count": 22,
     "metadata": {},
     "output_type": "execute_result"
    }
   ],
   "source": [
    "type(3 + 1.5)"
   ]
  },
  {
   "cell_type": "markdown",
   "id": "b5d7efee",
   "metadata": {},
   "source": [
    "import command is used to import a module"
   ]
  },
  {
   "cell_type": "code",
   "execution_count": 23,
   "id": "ddbf2578",
   "metadata": {},
   "outputs": [
    {
     "name": "stdout",
     "output_type": "stream",
     "text": [
      "sys.float_info(max=1.7976931348623157e+308, max_exp=1024, max_10_exp=308, min=2.2250738585072014e-308, min_exp=-1021, min_10_exp=-307, dig=15, mant_dig=53, epsilon=2.220446049250313e-16, radix=2, rounds=1)\n"
     ]
    }
   ],
   "source": [
    "import sys\n",
    "\n",
    "print(sys.float_info)"
   ]
  },
  {
   "cell_type": "code",
   "execution_count": 24,
   "id": "bff15262",
   "metadata": {},
   "outputs": [
    {
     "data": {
      "text/plain": [
       "8.98846567431158e+307"
      ]
     },
     "execution_count": 24,
     "metadata": {},
     "output_type": "execute_result"
    }
   ],
   "source": [
    "2. ** 1023"
   ]
  },
  {
   "cell_type": "markdown",
   "id": "059cac3b",
   "metadata": {},
   "source": [
    "2. ** 1024 is too large for the data structure, so there is an error"
   ]
  },
  {
   "cell_type": "code",
   "execution_count": 25,
   "id": "e1a3e101",
   "metadata": {},
   "outputs": [
    {
     "ename": "OverflowError",
     "evalue": "(34, 'Result too large')",
     "output_type": "error",
     "traceback": [
      "\u001b[1;31m---------------------------------------------------------------------------\u001b[0m",
      "\u001b[1;31mOverflowError\u001b[0m                             Traceback (most recent call last)",
      "\u001b[1;32m<ipython-input-25-b5418d78437f>\u001b[0m in \u001b[0;36m<module>\u001b[1;34m\u001b[0m\n\u001b[1;32m----> 1\u001b[1;33m \u001b[1;36m2.\u001b[0m \u001b[1;33m**\u001b[0m \u001b[1;36m1024\u001b[0m\u001b[1;33m\u001b[0m\u001b[1;33m\u001b[0m\u001b[0m\n\u001b[0m",
      "\u001b[1;31mOverflowError\u001b[0m: (34, 'Result too large')"
     ]
    }
   ],
   "source": [
    "2. ** 1024"
   ]
  },
  {
   "cell_type": "code",
   "execution_count": null,
   "id": "1641c33e",
   "metadata": {},
   "outputs": [],
   "source": []
  }
 ],
 "metadata": {
  "kernelspec": {
   "display_name": "Python 3",
   "language": "python",
   "name": "python3"
  },
  "language_info": {
   "codemirror_mode": {
    "name": "ipython",
    "version": 3
   },
   "file_extension": ".py",
   "mimetype": "text/x-python",
   "name": "python",
   "nbconvert_exporter": "python",
   "pygments_lexer": "ipython3",
   "version": "3.8.8"
  }
 },
 "nbformat": 4,
 "nbformat_minor": 5
}
