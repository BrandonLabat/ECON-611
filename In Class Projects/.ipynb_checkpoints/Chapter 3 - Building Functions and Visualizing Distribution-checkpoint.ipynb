{
 "cells": [
  {
   "cell_type": "markdown",
   "id": "f4b19d51",
   "metadata": {},
   "source": [
    "# Project 5: Building Functions and Visualizing Distribution"
   ]
  },
  {
   "cell_type": "markdown",
   "id": "bd3d2d35",
   "metadata": {},
   "source": [
    "## Building Functions"
   ]
  },
  {
   "cell_type": "code",
   "execution_count": 23,
   "id": "606eca24",
   "metadata": {},
   "outputs": [],
   "source": [
    "def total(lst_obj):\n",
    "    total = 0\n",
    "    n = len(lst_obj)\n",
    "    for i in range(n):\n",
    "        total += lst_obj[i]\n",
    "        # Use below code to print total after each i is added\n",
    "        #print(i, total)\n",
    "    return total\n",
    "\n",
    "def mean(lst_obj):\n",
    "    n = len(lst_obj)\n",
    "    mean_ = total(lst_obj) / n\n",
    "    return mean_\n",
    "\n",
    "def median(lst_obj):\n",
    "    n = len(lst_obj)\n",
    "    lst_obj = sorted(lst_obj)\n",
    "    if n % 2 != 0:\n",
    "        # Uses if list length is odd\n",
    "        middle_index = int((n - 1) / 2)\n",
    "        median_ = lst_obj[middle_index]\n",
    "    else:\n",
    "        upper_middle_index = int(n / 2)\n",
    "        lower_middle_index = upper_middle_index - 1\n",
    "        # Passes slice with two middle values to mean()\n",
    "        median_ = mean(lst_object[lower_middle_index : upper_middle_index + 1])\n",
    "    return median_\n",
    "\n",
    "def mode(lst_obj):\n",
    "    # To record values that appear the most\n",
    "    max_count = 0\n",
    "    counter_dict = {}\n",
    "    for value in lst_obj:\n",
    "        counter_dict[value] = 0\n",
    "    for value in lst_obj:\n",
    "        counter_dict[value] += 1\n",
    "    count_list = list(counter_dict.values())\n",
    "    max_count = max(count_list)\n",
    "    mode_ = [key for key in counter_dict if counter_dict[key] == max_count]\n",
    "    \n",
    "    return mode_\n"
   ]
  },
  {
   "cell_type": "code",
   "execution_count": 24,
   "id": "cd116c9d",
   "metadata": {},
   "outputs": [
    {
     "name": "stdout",
     "output_type": "stream",
     "text": [
      "total: 27\n",
      "mean: 3.857142857142857\n",
      "median: 4\n",
      "mode: [4]\n"
     ]
    }
   ],
   "source": [
    "lst = [1, 2, 3, 4, 5, 8, 4]\n",
    "print(\"total:\", total(lst))\n",
    "print(\"mean:\", mean(lst))\n",
    "print(\"median:\", median(lst))\n",
    "print(\"mode:\", mode(lst))"
   ]
  },
  {
   "cell_type": "code",
   "execution_count": null,
   "id": "aebe6094",
   "metadata": {},
   "outputs": [],
   "source": []
  }
 ],
 "metadata": {
  "kernelspec": {
   "display_name": "Python 3",
   "language": "python",
   "name": "python3"
  },
  "language_info": {
   "codemirror_mode": {
    "name": "ipython",
    "version": 3
   },
   "file_extension": ".py",
   "mimetype": "text/x-python",
   "name": "python",
   "nbconvert_exporter": "python",
   "pygments_lexer": "ipython3",
   "version": "3.8.8"
  }
 },
 "nbformat": 4,
 "nbformat_minor": 5
}
