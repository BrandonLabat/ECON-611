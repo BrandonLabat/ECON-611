{
 "cells": [
  {
   "cell_type": "markdown",
   "id": "ee4f7e4d",
   "metadata": {},
   "source": [
    "# Dictionaries and Dataframes\n",
    "\n",
    "Building dictionaries: These do not assume an index value for the data stored in the structures, unlike lists. Can hold any type of object.\n",
    "\n",
    "Dictionaries take the general form:\n",
    "\n",
    "> my_dictionary = {key:obj}\n",
    "\n",
    "To call the object that is linked to the key,\n",
    "\n",
    "> my_dictionanary[key] will ouput the object, obj."
   ]
  },
  {
   "cell_type": "code",
   "execution_count": 1,
   "id": "b85d5890",
   "metadata": {},
   "outputs": [
    {
     "data": {
      "text/plain": [
       "{}"
      ]
     },
     "execution_count": 1,
     "metadata": {},
     "output_type": "execute_result"
    }
   ],
   "source": [
    "dct = {}\n",
    "dct"
   ]
  },
  {
   "cell_type": "code",
   "execution_count": 2,
   "id": "957d061a",
   "metadata": {},
   "outputs": [
    {
     "data": {
      "text/plain": [
       "{'run': {}, 'walk': {}}"
      ]
     },
     "execution_count": 2,
     "metadata": {},
     "output_type": "execute_result"
    }
   ],
   "source": [
    "dct = {\"run\":{},\n",
    "       \"walk\":{}}\n",
    "\n",
    "dct"
   ]
  },
  {
   "cell_type": "code",
   "execution_count": 4,
   "id": "1c6df468",
   "metadata": {},
   "outputs": [
    {
     "data": {
      "text/plain": [
       "{'run': 'to move swiftly by foot',\n",
       " 'walk': 'to move slowly or leisurely by foot'}"
      ]
     },
     "execution_count": 4,
     "metadata": {},
     "output_type": "execute_result"
    }
   ],
   "source": [
    "dct = {\"run\": \"to move swiftly by foot\",\n",
    "       \"walk\": \"to move slowly or leisurely by foot\"}\n",
    "\n",
    "dct"
   ]
  },
  {
   "cell_type": "markdown",
   "id": "e403c4ab",
   "metadata": {},
   "source": [
    "Create a different dictionary for each entry if you want to include multiple defintions for each word."
   ]
  },
  {
   "cell_type": "code",
   "execution_count": 7,
   "id": "44e9be8a",
   "metadata": {},
   "outputs": [
    {
     "data": {
      "text/plain": [
       "{'run': {'verb': 'to move swifty by foot',\n",
       "  'noun': 'a period of time while one was moving swiftly by foot'},\n",
       " 'walk': {'verb': 'to move slowly or leisurely by foot',\n",
       "  'noun': 'a period of time while one was slowly moving by foot'}}"
      ]
     },
     "execution_count": 7,
     "metadata": {},
     "output_type": "execute_result"
    }
   ],
   "source": [
    "dct = {\"run\": {\n",
    "       \"verb\": \"to move swifty by foot\",\n",
    "       \"noun\": \"a period of time while one was moving swiftly by foot\"}, \n",
    "       # ctrl alt switches between commented and code\n",
    "       \"walk\": {\n",
    "       \"verb\": \"to move slowly or leisurely by foot\",\n",
    "       \"noun\": \"a period of time while one was slowly moving by foot\"}\n",
    "      }\n",
    "\n",
    "dct"
   ]
  },
  {
   "cell_type": "markdown",
   "id": "797c1c28",
   "metadata": {},
   "source": [
    "# Importing Pandas (Dataframe)"
   ]
  },
  {
   "cell_type": "code",
   "execution_count": 11,
   "id": "0f30634c",
   "metadata": {},
   "outputs": [
    {
     "data": {
      "text/html": [
       "<div>\n",
       "<style scoped>\n",
       "    .dataframe tbody tr th:only-of-type {\n",
       "        vertical-align: middle;\n",
       "    }\n",
       "\n",
       "    .dataframe tbody tr th {\n",
       "        vertical-align: top;\n",
       "    }\n",
       "\n",
       "    .dataframe thead th {\n",
       "        text-align: right;\n",
       "    }\n",
       "</style>\n",
       "<table border=\"1\" class=\"dataframe\">\n",
       "  <thead>\n",
       "    <tr style=\"text-align: right;\">\n",
       "      <th></th>\n",
       "      <th>run</th>\n",
       "      <th>walk</th>\n",
       "    </tr>\n",
       "  </thead>\n",
       "  <tbody>\n",
       "    <tr>\n",
       "      <th>verb</th>\n",
       "      <td>to move swifty by foot</td>\n",
       "      <td>to move slowly or leisurely by foot</td>\n",
       "    </tr>\n",
       "    <tr>\n",
       "      <th>noun</th>\n",
       "      <td>a period of time while one was moving swiftly ...</td>\n",
       "      <td>a period of time while one was slowly moving b...</td>\n",
       "    </tr>\n",
       "  </tbody>\n",
       "</table>\n",
       "</div>"
      ],
      "text/plain": [
       "                                                    run  \\\n",
       "verb                             to move swifty by foot   \n",
       "noun  a period of time while one was moving swiftly ...   \n",
       "\n",
       "                                                   walk  \n",
       "verb                to move slowly or leisurely by foot  \n",
       "noun  a period of time while one was slowly moving b...  "
      ]
     },
     "execution_count": 11,
     "metadata": {},
     "output_type": "execute_result"
    }
   ],
   "source": [
    "import pandas as pd\n",
    "df = pd.DataFrame(dct)\n",
    "df"
   ]
  },
  {
   "cell_type": "code",
   "execution_count": 23,
   "id": "a67f4708",
   "metadata": {},
   "outputs": [
    {
     "data": {
      "text/plain": [
       "verb                               to move swifty by foot\n",
       "noun    a period of time while one was moving swiftly ...\n",
       "Name: run, dtype: object"
      ]
     },
     "execution_count": 23,
     "metadata": {},
     "output_type": "execute_result"
    }
   ],
   "source": [
    "# Call a column in the df\n",
    "df[\"run\"]"
   ]
  },
  {
   "cell_type": "code",
   "execution_count": 22,
   "id": "a1863b5c",
   "metadata": {},
   "outputs": [
    {
     "data": {
      "text/plain": [
       "run                  to move swifty by foot\n",
       "walk    to move slowly or leisurely by foot\n",
       "Name: verb, dtype: object"
      ]
     },
     "execution_count": 22,
     "metadata": {},
     "output_type": "execute_result"
    }
   ],
   "source": [
    "# Call a row in the df\n",
    "# Goes row then column\n",
    "df.loc[\"verb\"]"
   ]
  },
  {
   "cell_type": "code",
   "execution_count": 24,
   "id": "8dad9690",
   "metadata": {},
   "outputs": [
    {
     "data": {
      "text/plain": [
       "'to move swifty by foot'"
      ]
     },
     "execution_count": 24,
     "metadata": {},
     "output_type": "execute_result"
    }
   ],
   "source": [
    "# Call a particular cell\n",
    "df.loc[\"verb\", \"run\"]"
   ]
  },
  {
   "cell_type": "code",
   "execution_count": 15,
   "id": "f003cca5",
   "metadata": {},
   "outputs": [
    {
     "data": {
      "text/plain": [
       "{'Caden': {'Age': 19, 'Interesting Fact': 'Played hockey'},\n",
       " 'Jacob P': {'Age': 21,\n",
       "  'Interesting Fact': 'Dr. Caton though wrong last name'},\n",
       " 'Finnian': {'Age': 21, 'Interesting Fact': 'Wrestled in highschool'},\n",
       " 'Genesis': {'Age': 20, 'Interesting Fact': 'Torn both ACLs'},\n",
       " 'Sam': {'Age': 23, 'Interesting Fact': 'Favorite color is beige'},\n",
       " 'Proma:': {'Age': 24,\n",
       "  'Interesting Fact': 'Learned classical dancing for 10 years'},\n",
       " 'Zach': {'Age': 20,\n",
       "  'Interesting Fact': 'On track and field team for long-distance'},\n",
       " 'Jacob R': {'Age': 20, 'Interesting Fact': 'Play guitar'},\n",
       " 'Brandon': {'Age': 23, 'Interesting Fact': 'Played baseball'},\n",
       " 'Gabe': {'Age': 23,\n",
       "  'Interesting Fact': 'Double major for MIS and Accounting'},\n",
       " 'Drew': {'Age': 49, 'Interesting Fact': 'Air Force veteran and freed Willy'},\n",
       " 'Isaac': {'Age': 21, 'Interesting Fact': 'Traveling to Europe in the Summer'},\n",
       " 'Kodjo': {'Age': 30, 'Interesting Fact': 'Wife is a soldier'}}"
      ]
     },
     "execution_count": 15,
     "metadata": {},
     "output_type": "execute_result"
    }
   ],
   "source": [
    "dct = {\"Caden\":{\"Age\":19,\n",
    "               \"Interesting Fact\":\"Played hockey\"},\n",
    "       \"Jacob P\":{\"Age\":21,\n",
    "               \"Interesting Fact\":\"Dr. Caton though wrong last name\"},\n",
    "       \"Finnian\":{\"Age\":21,\n",
    "               \"Interesting Fact\":\"Wrestled in highschool\"},\n",
    "       \"Genesis\":{\"Age\":20,\n",
    "               \"Interesting Fact\":\"Torn both ACLs\"},\n",
    "       \"Sam\":{\"Age\":23,\n",
    "               \"Interesting Fact\":\"Favorite color is beige\"},\n",
    "       \"Proma:\":{\"Age\":24,\n",
    "               \"Interesting Fact\":\"Learned classical dancing for 10 years\"},\n",
    "       \"Zach\":{\"Age\":20,\n",
    "               \"Interesting Fact\":\"On track and field team for long-distance\"},\n",
    "       \"Jacob R\":{\"Age\":20,\n",
    "               \"Interesting Fact\":\"Play guitar\"},\n",
    "       \"Brandon\":{\"Age\":23,\n",
    "               \"Interesting Fact\":\"Played baseball\"},\n",
    "       \"Gabe\":{\"Age\":23,\n",
    "               \"Interesting Fact\":\"Double major for MIS and Accounting\"},\n",
    "       \"Drew\":{\"Age\":49,\n",
    "               \"Interesting Fact\":\"Air Force veteran and freed Willy\"},\n",
    "       \"Isaac\":{\"Age\":21,\n",
    "               \"Interesting Fact\":\"Traveling to Europe in the Summer\"},\n",
    "       \"Kodjo\":{\"Age\":30,\n",
    "               \"Interesting Fact\":\"Wife is a soldier\"}\n",
    "      }\n",
    "dct"
   ]
  },
  {
   "cell_type": "code",
   "execution_count": 25,
   "id": "4de58891",
   "metadata": {},
   "outputs": [
    {
     "data": {
      "text/html": [
       "<div>\n",
       "<style scoped>\n",
       "    .dataframe tbody tr th:only-of-type {\n",
       "        vertical-align: middle;\n",
       "    }\n",
       "\n",
       "    .dataframe tbody tr th {\n",
       "        vertical-align: top;\n",
       "    }\n",
       "\n",
       "    .dataframe thead th {\n",
       "        text-align: right;\n",
       "    }\n",
       "</style>\n",
       "<table border=\"1\" class=\"dataframe\">\n",
       "  <thead>\n",
       "    <tr style=\"text-align: right;\">\n",
       "      <th></th>\n",
       "      <th>Age</th>\n",
       "      <th>Interesting Fact</th>\n",
       "    </tr>\n",
       "  </thead>\n",
       "  <tbody>\n",
       "    <tr>\n",
       "      <th>Caden</th>\n",
       "      <td>19</td>\n",
       "      <td>Played hockey</td>\n",
       "    </tr>\n",
       "    <tr>\n",
       "      <th>Jacob P</th>\n",
       "      <td>21</td>\n",
       "      <td>Dr. Caton though wrong last name</td>\n",
       "    </tr>\n",
       "    <tr>\n",
       "      <th>Finnian</th>\n",
       "      <td>21</td>\n",
       "      <td>Wrestled in highschool</td>\n",
       "    </tr>\n",
       "    <tr>\n",
       "      <th>Genesis</th>\n",
       "      <td>20</td>\n",
       "      <td>Torn both ACLs</td>\n",
       "    </tr>\n",
       "    <tr>\n",
       "      <th>Sam</th>\n",
       "      <td>23</td>\n",
       "      <td>Favorite color is beige</td>\n",
       "    </tr>\n",
       "    <tr>\n",
       "      <th>Proma:</th>\n",
       "      <td>24</td>\n",
       "      <td>Learned classical dancing for 10 years</td>\n",
       "    </tr>\n",
       "    <tr>\n",
       "      <th>Zach</th>\n",
       "      <td>20</td>\n",
       "      <td>On track and field team for long-distance</td>\n",
       "    </tr>\n",
       "    <tr>\n",
       "      <th>Jacob R</th>\n",
       "      <td>20</td>\n",
       "      <td>Play guitar</td>\n",
       "    </tr>\n",
       "    <tr>\n",
       "      <th>Brandon</th>\n",
       "      <td>23</td>\n",
       "      <td>Played baseball</td>\n",
       "    </tr>\n",
       "    <tr>\n",
       "      <th>Gabe</th>\n",
       "      <td>23</td>\n",
       "      <td>Double major for MIS and Accounting</td>\n",
       "    </tr>\n",
       "    <tr>\n",
       "      <th>Drew</th>\n",
       "      <td>49</td>\n",
       "      <td>Air Force veteran and freed Willy</td>\n",
       "    </tr>\n",
       "    <tr>\n",
       "      <th>Isaac</th>\n",
       "      <td>21</td>\n",
       "      <td>Traveling to Europe in the Summer</td>\n",
       "    </tr>\n",
       "    <tr>\n",
       "      <th>Kodjo</th>\n",
       "      <td>30</td>\n",
       "      <td>Wife is a soldier</td>\n",
       "    </tr>\n",
       "  </tbody>\n",
       "</table>\n",
       "</div>"
      ],
      "text/plain": [
       "        Age                           Interesting Fact\n",
       "Caden    19                              Played hockey\n",
       "Jacob P  21           Dr. Caton though wrong last name\n",
       "Finnian  21                     Wrestled in highschool\n",
       "Genesis  20                             Torn both ACLs\n",
       "Sam      23                    Favorite color is beige\n",
       "Proma:   24     Learned classical dancing for 10 years\n",
       "Zach     20  On track and field team for long-distance\n",
       "Jacob R  20                                Play guitar\n",
       "Brandon  23                            Played baseball\n",
       "Gabe     23        Double major for MIS and Accounting\n",
       "Drew     49          Air Force veteran and freed Willy\n",
       "Isaac    21          Traveling to Europe in the Summer\n",
       "Kodjo    30                          Wife is a soldier"
      ]
     },
     "execution_count": 25,
     "metadata": {},
     "output_type": "execute_result"
    }
   ],
   "source": [
    "# Transpose the dataframe by calling df.T\n",
    "class_df = pd.DataFrame(dct).T\n",
    "\n",
    "class_df"
   ]
  },
  {
   "cell_type": "code",
   "execution_count": 27,
   "id": "c3513387",
   "metadata": {},
   "outputs": [
    {
     "data": {
      "text/plain": [
       "Index(['Caden', 'Jacob P', 'Finnian', 'Genesis', 'Sam', 'Proma:', 'Zach',\n",
       "       'Jacob R', 'Brandon', 'Gabe', 'Drew', 'Isaac', 'Kodjo'],\n",
       "      dtype='object')"
      ]
     },
     "execution_count": 27,
     "metadata": {},
     "output_type": "execute_result"
    }
   ],
   "source": [
    "# index calls all names in the df\n",
    "class_df.index"
   ]
  },
  {
   "cell_type": "code",
   "execution_count": 28,
   "id": "7d1125b0",
   "metadata": {},
   "outputs": [
    {
     "data": {
      "text/plain": [
       "Caden      19\n",
       "Jacob P    21\n",
       "Finnian    21\n",
       "Genesis    20\n",
       "Sam        23\n",
       "Proma:     24\n",
       "Zach       20\n",
       "Jacob R    20\n",
       "Brandon    23\n",
       "Gabe       23\n",
       "Drew       49\n",
       "Isaac      21\n",
       "Kodjo      30\n",
       "Name: Age, dtype: object"
      ]
     },
     "execution_count": 28,
     "metadata": {},
     "output_type": "execute_result"
    }
   ],
   "source": [
    "class_df[\"Age\"]"
   ]
  },
  {
   "cell_type": "code",
   "execution_count": 36,
   "id": "781f973b",
   "metadata": {},
   "outputs": [],
   "source": [
    "# How to add another entry\n",
    "dct[\"Dr. Caton\"] = {}\n",
    "dct[\"Dr. Caton\"] [\"Age\"] = None\n",
    "dct[\"Dr. Caton\"] [\"Interesting Fact\"] = \"Used to ride dirtbikes\""
   ]
  },
  {
   "cell_type": "code",
   "execution_count": 38,
   "id": "03d7eca8",
   "metadata": {},
   "outputs": [],
   "source": [
    "# Another way to add an entry\n",
    "# Can add another column here as well - Will give NaN values for all others\n",
    "dct[\"Joe Biden\"] = {\"Age\": 78,\n",
    "                   \"Interesting Fact\":\"Enjoys Mario Kart\"}"
   ]
  },
  {
   "cell_type": "code",
   "execution_count": 37,
   "id": "49828160",
   "metadata": {},
   "outputs": [
    {
     "data": {
      "text/html": [
       "<div>\n",
       "<style scoped>\n",
       "    .dataframe tbody tr th:only-of-type {\n",
       "        vertical-align: middle;\n",
       "    }\n",
       "\n",
       "    .dataframe tbody tr th {\n",
       "        vertical-align: top;\n",
       "    }\n",
       "\n",
       "    .dataframe thead th {\n",
       "        text-align: right;\n",
       "    }\n",
       "</style>\n",
       "<table border=\"1\" class=\"dataframe\">\n",
       "  <thead>\n",
       "    <tr style=\"text-align: right;\">\n",
       "      <th></th>\n",
       "      <th>Age</th>\n",
       "      <th>Interesting Fact</th>\n",
       "    </tr>\n",
       "  </thead>\n",
       "  <tbody>\n",
       "    <tr>\n",
       "      <th>Caden</th>\n",
       "      <td>19</td>\n",
       "      <td>Played hockey</td>\n",
       "    </tr>\n",
       "    <tr>\n",
       "      <th>Jacob P</th>\n",
       "      <td>21</td>\n",
       "      <td>Dr. Caton though wrong last name</td>\n",
       "    </tr>\n",
       "    <tr>\n",
       "      <th>Finnian</th>\n",
       "      <td>21</td>\n",
       "      <td>Wrestled in highschool</td>\n",
       "    </tr>\n",
       "    <tr>\n",
       "      <th>Genesis</th>\n",
       "      <td>20</td>\n",
       "      <td>Torn both ACLs</td>\n",
       "    </tr>\n",
       "    <tr>\n",
       "      <th>Sam</th>\n",
       "      <td>23</td>\n",
       "      <td>Favorite color is beige</td>\n",
       "    </tr>\n",
       "    <tr>\n",
       "      <th>Proma:</th>\n",
       "      <td>24</td>\n",
       "      <td>Learned classical dancing for 10 years</td>\n",
       "    </tr>\n",
       "    <tr>\n",
       "      <th>Zach</th>\n",
       "      <td>20</td>\n",
       "      <td>On track and field team for long-distance</td>\n",
       "    </tr>\n",
       "    <tr>\n",
       "      <th>Jacob R</th>\n",
       "      <td>20</td>\n",
       "      <td>Play guitar</td>\n",
       "    </tr>\n",
       "    <tr>\n",
       "      <th>Brandon</th>\n",
       "      <td>23</td>\n",
       "      <td>Played baseball</td>\n",
       "    </tr>\n",
       "    <tr>\n",
       "      <th>Gabe</th>\n",
       "      <td>23</td>\n",
       "      <td>Double major for MIS and Accounting</td>\n",
       "    </tr>\n",
       "    <tr>\n",
       "      <th>Drew</th>\n",
       "      <td>49</td>\n",
       "      <td>Air Force veteran and freed Willy</td>\n",
       "    </tr>\n",
       "    <tr>\n",
       "      <th>Isaac</th>\n",
       "      <td>21</td>\n",
       "      <td>Traveling to Europe in the Summer</td>\n",
       "    </tr>\n",
       "    <tr>\n",
       "      <th>Kodjo</th>\n",
       "      <td>30</td>\n",
       "      <td>Wife is a soldier</td>\n",
       "    </tr>\n",
       "    <tr>\n",
       "      <th>Dr. Caton</th>\n",
       "      <td>None</td>\n",
       "      <td>Used to ride dirtbikes</td>\n",
       "    </tr>\n",
       "    <tr>\n",
       "      <th>Joe Biden</th>\n",
       "      <td>78</td>\n",
       "      <td>Enjoys Mario Kart</td>\n",
       "    </tr>\n",
       "  </tbody>\n",
       "</table>\n",
       "</div>"
      ],
      "text/plain": [
       "            Age                           Interesting Fact\n",
       "Caden        19                              Played hockey\n",
       "Jacob P      21           Dr. Caton though wrong last name\n",
       "Finnian      21                     Wrestled in highschool\n",
       "Genesis      20                             Torn both ACLs\n",
       "Sam          23                    Favorite color is beige\n",
       "Proma:       24     Learned classical dancing for 10 years\n",
       "Zach         20  On track and field team for long-distance\n",
       "Jacob R      20                                Play guitar\n",
       "Brandon      23                            Played baseball\n",
       "Gabe         23        Double major for MIS and Accounting\n",
       "Drew         49          Air Force veteran and freed Willy\n",
       "Isaac        21          Traveling to Europe in the Summer\n",
       "Kodjo        30                          Wife is a soldier\n",
       "Dr. Caton  None                     Used to ride dirtbikes\n",
       "Joe Biden    78                          Enjoys Mario Kart"
      ]
     },
     "execution_count": 37,
     "metadata": {},
     "output_type": "execute_result"
    }
   ],
   "source": [
    "# Transposes the data\n",
    "pd.DataFrame(dct).T"
   ]
  },
  {
   "cell_type": "code",
   "execution_count": 40,
   "id": "772b0e1e",
   "metadata": {},
   "outputs": [
    {
     "data": {
      "text/plain": [
       "Age                 object\n",
       "Interesting Fact    object\n",
       "dtype: object"
      ]
     },
     "execution_count": 40,
     "metadata": {},
     "output_type": "execute_result"
    }
   ],
   "source": [
    "# To check data types\n",
    "class_df.dtypes"
   ]
  },
  {
   "cell_type": "code",
   "execution_count": null,
   "id": "619bbf6f",
   "metadata": {},
   "outputs": [],
   "source": [
    "faculty_dict = {\"William Nganje\":{\"Website\":\"https://www.ndsu.edu/agecon/faculty/william_nganje/#c622350\", \n",
    "                                     \"Areas of Specialization\":\"Risk management; financial analysis; economics of obesity, food safety and food terrorism; experimental economics; and consumer choice theory\",\n",
    "                                     \"Bio\":\"NA\"},\n",
    "                 \"David Bullock\": {\"Website\":\"https://www.ndsu.edu/agecon/faculty/bullock/#c622728\",\n",
    "                                    \"Areas of Specialization\": \"futures and options markets, over-the-counter derivatives, trading, risk management, agrifinance, Monte Carlo simulation, and Big Data\",\n",
    "                                    \"Bio\":\"Dr. David W. Bullock is a Research Associate Professor affiliated with the Center for Trading and Risk at NDSU.  His research interests include futures and options markets, over-the-counter derivatives, trading, risk management, agrifinance, Monte Carlo simulation, and Big Data applications in agriculture.  His academic research in option portfolio theory has been published in both the Journal of Economics and Business and the International Review of Economics and Finance.  Additionally, he was the primary contributor behind the AgriBank Insights publication series which won a National AgriMarketing Association (NAMA) award for the best company publication in 2016. Before coming to NDSU in January 2018, Dr. Bullock held numerous positions for over 25 years in the government and private sectors including the Senior Economist at AgriBank FCB – the regional Farm Credit System funding bank for the Upper Midwest region, Director of Research and Senior Foods Economist at Fortune 500 commodity risk management firm INTL FCStone Inc., the Senior Dairy Analyst at Informa Economics, a Risk Management Specialist with the Minnesota Department of Agriculture, and the Senior Economist at the Minneapolis Grain Exchange. David began his academic career as an Assistant Professor and Extension Marketing Economist at Montana State University after graduating from Iowa State University with a Ph.D. in agricultural economics with fields in agricultural price analysis and econometrics in 1989.  Prior to entering ISU, he received bachelor’s (1982) and master’s (1984) degrees in agricultural economics from Northwest Missouri State University. Dr. Bullock is originally from the small northwestern Missouri farming community of Lathrop which is located 40 miles north of the Kansas City metropolitan area.  While in high school, he served as a regional state Vice-President in the Future Farmers of America (FFA) during his senior year.\"},\n",
    "                 \"James Caton\": {\"Website\":\"https://www.ndsu.edu/centers/pcpe/about/directory/james_caton/\",\n",
    "                                 \"Areas of Specialization\": \"Entrepreneurship, Institutions, Macroeconomics, Computation\",\n",
    "                                 \"Bio\":\"James Caton is a faculty fellow at the NDSU Center for the Study of Public Choice and Private Enterprise (PCPE) and an assistant professor in the NDSU Department of Agribusiness and Applied Economics. He teaches undergraduate courses in the areas of macroeconomics, international trade, and computation. He specializes in research related to entrepreneurship, agent-based computational economics, market process theory, and monetary economics. His research has been published in the Southern Economic Journal, Erasmus Journal for Philosophy and Economics, Journal of Entrepreneurship and Public Policy and other academic publications. He co-edited Macroeconomics, a two volume set of essays and primary sources that represent the core of macroeconomic thought. He is also a regular contributor to the American Institute for Economic Research's Sound Money Project, which conducts research and promotes awareness about monetary stability and financial privacy. He resides in Fargo with his wife, Ingrid, and their children.\"},\n",
    "                 \"David Englund\": {\"Website\":\"https://www.ndsu.edu/agecon/faculty/englund/#c622903\",\n",
    "                                 \"Areas of Specialization\": \"Teaches Economic Principles, Led NDSU NAMA to National Champions\",\n",
    "                                 \"Bio\":\"David Englund is a lecturer in the department.  He came to the department with 16 years of teaching experience, having taught Principles of Microeconomics, Principles of Macroeconomics, Money and Banking, Consumer Behavior, Selected Topics in Business, and several other classes.  He also had 10 years’ experience advising student NAMA chapters, having been awarded the Outstanding Advisor of the Year for a Developing Chapter in 2002, and the Outstanding Advisor of the Year award in 2009.\\nDavid primarily teaches Survey of Economics, Principles of Microeconomics, Skills for Academic Success, Agricultural Marketing, and NAMA (co-teaches).  He joined the NAMA team in the 2014-2015 school year as a co-advisor and helped coach the student team to a 3rd place finish in the national student marketing plan competition at the national conference.\\nSome of David’s outside interests are jogging, photography, and writing fiction novels.  His latest release, Camouflaged Encounters has received positive reviews.\"},\n",
    "                 \"Erik Hanson\": {\"Website\":\"https://www.ndsu.edu/agecon/faculty/hanson/#c622905\",\n",
    "                                 \"Areas of Specialization\": \"Ag Management, Ag Finance\",\n",
    "                                 \"Bio\":\"Erik Hanson is an Assistant Professor in the Department of Agricultural and Applied Economics. He teaches courses on agribusiness management and agricultural finance. Erik completed his Ph.D. at the University of Minnesota in 2016. Prior to that, Erik completed a master’s degree at the University of Illinois (2013) and a bachelor’s degree at Minnesota State University Moorhead (2011).\"},\n",
    "                 \"Ronald Haugen\": {\"Website\":\"https://www.ndsu.edu/agecon/about_us/faculty/ron_haugen/#c654700\",\n",
    "                                 \"Areas of Specialization\": \"Farm management topics include: crop budgets, crop insurance, farm programs, custom farm rates, land rents, machinery economics, commodity price projections and agricultural income taxes.\",\n",
    "                                 \"Bio\":\"Ron Haugen is an Extension Farm Management Specialist. He has been in the department since 1991. He computes the North Dakota Land Valuation Model.\"},\n",
    "                 \"Robert Hearne\": {\"Website\":\"https://www.ndsu.edu/agecon/faculty/hearne/#c622909\",\n",
    "                                 \"Areas of Specialization\": \"His research focuses on water resources management institutions, water markets, protected area management, and the economic valuation of environmental goods and services.\",\n",
    "                                 \"Bio\":\"Dr. Bob Hearne has been in the Department of Agribusiness and Applied Economics since 2002. He has professional experience in Europe, Asia, Latin America, and Asia. \"},\n",
    "                 \"Jeremy Jackson\": {\"Website\":\"https://www.ndsu.edu/centers/pcpe/about/directory/jeremy_jackson/\",\n",
    "                                 \"Areas of Specialization\": \"He teaches undergraduate and graduate courses in the areas of microeconomics, public economics, and game theory and strategy. His research covers diverse topics, including public choice and the political economy; the social consequences of economic freedom; happiness and well-being; and philanthropy and nonprofits.\",\n",
    "                                 \"Bio\":\"Jeremy Jackson is director of the Center for the Study of Public Choice and Private Enterprise, scholar at the Challey Institute for Global Innovation and Growth, and professor of economics in the Department of Agribusiness and Applied Economics at North Dakota State University. His research has been published in Applied Economics, The Independent Review, Public Choice, Contemporary Economic Policy, Journal of Happiness Studies, and other refereed and non-refereed sources. Jeremy resides in Fargo with his wife, Dr. Elizabeth Crawford, and their two sons.\"},\n",
    "                 \"Prithviraj Lakkakula\": {\"Website\":\"\",\n",
    "                                 \"Areas of Specialization\": \"\",\n",
    "                                 \"Bio\":\"\"},\n",
    "                 \"Siew Lim\": {\"Website\":\"\",\n",
    "                                 \"Areas of Specialization\": \"\",\n",
    "                                 \"Bio\":\"\"},\n",
    "                 \"Zachary Machunda\": {\"Website\":\"\",\n",
    "                                 \"Areas of Specialization\": \"\",\n",
    "                                 \"Bio\":\"\"},\n",
    "                 \"Raymond March\": {\"Website\":\"\",\n",
    "                                 \"Areas of Specialization\": \"\",\n",
    "                                 \"Bio\":\"\"},\n",
    "                 \"Dragan Miljkovic\": {\"Website\":\"\",\n",
    "                                 \"Areas of Specialization\": \"\",\n",
    "                                 \"Bio\":\"\"},\n",
    "                 \"Frayne Olson\": {\"Website\":\"\",\n",
    "                                 \"Areas of Specialization\": \"\",\n",
    "                                 \"Bio\":\"\"},\n",
    "                 \"Bryon Parman\": {\"Website\":\"\",\n",
    "                                 \"Areas of Specialization\": \"\",\n",
    "                                 \"Bio\":\"\"},\n",
    "                 \"Tim Petry\": {\"Website\":\"\",\n",
    "                                 \"Areas of Specialization\": \"\",\n",
    "                                 \"Bio\":\"\"},\n",
    "                 \"Xudong Rao\": {\"Website\":\"\",\n",
    "                                 \"Areas of Specialization\": \"\",\n",
    "                                 \"Bio\":\"\"},\n",
    "                 \"Veeshan Rayamajhee\": {\"Website\":\"\",\n",
    "                                 \"Areas of Specialization\": \"\",\n",
    "                                 \"Bio\":\"\"},\n",
    "                 \"David Ripplinger\": {\"Website\":\"\",\n",
    "                                 \"Areas of Specialization\": \"\",\n",
    "                                 \"Bio\":\"\"},\n",
    "                 \"David Roberts\": {\"Website\":\"\",\n",
    "                                 \"Areas of Specialization\": \"\",\n",
    "                                 \"Bio\":\"\"},\n",
    "                 \"Kristi Schweiss\": {\"Website\":\"\",\n",
    "                                 \"Areas of Specialization\": \"\",\n",
    "                                 \"Bio\":\"\"},\n",
    "                 \"Saleem Shaik\": {\"Website\":\"\",\n",
    "                                 \"Areas of Specialization\": \"\",\n",
    "                                 \"Bio\":\"\"},\n",
    "                 \"Anupa Sharma\": {\"Website\":\"\",\n",
    "                                 \"Areas of Specialization\": \"\",\n",
    "                                 \"Bio\":\"\"},\n",
    "                 \"Andrew Swenson\": {\"Website\":\"\",\n",
    "                                 \"Areas of Specialization\": \"\",\n",
    "                                 \"Bio\":\"\"},\n",
    "                 \"Cheryl Wachenheim\": {\"Website\":\"\",\n",
    "                                 \"Areas of Specialization\": \"\",\n",
    "                                 \"Bio\":\"\"},\n",
    "                 \"Tom Wahl\": {\"Website\":\"\",\n",
    "                                 \"Areas of Specialization\": \"\",\n",
    "                                 \"Bio\":\"\"},\n",
    "                 \"William Wilson\": {\"Website\":\"\",\n",
    "                                 \"Areas of Specialization\": \"\",\n",
    "                                 \"Bio\":\"\"},\n",
    "                 \"Ryan Yonk\": {\"Website\":\"\",\n",
    "                                 \"Areas of Specialization\": \"\",\n",
    "                                 \"Bio\":\"\"},\n",
    "                 \"Lei Zhang\": {\"Website\":\"\",\n",
    "                                 \"Areas of Specialization\": \"\",\n",
    "                                 \"Bio\":\"\"}\n",
    "                }\n",
    "\n",
    "faculty_dict"
   ]
  }
 ],
 "metadata": {
  "kernelspec": {
   "display_name": "Python 3",
   "language": "python",
   "name": "python3"
  },
  "language_info": {
   "codemirror_mode": {
    "name": "ipython",
    "version": 3
   },
   "file_extension": ".py",
   "mimetype": "text/x-python",
   "name": "python",
   "nbconvert_exporter": "python",
   "pygments_lexer": "ipython3",
   "version": "3.8.8"
  }
 },
 "nbformat": 4,
 "nbformat_minor": 5
}
