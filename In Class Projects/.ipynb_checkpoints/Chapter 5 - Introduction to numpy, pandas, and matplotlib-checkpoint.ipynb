{
 "cells": [
  {
   "cell_type": "markdown",
   "id": "192390c8",
   "metadata": {},
   "source": [
    "# Chapter 5 - Introduction to _numpy_, *pandas*, and _matplotlib_"
   ]
  },
  {
   "cell_type": "markdown",
   "id": "5f7f5d3c",
   "metadata": {},
   "source": [
    "Numpy library is more efficient than lists, making it faster and using up less memory. Pandas helps organizes data in tables using numpy. "
   ]
  },
  {
   "cell_type": "markdown",
   "id": "0ccdd16d",
   "metadata": {},
   "source": [
    "# Arrays\n",
    "\n",
    "Lists are less efficient but are useful if you need values to be changing over time. Numpy creates arrays that contain data types that are values (Integers and variety of floats). This increases efficiency. "
   ]
  },
  {
   "cell_type": "code",
   "execution_count": 1,
   "id": "4c2f8d61",
   "metadata": {},
   "outputs": [
    {
     "data": {
      "text/plain": [
       "array([1, 2, 3, 4, 5])"
      ]
     },
     "execution_count": 1,
     "metadata": {},
     "output_type": "execute_result"
    }
   ],
   "source": [
    "# Created an array\n",
    "import numpy as np\n",
    "array = np.array([1,2,3,4,5])\n",
    "array"
   ]
  },
  {
   "cell_type": "code",
   "execution_count": 2,
   "id": "43e3c45d",
   "metadata": {},
   "outputs": [
    {
     "data": {
      "text/plain": [
       "numpy.ndarray"
      ]
     },
     "execution_count": 2,
     "metadata": {},
     "output_type": "execute_result"
    }
   ],
   "source": [
    "# Seeing what type the array is\n",
    "type(array)"
   ]
  },
  {
   "cell_type": "code",
   "execution_count": 3,
   "id": "4047510d",
   "metadata": {},
   "outputs": [
    {
     "name": "stdout",
     "output_type": "stream",
     "text": [
      "1 <class 'numpy.int32'>\n",
      "2 <class 'numpy.int32'>\n",
      "3 <class 'numpy.int32'>\n",
      "4 <class 'numpy.int32'>\n",
      "5 <class 'numpy.int32'>\n"
     ]
    }
   ],
   "source": [
    "# Printing the values and types\n",
    "for val in array:\n",
    "    print(val, type(val))"
   ]
  },
  {
   "cell_type": "markdown",
   "id": "59ba9518",
   "metadata": {},
   "source": [
    "# np.arange(start, finish, interval)"
   ]
  },
  {
   "cell_type": "code",
   "execution_count": 4,
   "id": "4dbdc6a7",
   "metadata": {},
   "outputs": [
    {
     "data": {
      "text/plain": [
       "array([  0,   1,   2,   3,   4,   5,   6,   7,   8,   9,  10,  11,  12,\n",
       "        13,  14,  15,  16,  17,  18,  19,  20,  21,  22,  23,  24,  25,\n",
       "        26,  27,  28,  29,  30,  31,  32,  33,  34,  35,  36,  37,  38,\n",
       "        39,  40,  41,  42,  43,  44,  45,  46,  47,  48,  49,  50,  51,\n",
       "        52,  53,  54,  55,  56,  57,  58,  59,  60,  61,  62,  63,  64,\n",
       "        65,  66,  67,  68,  69,  70,  71,  72,  73,  74,  75,  76,  77,\n",
       "        78,  79,  80,  81,  82,  83,  84,  85,  86,  87,  88,  89,  90,\n",
       "        91,  92,  93,  94,  95,  96,  97,  98,  99, 100])"
      ]
     },
     "execution_count": 4,
     "metadata": {},
     "output_type": "execute_result"
    }
   ],
   "source": [
    "# Passing a range instead of a list\n",
    "range_array = np.arange(0,101)\n",
    "range_array"
   ]
  },
  {
   "cell_type": "code",
   "execution_count": 5,
   "id": "8b309271",
   "metadata": {},
   "outputs": [
    {
     "data": {
      "text/plain": [
       "array([ 0,  3,  6,  9, 12, 15, 18, 21, 24, 27, 30, 33, 36, 39, 42, 45, 48,\n",
       "       51, 54, 57, 60, 63, 66, 69, 72, 75, 78, 81, 84, 87, 90, 93, 96, 99])"
      ]
     },
     "execution_count": 5,
     "metadata": {},
     "output_type": "execute_result"
    }
   ],
   "source": [
    "# Range counting by 3\n",
    "range_array = np.arange(0,101, 3)\n",
    "range_array"
   ]
  },
  {
   "cell_type": "code",
   "execution_count": 6,
   "id": "5d09b8b2",
   "metadata": {},
   "outputs": [
    {
     "data": {
      "text/plain": [
       "array([101,  98,  95,  92,  89,  86,  83,  80,  77,  74,  71,  68,  65,\n",
       "        62,  59,  56,  53,  50,  47,  44,  41,  38,  35,  32,  29,  26,\n",
       "        23,  20,  17,  14,  11,   8,   5,   2])"
      ]
     },
     "execution_count": 6,
     "metadata": {},
     "output_type": "execute_result"
    }
   ],
   "source": [
    "# Range counting backwards by 3\n",
    "# arange = array range\n",
    "range_array = np.arange(101,0, -3)\n",
    "range_array"
   ]
  },
  {
   "cell_type": "markdown",
   "id": "a7fdace4",
   "metadata": {},
   "source": [
    "# Forming an array with a list of different types of values"
   ]
  },
  {
   "cell_type": "code",
   "execution_count": 7,
   "id": "a0b95cde",
   "metadata": {},
   "outputs": [
    {
     "name": "stdout",
     "output_type": "stream",
     "text": [
      "int_float_list\n",
      "1 <class 'int'>\n",
      "2 <class 'int'>\n",
      "3 <class 'int'>\n",
      "4.0 <class 'float'>\n",
      "5 <class 'int'>\n",
      "\n",
      "mystery_array\n",
      "1.0 <class 'numpy.float64'>\n",
      "2.0 <class 'numpy.float64'>\n",
      "3.0 <class 'numpy.float64'>\n",
      "4.0 <class 'numpy.float64'>\n",
      "5.0 <class 'numpy.float64'>\n",
      "\n",
      "float_array\n",
      "1.0 <class 'numpy.float64'>\n",
      "2.0 <class 'numpy.float64'>\n",
      "3.0 <class 'numpy.float64'>\n",
      "4.0 <class 'numpy.float64'>\n",
      "5.0 <class 'numpy.float64'>\n"
     ]
    }
   ],
   "source": [
    "# Has one value that is not an int\n",
    "int_float_list = [1,2,3,4.,5]\n",
    "print(\"int_float_list\")\n",
    "for val in int_float_list:\n",
    "    print(val, type(val))\n",
    "\n",
    "# All values are changed to float 64 type\n",
    "mystery_array = np.array(int_float_list)  \n",
    "print() \n",
    "print(\"mystery_array\")\n",
    "for val in mystery_array:\n",
    "    print(val, type(val))\n",
    "\n",
    "# Has all values as float 64 type\n",
    "float_list = [1.,2.,3.,4.,5.]\n",
    "float_array = np.array(float_list)\n",
    "print()\n",
    "print(\"float_array\")\n",
    "for val in float_array:\n",
    "    print(val, type(val))"
   ]
  },
  {
   "cell_type": "markdown",
   "id": "ceae76f4",
   "metadata": {},
   "source": [
    "In last case (float_array), we check to see if the transfomration of a list of all floats is the same as the transformation of a mixed list of floats and ints (int_float_list)."
   ]
  },
  {
   "cell_type": "markdown",
   "id": "b018bfce",
   "metadata": {},
   "source": [
    "# Two dimensional lists and arrays"
   ]
  },
  {
   "cell_type": "code",
   "execution_count": 8,
   "id": "28bb2164",
   "metadata": {},
   "outputs": [
    {
     "data": {
      "text/plain": [
       "[[1, 2, 3], [2, 4, 6], [3, 6, 9]]"
      ]
     },
     "execution_count": 8,
     "metadata": {},
     "output_type": "execute_result"
    }
   ],
   "source": [
    "# two_dim_list = A list of lists\n",
    "# Keep the lists the same for ease of use\n",
    "two_dim_list = [[1,2,3], [2, 4, 6], [3, 6, 9]]\n",
    "two_dim_list"
   ]
  },
  {
   "cell_type": "code",
   "execution_count": 9,
   "id": "9ed5cbb4",
   "metadata": {},
   "outputs": [
    {
     "name": "stdout",
     "output_type": "stream",
     "text": [
      "[1, 2, 3]\n",
      "1\n",
      "2\n",
      "3\n",
      "[2, 4, 6]\n",
      "2\n",
      "4\n",
      "6\n",
      "[3, 6, 9]\n",
      "3\n",
      "6\n",
      "9\n"
     ]
    }
   ],
   "source": [
    "# Prints lists of the two_dim_list\n",
    "for lst in two_dim_list:\n",
    "    print(lst)\n",
    "# To print out each value in each list\n",
    "    for val in lst:\n",
    "        print(val)"
   ]
  },
  {
   "cell_type": "markdown",
   "id": "091e1faa",
   "metadata": {},
   "source": [
    "## Transform two dimensional list to two dimensional array using np.array(lst)"
   ]
  },
  {
   "cell_type": "code",
   "execution_count": 10,
   "id": "4d5909ea",
   "metadata": {},
   "outputs": [
    {
     "data": {
      "text/plain": [
       "array([[1, 2, 3],\n",
       "       [2, 4, 6],\n",
       "       [3, 6, 9]])"
      ]
     },
     "execution_count": 10,
     "metadata": {},
     "output_type": "execute_result"
    }
   ],
   "source": [
    "two_dim_array = np.array(two_dim_list)\n",
    "two_dim_array"
   ]
  },
  {
   "cell_type": "code",
   "execution_count": 11,
   "id": "23199116",
   "metadata": {},
   "outputs": [
    {
     "name": "stdout",
     "output_type": "stream",
     "text": [
      "[1 2 3]\n",
      "1\n",
      "2\n",
      "3\n",
      "[2 4 6]\n",
      "2\n",
      "4\n",
      "6\n",
      "[3 6 9]\n",
      "3\n",
      "6\n",
      "9\n"
     ]
    }
   ],
   "source": [
    "# Prints the same as the list previously\n",
    "for array in two_dim_array:\n",
    "    print(array)\n",
    "    for val in array:\n",
    "        print(val)"
   ]
  },
  {
   "cell_type": "markdown",
   "id": "e9c7073f",
   "metadata": {},
   "source": [
    "## Changing the values of elements in an array\n",
    "\n",
    "Use a list if you simply need to add another element and use an array if you are going to change a value."
   ]
  },
  {
   "cell_type": "code",
   "execution_count": 12,
   "id": "108a74d7",
   "metadata": {},
   "outputs": [
    {
     "data": {
      "text/plain": [
       "array([[0., 0., 0.],\n",
       "       [0., 0., 0.],\n",
       "       [0., 0., 0.]])"
      ]
     },
     "execution_count": 12,
     "metadata": {},
     "output_type": "execute_result"
    }
   ],
   "source": [
    "# Uses built in array of zeros - Can for example add an extra 3 for a third dimension\n",
    "array = np.zeros((3,3))\n",
    "array"
   ]
  },
  {
   "cell_type": "code",
   "execution_count": 13,
   "id": "f81bff13",
   "metadata": {},
   "outputs": [
    {
     "data": {
      "text/plain": [
       "array([[1., 0., 0.],\n",
       "       [0., 3., 0.],\n",
       "       [0., 0., 2.]])"
      ]
     },
     "execution_count": 13,
     "metadata": {},
     "output_type": "execute_result"
    }
   ],
   "source": [
    "# Changes values at each\n",
    "array[0][0] = 1\n",
    "array[1][1] = 3\n",
    "array[2][2] = 2\n",
    "array"
   ]
  },
  {
   "cell_type": "markdown",
   "id": "1a83b8c0",
   "metadata": {},
   "source": [
    "np.zeros creates an n-dimensional array (array of arrays) that is comprised of zeros that are floats. \n",
    "\n",
    "If an n-dimensional array of zeros that are ints is desired, create an n-dimensional list using zeros that are integers"
   ]
  },
  {
   "cell_type": "code",
   "execution_count": 14,
   "id": "ef64ae0a",
   "metadata": {},
   "outputs": [
    {
     "data": {
      "text/plain": [
       "array([[0, 0, 0],\n",
       "       [0, 0, 0],\n",
       "       [0, 0, 0]])"
      ]
     },
     "execution_count": 14,
     "metadata": {},
     "output_type": "execute_result"
    }
   ],
   "source": [
    "# Prints an array of integers intead of the default floats in an array\n",
    "zero_lst_of_lsts = [[0,0,0],[0,0,0],[0,0,0]]\n",
    "zero_array_of_arrays = np.array(zero_lst_of_lsts)\n",
    "zero_array_of_arrays"
   ]
  },
  {
   "cell_type": "code",
   "execution_count": 15,
   "id": "92f32880",
   "metadata": {},
   "outputs": [
    {
     "data": {
      "text/plain": [
       "array([[4, 0, 0],\n",
       "       [0, 0, 0],\n",
       "       [0, 0, 0]])"
      ]
     },
     "execution_count": 15,
     "metadata": {},
     "output_type": "execute_result"
    }
   ],
   "source": [
    "zero_array_of_arrays[0][0] = 4\n",
    "zero_array_of_arrays"
   ]
  },
  {
   "cell_type": "code",
   "execution_count": 16,
   "id": "a517bc90",
   "metadata": {},
   "outputs": [
    {
     "data": {
      "text/plain": [
       "array([[0, 0, 0],\n",
       "       [0, 0, 0],\n",
       "       [0, 0, 0]])"
      ]
     },
     "execution_count": 16,
     "metadata": {},
     "output_type": "execute_result"
    }
   ],
   "source": [
    "# Another way to complete the previous output\n",
    "np.zeros((3,3), dtype = int)"
   ]
  },
  {
   "cell_type": "markdown",
   "id": "96050a26",
   "metadata": {},
   "source": [
    "# Logging Data"
   ]
  },
  {
   "cell_type": "code",
   "execution_count": 17,
   "id": "ce3204ec",
   "metadata": {},
   "outputs": [
    {
     "data": {
      "text/plain": [
       "1.0"
      ]
     },
     "execution_count": 17,
     "metadata": {},
     "output_type": "execute_result"
    }
   ],
   "source": [
    "# Log of natural number\n",
    "import numpy as np\n",
    "\n",
    "np.log(np.e)"
   ]
  },
  {
   "cell_type": "code",
   "execution_count": 18,
   "id": "8a9da2d3",
   "metadata": {},
   "outputs": [
    {
     "data": {
      "text/plain": [
       "1.0"
      ]
     },
     "execution_count": 18,
     "metadata": {},
     "output_type": "execute_result"
    }
   ],
   "source": [
    "# Gives the same since log to the 1 gives you 10, etc\n",
    "np.log10(10)"
   ]
  },
  {
   "cell_type": "code",
   "execution_count": 19,
   "id": "bdbc8522",
   "metadata": {},
   "outputs": [
    {
     "data": {
      "text/plain": [
       "2.0"
      ]
     },
     "execution_count": 19,
     "metadata": {},
     "output_type": "execute_result"
    }
   ],
   "source": [
    "np.log10(100)"
   ]
  },
  {
   "cell_type": "code",
   "execution_count": 20,
   "id": "0b42751b",
   "metadata": {},
   "outputs": [
    {
     "name": "stdout",
     "output_type": "stream",
     "text": [
      "10 1.0\n",
      "20 1.3010299956639813\n",
      "30 1.4771212547196624\n",
      "40 1.6020599913279623\n",
      "50 1.6989700043360187\n",
      "60 1.7781512503836436\n",
      "70 1.845098040014257\n",
      "80 1.9030899869919435\n",
      "90 1.954242509439325\n",
      "100 2.0\n",
      "110 2.041392685158225\n",
      "120 2.0791812460476247\n",
      "130 2.113943352306837\n",
      "140 2.146128035678238\n",
      "150 2.1760912590556813\n",
      "160 2.2041199826559246\n",
      "170 2.230448921378274\n",
      "180 2.255272505103306\n",
      "190 2.278753600952829\n",
      "200 2.3010299956639813\n",
      "210 2.322219294733919\n",
      "220 2.342422680822206\n",
      "230 2.361727836017593\n",
      "240 2.380211241711606\n",
      "250 2.3979400086720375\n",
      "260 2.4149733479708178\n",
      "270 2.4313637641589874\n",
      "280 2.4471580313422194\n",
      "290 2.462397997898956\n",
      "300 2.4771212547196626\n",
      "310 2.4913616938342726\n",
      "320 2.505149978319906\n",
      "330 2.5185139398778875\n",
      "340 2.531478917042255\n",
      "350 2.5440680443502757\n",
      "360 2.5563025007672873\n",
      "370 2.568201724066995\n",
      "380 2.57978359661681\n",
      "390 2.591064607026499\n",
      "400 2.6020599913279625\n",
      "410 2.6127838567197355\n",
      "420 2.6232492903979003\n",
      "430 2.6334684555795866\n",
      "440 2.6434526764861874\n",
      "450 2.6532125137753435\n",
      "460 2.662757831681574\n",
      "470 2.6720978579357175\n",
      "480 2.681241237375587\n",
      "490 2.690196080028514\n",
      "500 2.6989700043360187\n",
      "510 2.7075701760979363\n",
      "520 2.716003343634799\n",
      "530 2.724275869600789\n",
      "540 2.7323937598229686\n",
      "550 2.7403626894942437\n",
      "560 2.7481880270062002\n",
      "570 2.7558748556724915\n",
      "580 2.7634279935629373\n",
      "590 2.7708520116421442\n",
      "600 2.7781512503836434\n",
      "610 2.785329835010767\n",
      "620 2.792391689498254\n",
      "630 2.7993405494535817\n",
      "640 2.806179973983887\n",
      "650 2.8129133566428557\n",
      "660 2.8195439355418688\n",
      "670 2.8260748027008264\n",
      "680 2.832508912706236\n",
      "690 2.838849090737255\n",
      "700 2.845098040014257\n",
      "710 2.8512583487190755\n",
      "720 2.8573324964312685\n",
      "730 2.863322860120456\n",
      "740 2.8692317197309762\n",
      "750 2.8750612633917\n",
      "760 2.8808135922807914\n",
      "770 2.886490725172482\n",
      "780 2.8920946026904804\n",
      "790 2.8976270912904414\n",
      "800 2.9030899869919438\n",
      "810 2.90848501887865\n",
      "820 2.9138138523837167\n",
      "830 2.9190780923760737\n",
      "840 2.9242792860618816\n",
      "850 2.929418925714293\n",
      "860 2.934498451243568\n",
      "870 2.9395192526186187\n",
      "880 2.9444826721501687\n",
      "890 2.949390006644913\n",
      "900 2.9542425094393248\n",
      "910 2.9590413923210934\n",
      "920 2.963787827345555\n",
      "930 2.9684829485539352\n",
      "940 2.9731278535996988\n",
      "950 2.9777236052888476\n",
      "960 2.9822712330395684\n",
      "970 2.9867717342662448\n",
      "980 2.9912260756924947\n",
      "990 2.99563519459755\n",
      "1000 3.0\n"
     ]
    }
   ],
   "source": [
    "# Increases by a decreasing rate \n",
    "for i in range(10, 1001, 10):\n",
    "    print(i, np.log10(i))"
   ]
  },
  {
   "cell_type": "code",
   "execution_count": 21,
   "id": "a993c1bb",
   "metadata": {},
   "outputs": [
    {
     "data": {
      "text/plain": [
       "array([0.        , 0.69314718, 1.09861229, 1.38629436, 1.60943791])"
      ]
     },
     "execution_count": 21,
     "metadata": {},
     "output_type": "execute_result"
    }
   ],
   "source": [
    "# Prints out specific values\n",
    "np.log([1,2,3,4,5])"
   ]
  },
  {
   "cell_type": "markdown",
   "id": "0ad0e565",
   "metadata": {},
   "source": [
    "## Boolean Indexing Introduction\n",
    "\n",
    "Creates a true or false index that allows selection to include or not include values from a list."
   ]
  },
  {
   "cell_type": "code",
   "execution_count": 26,
   "id": "72c05483",
   "metadata": {},
   "outputs": [
    {
     "data": {
      "text/plain": [
       "[7.351930805855789,\n",
       " 7.621801773811116,\n",
       " 8.952331799549656,\n",
       " 7.994198956079948,\n",
       " 5.3941561431659215,\n",
       " 2.9032198970224243,\n",
       " 2.791979928788889,\n",
       " 1.4477181877588818,\n",
       " 1.7124120374408691,\n",
       " 8.143160816129996]"
      ]
     },
     "execution_count": 26,
     "metadata": {},
     "output_type": "execute_result"
    }
   ],
   "source": [
    "import random\n",
    "\n",
    "rand_list = [random.random() * 10 for i in range(10)]\n",
    "rand_list"
   ]
  },
  {
   "cell_type": "code",
   "execution_count": 30,
   "id": "48c1f05a",
   "metadata": {},
   "outputs": [
    {
     "name": "stdout",
     "output_type": "stream",
     "text": [
      "[7.351930805855789, 7.621801773811116, 8.952331799549656, 7.994198956079948, 5.3941561431659215, 8.143160816129996]\n"
     ]
    }
   ],
   "source": [
    "# Can use rand_list\n",
    "# Use this for filtering of data purposes\n",
    "subset = [val for val in rand_list if val > 5]\n",
    "print(subset)"
   ]
  },
  {
   "cell_type": "code",
   "execution_count": 29,
   "id": "281ab388",
   "metadata": {},
   "outputs": [
    {
     "name": "stdout",
     "output_type": "stream",
     "text": [
      "[4.750661745577146, 4.015478739312142, 4.111645453338351, 8.560613649416768, 0.024066638134431217]\n"
     ]
    }
   ],
   "source": [
    "subset = [random.random() * 10 for i in range(10) if i > 4]\n",
    "print(subset)"
   ]
  },
  {
   "cell_type": "code",
   "execution_count": 39,
   "id": "8040110c",
   "metadata": {},
   "outputs": [
    {
     "name": "stdout",
     "output_type": "stream",
     "text": [
      "[ 3.23280733 -7.02073172  5.42040191 -7.92935178 -5.64989206  5.03985475\n",
      " -1.23332948 -2.74842561 -4.03529574 10.24980509]\n",
      "[ True False  True False False  True False False False  True]\n"
     ]
    },
    {
     "data": {
      "text/plain": [
       "array([ 3.23280733,  5.42040191,  5.03985475, 10.24980509])"
      ]
     },
     "execution_count": 39,
     "metadata": {},
     "output_type": "execute_result"
    }
   ],
   "source": [
    "# Boolean indexing with numpy\n",
    "\n",
    "import numpy as np\n",
    "\n",
    "# Creates 10 numbers who have a mean of 0\n",
    "# Can multiply by a number\n",
    "rand_array = np.random.randn(10) * 10\n",
    "# Can print the array followed by if the numbers are greater than 0\n",
    "print(rand_array)\n",
    "print(rand_array > 0) \n",
    "\n",
    "# Prints only true values in the array\n",
    "rand_array[rand_array > 0]"
   ]
  },
  {
   "cell_type": "markdown",
   "id": "c0c7e6cd",
   "metadata": {},
   "source": [
    "# Data in Dictionaries and DataFrames"
   ]
  },
  {
   "cell_type": "code",
   "execution_count": 50,
   "id": "b9650e58",
   "metadata": {},
   "outputs": [
    {
     "data": {
      "text/plain": [
       "{'0 to 9': array([0, 1, 2, 3, 4, 5, 6, 7, 8, 9]),\n",
       " 'ones': array([1., 1., 1., 1., 1., 1., 1., 1., 1., 1.]),\n",
       " 'zeros': array([0., 0., 0., 0., 0., 0., 0., 0., 0., 0.])}"
      ]
     },
     "execution_count": 50,
     "metadata": {},
     "output_type": "execute_result"
    }
   ],
   "source": [
    "data_dict = {\"0 to 9\": np.arange(10),\n",
    "# Can multiple this by numbers so you can change the output\n",
    "          \"ones\":np.ones(10),\n",
    "          \"zeros\":np.zeros(10)}\n",
    "data_dict"
   ]
  },
  {
   "cell_type": "code",
   "execution_count": 49,
   "id": "a17c30f1",
   "metadata": {},
   "outputs": [
    {
     "name": "stdout",
     "output_type": "stream",
     "text": [
      "0 to 9\n",
      "[0 1 2 3 4 5 6 7 8 9]\n",
      "ones\n",
      "[1. 1. 1. 1. 1. 1. 1. 1. 1. 1.]\n",
      "zeros\n",
      "[0. 0. 0. 0. 0. 0. 0. 0. 0. 0.]\n"
     ]
    },
    {
     "data": {
      "text/plain": [
       "dict_items([('0 to 9', array([0, 1, 2, 3, 4, 5, 6, 7, 8, 9])), ('ones', array([1., 1., 1., 1., 1., 1., 1., 1., 1., 1.])), ('zeros', array([0., 0., 0., 0., 0., 0., 0., 0., 0., 0.]))])"
      ]
     },
     "execution_count": 49,
     "metadata": {},
     "output_type": "execute_result"
    }
   ],
   "source": [
    "# Helps see the data\n",
    "for key in data_dict:\n",
    "    val = data_dict[key]\n",
    "    print(key)\n",
    "    print(data_dict[key])\n",
    "# Turns everything into tuples\n",
    "# Not very useful unless (Look at next code)\n",
    "data_dict.items()"
   ]
  },
  {
   "cell_type": "code",
   "execution_count": 48,
   "id": "8c623cb3",
   "metadata": {},
   "outputs": [
    {
     "name": "stdout",
     "output_type": "stream",
     "text": [
      "0 to 9\n",
      "[0 1 2 3 4 5 6 7 8 9]\n",
      "ones\n",
      "[1. 1. 1. 1. 1. 1. 1. 1. 1. 1.]\n",
      "zeros\n",
      "[0. 0. 0. 0. 0. 0. 0. 0. 0. 0.]\n"
     ]
    }
   ],
   "source": [
    "# Useful for dataframes and pandas\n",
    "for key, val in data_dict.items():\n",
    "    print(key)\n",
    "    print(val)"
   ]
  },
  {
   "cell_type": "code",
   "execution_count": 55,
   "id": "89f3a6aa",
   "metadata": {},
   "outputs": [
    {
     "name": "stdout",
     "output_type": "stream",
     "text": [
      "Index value of 5 0 to 9\n",
      "[5 6 7 8 9]\n",
      "Index value of 5 ones\n",
      "[1. 1. 1. 1. 1.]\n",
      "Index value of 5 zeros\n",
      "[0. 0. 0. 0. 0.]\n"
     ]
    }
   ],
   "source": [
    "# Calling a portion of each array by calling a slice\n",
    "for key, val in data_dict.items():\n",
    "    print(\"Index value of 5\", key)\n",
    "    print(val[5:])"
   ]
  },
  {
   "cell_type": "markdown",
   "id": "9497667c",
   "metadata": {},
   "source": [
    "# Pandas Dataframes"
   ]
  },
  {
   "cell_type": "code",
   "execution_count": 62,
   "id": "9493c057",
   "metadata": {},
   "outputs": [
    {
     "data": {
      "text/plain": [
       "0      1\n",
       "1      2\n",
       "2      3\n",
       "3      4\n",
       "4      5\n",
       "5      6\n",
       "6      7\n",
       "7      8\n",
       "8      9\n",
       "9     10\n",
       "10    11\n",
       "11    12\n",
       "12    13\n",
       "13    14\n",
       "14    15\n",
       "15    16\n",
       "16    17\n",
       "17    18\n",
       "18    19\n",
       "19    20\n",
       "dtype: int32"
      ]
     },
     "execution_count": 62,
     "metadata": {},
     "output_type": "execute_result"
    }
   ],
   "source": [
    "import pandas as pd\n",
    "\n",
    "data = pd.Series(np.arange(1,21))\n",
    "data"
   ]
  },
  {
   "cell_type": "code",
   "execution_count": 63,
   "id": "d9280550",
   "metadata": {},
   "outputs": [
    {
     "data": {
      "text/html": [
       "<div>\n",
       "<style scoped>\n",
       "    .dataframe tbody tr th:only-of-type {\n",
       "        vertical-align: middle;\n",
       "    }\n",
       "\n",
       "    .dataframe tbody tr th {\n",
       "        vertical-align: top;\n",
       "    }\n",
       "\n",
       "    .dataframe thead th {\n",
       "        text-align: right;\n",
       "    }\n",
       "</style>\n",
       "<table border=\"1\" class=\"dataframe\">\n",
       "  <thead>\n",
       "    <tr style=\"text-align: right;\">\n",
       "      <th></th>\n",
       "      <th>0 to 9</th>\n",
       "      <th>ones</th>\n",
       "      <th>zeros</th>\n",
       "    </tr>\n",
       "  </thead>\n",
       "  <tbody>\n",
       "    <tr>\n",
       "      <th>0</th>\n",
       "      <td>0</td>\n",
       "      <td>1.0</td>\n",
       "      <td>0.0</td>\n",
       "    </tr>\n",
       "    <tr>\n",
       "      <th>1</th>\n",
       "      <td>1</td>\n",
       "      <td>1.0</td>\n",
       "      <td>0.0</td>\n",
       "    </tr>\n",
       "    <tr>\n",
       "      <th>2</th>\n",
       "      <td>2</td>\n",
       "      <td>1.0</td>\n",
       "      <td>0.0</td>\n",
       "    </tr>\n",
       "    <tr>\n",
       "      <th>3</th>\n",
       "      <td>3</td>\n",
       "      <td>1.0</td>\n",
       "      <td>0.0</td>\n",
       "    </tr>\n",
       "    <tr>\n",
       "      <th>4</th>\n",
       "      <td>4</td>\n",
       "      <td>1.0</td>\n",
       "      <td>0.0</td>\n",
       "    </tr>\n",
       "    <tr>\n",
       "      <th>5</th>\n",
       "      <td>5</td>\n",
       "      <td>1.0</td>\n",
       "      <td>0.0</td>\n",
       "    </tr>\n",
       "    <tr>\n",
       "      <th>6</th>\n",
       "      <td>6</td>\n",
       "      <td>1.0</td>\n",
       "      <td>0.0</td>\n",
       "    </tr>\n",
       "    <tr>\n",
       "      <th>7</th>\n",
       "      <td>7</td>\n",
       "      <td>1.0</td>\n",
       "      <td>0.0</td>\n",
       "    </tr>\n",
       "    <tr>\n",
       "      <th>8</th>\n",
       "      <td>8</td>\n",
       "      <td>1.0</td>\n",
       "      <td>0.0</td>\n",
       "    </tr>\n",
       "    <tr>\n",
       "      <th>9</th>\n",
       "      <td>9</td>\n",
       "      <td>1.0</td>\n",
       "      <td>0.0</td>\n",
       "    </tr>\n",
       "  </tbody>\n",
       "</table>\n",
       "</div>"
      ],
      "text/plain": [
       "   0 to 9  ones  zeros\n",
       "0       0   1.0    0.0\n",
       "1       1   1.0    0.0\n",
       "2       2   1.0    0.0\n",
       "3       3   1.0    0.0\n",
       "4       4   1.0    0.0\n",
       "5       5   1.0    0.0\n",
       "6       6   1.0    0.0\n",
       "7       7   1.0    0.0\n",
       "8       8   1.0    0.0\n",
       "9       9   1.0    0.0"
      ]
     },
     "execution_count": 63,
     "metadata": {},
     "output_type": "execute_result"
    }
   ],
   "source": [
    "data_df = pd.DataFrame(data_dict)\n",
    "data_df"
   ]
  },
  {
   "cell_type": "code",
   "execution_count": 65,
   "id": "ffa9d893",
   "metadata": {},
   "outputs": [
    {
     "data": {
      "text/plain": [
       "0    0\n",
       "1    1\n",
       "2    2\n",
       "3    3\n",
       "4    4\n",
       "5    5\n",
       "6    6\n",
       "7    7\n",
       "8    8\n",
       "9    9\n",
       "Name: 0 to 9, dtype: int32"
      ]
     },
     "execution_count": 65,
     "metadata": {},
     "output_type": "execute_result"
    }
   ],
   "source": [
    "data_df[\"0 to 9\"]"
   ]
  },
  {
   "cell_type": "code",
   "execution_count": 70,
   "id": "077e8c34",
   "metadata": {},
   "outputs": [
    {
     "data": {
      "text/html": [
       "<div>\n",
       "<style scoped>\n",
       "    .dataframe tbody tr th:only-of-type {\n",
       "        vertical-align: middle;\n",
       "    }\n",
       "\n",
       "    .dataframe tbody tr th {\n",
       "        vertical-align: top;\n",
       "    }\n",
       "\n",
       "    .dataframe thead th {\n",
       "        text-align: right;\n",
       "    }\n",
       "</style>\n",
       "<table border=\"1\" class=\"dataframe\">\n",
       "  <thead>\n",
       "    <tr style=\"text-align: right;\">\n",
       "      <th></th>\n",
       "      <th>0 to 9</th>\n",
       "      <th>ones</th>\n",
       "      <th>zeros</th>\n",
       "    </tr>\n",
       "  </thead>\n",
       "  <tbody>\n",
       "    <tr>\n",
       "      <th>0</th>\n",
       "      <td>0</td>\n",
       "      <td>1.0</td>\n",
       "      <td>0.0</td>\n",
       "    </tr>\n",
       "    <tr>\n",
       "      <th>1</th>\n",
       "      <td>1</td>\n",
       "      <td>1.0</td>\n",
       "      <td>0.0</td>\n",
       "    </tr>\n",
       "    <tr>\n",
       "      <th>2</th>\n",
       "      <td>2</td>\n",
       "      <td>1.0</td>\n",
       "      <td>0.0</td>\n",
       "    </tr>\n",
       "    <tr>\n",
       "      <th>3</th>\n",
       "      <td>3</td>\n",
       "      <td>1.0</td>\n",
       "      <td>0.0</td>\n",
       "    </tr>\n",
       "    <tr>\n",
       "      <th>4</th>\n",
       "      <td>4</td>\n",
       "      <td>1.0</td>\n",
       "      <td>0.0</td>\n",
       "    </tr>\n",
       "  </tbody>\n",
       "</table>\n",
       "</div>"
      ],
      "text/plain": [
       "   0 to 9  ones  zeros\n",
       "0       0   1.0    0.0\n",
       "1       1   1.0    0.0\n",
       "2       2   1.0    0.0\n",
       "3       3   1.0    0.0\n",
       "4       4   1.0    0.0"
      ]
     },
     "execution_count": 70,
     "metadata": {},
     "output_type": "execute_result"
    }
   ],
   "source": [
    "# df.iloc[start.finish - 1] calls according to row number\n",
    "data_df.iloc[:5]"
   ]
  },
  {
   "cell_type": "code",
   "execution_count": 71,
   "id": "e6ef3424",
   "metadata": {},
   "outputs": [
    {
     "data": {
      "text/html": [
       "<div>\n",
       "<style scoped>\n",
       "    .dataframe tbody tr th:only-of-type {\n",
       "        vertical-align: middle;\n",
       "    }\n",
       "\n",
       "    .dataframe tbody tr th {\n",
       "        vertical-align: top;\n",
       "    }\n",
       "\n",
       "    .dataframe thead th {\n",
       "        text-align: right;\n",
       "    }\n",
       "</style>\n",
       "<table border=\"1\" class=\"dataframe\">\n",
       "  <thead>\n",
       "    <tr style=\"text-align: right;\">\n",
       "      <th></th>\n",
       "      <th>0 to 9</th>\n",
       "      <th>ones</th>\n",
       "      <th>zeros</th>\n",
       "    </tr>\n",
       "  </thead>\n",
       "  <tbody>\n",
       "    <tr>\n",
       "      <th>0</th>\n",
       "      <td>0</td>\n",
       "      <td>1.0</td>\n",
       "      <td>0.0</td>\n",
       "    </tr>\n",
       "    <tr>\n",
       "      <th>1</th>\n",
       "      <td>1</td>\n",
       "      <td>1.0</td>\n",
       "      <td>0.0</td>\n",
       "    </tr>\n",
       "    <tr>\n",
       "      <th>2</th>\n",
       "      <td>2</td>\n",
       "      <td>1.0</td>\n",
       "      <td>0.0</td>\n",
       "    </tr>\n",
       "    <tr>\n",
       "      <th>3</th>\n",
       "      <td>3</td>\n",
       "      <td>1.0</td>\n",
       "      <td>0.0</td>\n",
       "    </tr>\n",
       "    <tr>\n",
       "      <th>4</th>\n",
       "      <td>4</td>\n",
       "      <td>1.0</td>\n",
       "      <td>0.0</td>\n",
       "    </tr>\n",
       "    <tr>\n",
       "      <th>5</th>\n",
       "      <td>5</td>\n",
       "      <td>1.0</td>\n",
       "      <td>0.0</td>\n",
       "    </tr>\n",
       "  </tbody>\n",
       "</table>\n",
       "</div>"
      ],
      "text/plain": [
       "   0 to 9  ones  zeros\n",
       "0       0   1.0    0.0\n",
       "1       1   1.0    0.0\n",
       "2       2   1.0    0.0\n",
       "3       3   1.0    0.0\n",
       "4       4   1.0    0.0\n",
       "5       5   1.0    0.0"
      ]
     },
     "execution_count": 71,
     "metadata": {},
     "output_type": "execute_result"
    }
   ],
   "source": [
    "# df.loc[] calls according to row name\n",
    "data_df.loc[:5]"
   ]
  },
  {
   "cell_type": "markdown",
   "id": "8bb589bf",
   "metadata": {},
   "source": [
    "# Creating Random Data for a Dataframe"
   ]
  },
  {
   "cell_type": "code",
   "execution_count": 87,
   "id": "d742d834",
   "metadata": {},
   "outputs": [],
   "source": [
    "# Dictionary with keys\n",
    "macro_dict = {\"GDP\":{},\n",
    "            \"Money\":{},\n",
    "            #\"Real GDP\":{},\n",
    "            \"Price Level\":{}}"
   ]
  },
  {
   "cell_type": "code",
   "execution_count": 98,
   "id": "544e7fec",
   "metadata": {},
   "outputs": [],
   "source": [
    "# Index for keys\n",
    "for key in macro_dict:\n",
    "    for i in range(1990, 2018):\n",
    "        macro_dict[key][i] = np.random.random() * 10000"
   ]
  },
  {
   "cell_type": "code",
   "execution_count": 83,
   "id": "c38e7b22",
   "metadata": {},
   "outputs": [
    {
     "data": {
      "text/plain": [
       "{'GDP': {1990: 7146.918059203135,\n",
       "  1991: 9589.892924293874,\n",
       "  1992: 6743.734415969599,\n",
       "  1993: 5962.726012539634,\n",
       "  1994: 3155.2812503103987,\n",
       "  1995: 560.9857924268347,\n",
       "  1996: 6703.3028059797925,\n",
       "  1997: 9470.909998912266,\n",
       "  1998: 8490.15894924956,\n",
       "  1999: 5376.488769659796,\n",
       "  2000: 6295.703635591682,\n",
       "  2001: 9794.79252474239,\n",
       "  2002: 4692.378590705556,\n",
       "  2003: 7236.700012979624,\n",
       "  2004: 1067.6589492972232,\n",
       "  2005: 6461.504844915226,\n",
       "  2006: 3727.417771320003,\n",
       "  2007: 5489.045797660914,\n",
       "  2008: 3809.6480981266036,\n",
       "  2009: 8952.268089941688,\n",
       "  2010: 5842.648833664811,\n",
       "  2011: 6421.863454127318,\n",
       "  2012: 2627.722005877643,\n",
       "  2013: 3538.534972948051,\n",
       "  2014: 7271.177474493642,\n",
       "  2015: 2642.590852765222,\n",
       "  2016: 7069.532000278718,\n",
       "  2017: 9100.504450184699},\n",
       " 'Money': {1990: 4239.3371290044315,\n",
       "  1991: 4708.841094954166,\n",
       "  1992: 6521.016790970516,\n",
       "  1993: 9003.720847585546,\n",
       "  1994: 96.82592387580624,\n",
       "  1995: 9788.835585276845,\n",
       "  1996: 1075.0227037332681,\n",
       "  1997: 1609.181557726791,\n",
       "  1998: 711.3489227163205,\n",
       "  1999: 3108.7875187296286,\n",
       "  2000: 2951.771443114949,\n",
       "  2001: 6549.892594700532,\n",
       "  2002: 9704.041159000608,\n",
       "  2003: 4764.721315544907,\n",
       "  2004: 7983.453562089219,\n",
       "  2005: 957.8198164008778,\n",
       "  2006: 372.66926007320177,\n",
       "  2007: 3330.186275074365,\n",
       "  2008: 8772.170445436033,\n",
       "  2009: 4270.1981228531,\n",
       "  2010: 3688.8785976918202,\n",
       "  2011: 4144.6728729222905,\n",
       "  2012: 4320.774441428578,\n",
       "  2013: 9811.751637164973,\n",
       "  2014: 6226.261904377367,\n",
       "  2015: 176.34034759880123,\n",
       "  2016: 9028.637900300711,\n",
       "  2017: 1362.9707379785582},\n",
       " 'Real GDP': {1990: 2019.1178994411719,\n",
       "  1991: 9005.572958796474,\n",
       "  1992: 9134.676891263389,\n",
       "  1993: 5376.346948299563,\n",
       "  1994: 3210.273606949889,\n",
       "  1995: 6284.330911713703,\n",
       "  1996: 449.0179142100481,\n",
       "  1997: 4214.279603345208,\n",
       "  1998: 6059.073877901362,\n",
       "  1999: 1683.6395900564871,\n",
       "  2000: 5013.121576637106,\n",
       "  2001: 5158.28341850069,\n",
       "  2002: 1106.6319950976367,\n",
       "  2003: 8283.647838248226,\n",
       "  2004: 6221.351374861672,\n",
       "  2005: 2886.8768861381877,\n",
       "  2006: 1192.6761552145592,\n",
       "  2007: 1778.6937639214207,\n",
       "  2008: 8679.17800852951,\n",
       "  2009: 2973.9818889861003,\n",
       "  2010: 5864.152103972876,\n",
       "  2011: 3515.9626390080343,\n",
       "  2012: 6439.221553333198,\n",
       "  2013: 9695.135667138553,\n",
       "  2014: 4016.4133065494534,\n",
       "  2015: 977.2661326561094,\n",
       "  2016: 1638.2839382624393,\n",
       "  2017: 5298.018017423036},\n",
       " 'Price Level': {1990: 4571.937463128479,\n",
       "  1991: 9469.360556280873,\n",
       "  1992: 6498.515444635422,\n",
       "  1993: 4028.4372508205756,\n",
       "  1994: 817.2436363393388,\n",
       "  1995: 7714.361403222178,\n",
       "  1996: 3410.835621931559,\n",
       "  1997: 9795.61822448864,\n",
       "  1998: 4541.690764521679,\n",
       "  1999: 2667.4705269342203,\n",
       "  2000: 7336.670957262172,\n",
       "  2001: 2089.4715810561183,\n",
       "  2002: 4457.026853459378,\n",
       "  2003: 647.1933105243321,\n",
       "  2004: 2354.1586337303934,\n",
       "  2005: 1623.1988705941435,\n",
       "  2006: 937.5473379347288,\n",
       "  2007: 1636.1530979457862,\n",
       "  2008: 1709.415861124075,\n",
       "  2009: 5984.247996013472,\n",
       "  2010: 836.6892646386981,\n",
       "  2011: 9305.147657565014,\n",
       "  2012: 543.9315337376871,\n",
       "  2013: 2298.641409103295,\n",
       "  2014: 1187.1706112929926,\n",
       "  2015: 4977.119966893475,\n",
       "  2016: 1601.4658532711358,\n",
       "  2017: 1992.4484001591768}}"
      ]
     },
     "execution_count": 83,
     "metadata": {},
     "output_type": "execute_result"
    }
   ],
   "source": [
    "macro_dict"
   ]
  },
  {
   "cell_type": "code",
   "execution_count": 99,
   "id": "9da106f2",
   "metadata": {
    "scrolled": true
   },
   "outputs": [
    {
     "data": {
      "text/html": [
       "<div>\n",
       "<style scoped>\n",
       "    .dataframe tbody tr th:only-of-type {\n",
       "        vertical-align: middle;\n",
       "    }\n",
       "\n",
       "    .dataframe tbody tr th {\n",
       "        vertical-align: top;\n",
       "    }\n",
       "\n",
       "    .dataframe thead th {\n",
       "        text-align: right;\n",
       "    }\n",
       "</style>\n",
       "<table border=\"1\" class=\"dataframe\">\n",
       "  <thead>\n",
       "    <tr style=\"text-align: right;\">\n",
       "      <th></th>\n",
       "      <th>GDP</th>\n",
       "      <th>Money</th>\n",
       "      <th>Price Level</th>\n",
       "    </tr>\n",
       "  </thead>\n",
       "  <tbody>\n",
       "    <tr>\n",
       "      <th>1990</th>\n",
       "      <td>4730.106597</td>\n",
       "      <td>7409.948302</td>\n",
       "      <td>477.719972</td>\n",
       "    </tr>\n",
       "    <tr>\n",
       "      <th>1991</th>\n",
       "      <td>7329.066129</td>\n",
       "      <td>5871.159132</td>\n",
       "      <td>3091.168822</td>\n",
       "    </tr>\n",
       "    <tr>\n",
       "      <th>1992</th>\n",
       "      <td>3552.697001</td>\n",
       "      <td>6620.452794</td>\n",
       "      <td>1924.881896</td>\n",
       "    </tr>\n",
       "    <tr>\n",
       "      <th>1993</th>\n",
       "      <td>552.593668</td>\n",
       "      <td>1179.371904</td>\n",
       "      <td>3549.702004</td>\n",
       "    </tr>\n",
       "    <tr>\n",
       "      <th>1994</th>\n",
       "      <td>7139.367974</td>\n",
       "      <td>3020.135943</td>\n",
       "      <td>7021.964377</td>\n",
       "    </tr>\n",
       "    <tr>\n",
       "      <th>1995</th>\n",
       "      <td>9729.152086</td>\n",
       "      <td>5920.007979</td>\n",
       "      <td>328.916732</td>\n",
       "    </tr>\n",
       "    <tr>\n",
       "      <th>1996</th>\n",
       "      <td>7246.515129</td>\n",
       "      <td>5100.007777</td>\n",
       "      <td>9483.207445</td>\n",
       "    </tr>\n",
       "    <tr>\n",
       "      <th>1997</th>\n",
       "      <td>6527.519025</td>\n",
       "      <td>983.974543</td>\n",
       "      <td>7003.800144</td>\n",
       "    </tr>\n",
       "    <tr>\n",
       "      <th>1998</th>\n",
       "      <td>4970.815159</td>\n",
       "      <td>5044.126128</td>\n",
       "      <td>9391.262675</td>\n",
       "    </tr>\n",
       "    <tr>\n",
       "      <th>1999</th>\n",
       "      <td>7680.455984</td>\n",
       "      <td>3229.672236</td>\n",
       "      <td>7791.230119</td>\n",
       "    </tr>\n",
       "    <tr>\n",
       "      <th>2000</th>\n",
       "      <td>4679.020033</td>\n",
       "      <td>7936.099865</td>\n",
       "      <td>7234.078198</td>\n",
       "    </tr>\n",
       "    <tr>\n",
       "      <th>2001</th>\n",
       "      <td>1904.801868</td>\n",
       "      <td>3078.322563</td>\n",
       "      <td>5416.065455</td>\n",
       "    </tr>\n",
       "    <tr>\n",
       "      <th>2002</th>\n",
       "      <td>1226.625435</td>\n",
       "      <td>5969.181707</td>\n",
       "      <td>8228.278523</td>\n",
       "    </tr>\n",
       "    <tr>\n",
       "      <th>2003</th>\n",
       "      <td>9982.401170</td>\n",
       "      <td>1228.954637</td>\n",
       "      <td>3012.301383</td>\n",
       "    </tr>\n",
       "    <tr>\n",
       "      <th>2004</th>\n",
       "      <td>8989.656883</td>\n",
       "      <td>3972.416017</td>\n",
       "      <td>9957.513989</td>\n",
       "    </tr>\n",
       "    <tr>\n",
       "      <th>2005</th>\n",
       "      <td>6138.160153</td>\n",
       "      <td>5616.975418</td>\n",
       "      <td>8328.256528</td>\n",
       "    </tr>\n",
       "    <tr>\n",
       "      <th>2006</th>\n",
       "      <td>4875.058322</td>\n",
       "      <td>3156.902102</td>\n",
       "      <td>7395.025065</td>\n",
       "    </tr>\n",
       "    <tr>\n",
       "      <th>2007</th>\n",
       "      <td>2854.214168</td>\n",
       "      <td>8840.124302</td>\n",
       "      <td>8386.365985</td>\n",
       "    </tr>\n",
       "    <tr>\n",
       "      <th>2008</th>\n",
       "      <td>5949.715120</td>\n",
       "      <td>8344.152186</td>\n",
       "      <td>5483.027026</td>\n",
       "    </tr>\n",
       "    <tr>\n",
       "      <th>2009</th>\n",
       "      <td>6045.558859</td>\n",
       "      <td>7416.862930</td>\n",
       "      <td>9289.396346</td>\n",
       "    </tr>\n",
       "    <tr>\n",
       "      <th>2010</th>\n",
       "      <td>7384.589336</td>\n",
       "      <td>9702.787989</td>\n",
       "      <td>7857.571123</td>\n",
       "    </tr>\n",
       "    <tr>\n",
       "      <th>2011</th>\n",
       "      <td>2258.481396</td>\n",
       "      <td>9764.639883</td>\n",
       "      <td>5769.893270</td>\n",
       "    </tr>\n",
       "    <tr>\n",
       "      <th>2012</th>\n",
       "      <td>2268.377282</td>\n",
       "      <td>1440.234198</td>\n",
       "      <td>6581.110243</td>\n",
       "    </tr>\n",
       "    <tr>\n",
       "      <th>2013</th>\n",
       "      <td>9732.859313</td>\n",
       "      <td>8299.856035</td>\n",
       "      <td>6983.839841</td>\n",
       "    </tr>\n",
       "    <tr>\n",
       "      <th>2014</th>\n",
       "      <td>4620.193824</td>\n",
       "      <td>6378.691319</td>\n",
       "      <td>1436.761616</td>\n",
       "    </tr>\n",
       "    <tr>\n",
       "      <th>2015</th>\n",
       "      <td>1997.035330</td>\n",
       "      <td>9633.165740</td>\n",
       "      <td>6102.102817</td>\n",
       "    </tr>\n",
       "    <tr>\n",
       "      <th>2016</th>\n",
       "      <td>9971.228330</td>\n",
       "      <td>4291.552993</td>\n",
       "      <td>1475.667793</td>\n",
       "    </tr>\n",
       "    <tr>\n",
       "      <th>2017</th>\n",
       "      <td>2031.152810</td>\n",
       "      <td>6604.507486</td>\n",
       "      <td>4622.648678</td>\n",
       "    </tr>\n",
       "  </tbody>\n",
       "</table>\n",
       "</div>"
      ],
      "text/plain": [
       "              GDP        Money  Price Level\n",
       "1990  4730.106597  7409.948302   477.719972\n",
       "1991  7329.066129  5871.159132  3091.168822\n",
       "1992  3552.697001  6620.452794  1924.881896\n",
       "1993   552.593668  1179.371904  3549.702004\n",
       "1994  7139.367974  3020.135943  7021.964377\n",
       "1995  9729.152086  5920.007979   328.916732\n",
       "1996  7246.515129  5100.007777  9483.207445\n",
       "1997  6527.519025   983.974543  7003.800144\n",
       "1998  4970.815159  5044.126128  9391.262675\n",
       "1999  7680.455984  3229.672236  7791.230119\n",
       "2000  4679.020033  7936.099865  7234.078198\n",
       "2001  1904.801868  3078.322563  5416.065455\n",
       "2002  1226.625435  5969.181707  8228.278523\n",
       "2003  9982.401170  1228.954637  3012.301383\n",
       "2004  8989.656883  3972.416017  9957.513989\n",
       "2005  6138.160153  5616.975418  8328.256528\n",
       "2006  4875.058322  3156.902102  7395.025065\n",
       "2007  2854.214168  8840.124302  8386.365985\n",
       "2008  5949.715120  8344.152186  5483.027026\n",
       "2009  6045.558859  7416.862930  9289.396346\n",
       "2010  7384.589336  9702.787989  7857.571123\n",
       "2011  2258.481396  9764.639883  5769.893270\n",
       "2012  2268.377282  1440.234198  6581.110243\n",
       "2013  9732.859313  8299.856035  6983.839841\n",
       "2014  4620.193824  6378.691319  1436.761616\n",
       "2015  1997.035330  9633.165740  6102.102817\n",
       "2016  9971.228330  4291.552993  1475.667793\n",
       "2017  2031.152810  6604.507486  4622.648678"
      ]
     },
     "execution_count": 99,
     "metadata": {},
     "output_type": "execute_result"
    }
   ],
   "source": [
    "# Makes the dictionary into a dataframe\n",
    "macro_df = pd.DataFrame(macro_dict)\n",
    "macro_df"
   ]
  },
  {
   "cell_type": "markdown",
   "id": "39b1d49d",
   "metadata": {},
   "source": [
    "# Creating a New Column from Current"
   ]
  },
  {
   "cell_type": "code",
   "execution_count": 100,
   "id": "a7a64e55",
   "metadata": {
    "scrolled": true
   },
   "outputs": [
    {
     "data": {
      "text/html": [
       "<div>\n",
       "<style scoped>\n",
       "    .dataframe tbody tr th:only-of-type {\n",
       "        vertical-align: middle;\n",
       "    }\n",
       "\n",
       "    .dataframe tbody tr th {\n",
       "        vertical-align: top;\n",
       "    }\n",
       "\n",
       "    .dataframe thead th {\n",
       "        text-align: right;\n",
       "    }\n",
       "</style>\n",
       "<table border=\"1\" class=\"dataframe\">\n",
       "  <thead>\n",
       "    <tr style=\"text-align: right;\">\n",
       "      <th></th>\n",
       "      <th>GDP</th>\n",
       "      <th>Money</th>\n",
       "      <th>Price Level</th>\n",
       "      <th>Velocity</th>\n",
       "      <th>Real GDP</th>\n",
       "    </tr>\n",
       "  </thead>\n",
       "  <tbody>\n",
       "    <tr>\n",
       "      <th>1990</th>\n",
       "      <td>4730.106597</td>\n",
       "      <td>7409.948302</td>\n",
       "      <td>477.719972</td>\n",
       "      <td>0.638345</td>\n",
       "      <td>9.901421</td>\n",
       "    </tr>\n",
       "    <tr>\n",
       "      <th>1991</th>\n",
       "      <td>7329.066129</td>\n",
       "      <td>5871.159132</td>\n",
       "      <td>3091.168822</td>\n",
       "      <td>1.248317</td>\n",
       "      <td>2.370969</td>\n",
       "    </tr>\n",
       "    <tr>\n",
       "      <th>1992</th>\n",
       "      <td>3552.697001</td>\n",
       "      <td>6620.452794</td>\n",
       "      <td>1924.881896</td>\n",
       "      <td>0.536624</td>\n",
       "      <td>1.845670</td>\n",
       "    </tr>\n",
       "    <tr>\n",
       "      <th>1993</th>\n",
       "      <td>552.593668</td>\n",
       "      <td>1179.371904</td>\n",
       "      <td>3549.702004</td>\n",
       "      <td>0.468549</td>\n",
       "      <td>0.155673</td>\n",
       "    </tr>\n",
       "    <tr>\n",
       "      <th>1994</th>\n",
       "      <td>7139.367974</td>\n",
       "      <td>3020.135943</td>\n",
       "      <td>7021.964377</td>\n",
       "      <td>2.363923</td>\n",
       "      <td>1.016719</td>\n",
       "    </tr>\n",
       "    <tr>\n",
       "      <th>1995</th>\n",
       "      <td>9729.152086</td>\n",
       "      <td>5920.007979</td>\n",
       "      <td>328.916732</td>\n",
       "      <td>1.643436</td>\n",
       "      <td>29.579377</td>\n",
       "    </tr>\n",
       "    <tr>\n",
       "      <th>1996</th>\n",
       "      <td>7246.515129</td>\n",
       "      <td>5100.007777</td>\n",
       "      <td>9483.207445</td>\n",
       "      <td>1.420883</td>\n",
       "      <td>0.764142</td>\n",
       "    </tr>\n",
       "    <tr>\n",
       "      <th>1997</th>\n",
       "      <td>6527.519025</td>\n",
       "      <td>983.974543</td>\n",
       "      <td>7003.800144</td>\n",
       "      <td>6.633829</td>\n",
       "      <td>0.931997</td>\n",
       "    </tr>\n",
       "    <tr>\n",
       "      <th>1998</th>\n",
       "      <td>4970.815159</td>\n",
       "      <td>5044.126128</td>\n",
       "      <td>9391.262675</td>\n",
       "      <td>0.985466</td>\n",
       "      <td>0.529302</td>\n",
       "    </tr>\n",
       "    <tr>\n",
       "      <th>1999</th>\n",
       "      <td>7680.455984</td>\n",
       "      <td>3229.672236</td>\n",
       "      <td>7791.230119</td>\n",
       "      <td>2.378091</td>\n",
       "      <td>0.985782</td>\n",
       "    </tr>\n",
       "    <tr>\n",
       "      <th>2000</th>\n",
       "      <td>4679.020033</td>\n",
       "      <td>7936.099865</td>\n",
       "      <td>7234.078198</td>\n",
       "      <td>0.589587</td>\n",
       "      <td>0.646803</td>\n",
       "    </tr>\n",
       "    <tr>\n",
       "      <th>2001</th>\n",
       "      <td>1904.801868</td>\n",
       "      <td>3078.322563</td>\n",
       "      <td>5416.065455</td>\n",
       "      <td>0.618779</td>\n",
       "      <td>0.351695</td>\n",
       "    </tr>\n",
       "    <tr>\n",
       "      <th>2002</th>\n",
       "      <td>1226.625435</td>\n",
       "      <td>5969.181707</td>\n",
       "      <td>8228.278523</td>\n",
       "      <td>0.205493</td>\n",
       "      <td>0.149074</td>\n",
       "    </tr>\n",
       "    <tr>\n",
       "      <th>2003</th>\n",
       "      <td>9982.401170</td>\n",
       "      <td>1228.954637</td>\n",
       "      <td>3012.301383</td>\n",
       "      <td>8.122677</td>\n",
       "      <td>3.313879</td>\n",
       "    </tr>\n",
       "    <tr>\n",
       "      <th>2004</th>\n",
       "      <td>8989.656883</td>\n",
       "      <td>3972.416017</td>\n",
       "      <td>9957.513989</td>\n",
       "      <td>2.263020</td>\n",
       "      <td>0.902801</td>\n",
       "    </tr>\n",
       "    <tr>\n",
       "      <th>2005</th>\n",
       "      <td>6138.160153</td>\n",
       "      <td>5616.975418</td>\n",
       "      <td>8328.256528</td>\n",
       "      <td>1.092787</td>\n",
       "      <td>0.737028</td>\n",
       "    </tr>\n",
       "    <tr>\n",
       "      <th>2006</th>\n",
       "      <td>4875.058322</td>\n",
       "      <td>3156.902102</td>\n",
       "      <td>7395.025065</td>\n",
       "      <td>1.544254</td>\n",
       "      <td>0.659235</td>\n",
       "    </tr>\n",
       "    <tr>\n",
       "      <th>2007</th>\n",
       "      <td>2854.214168</td>\n",
       "      <td>8840.124302</td>\n",
       "      <td>8386.365985</td>\n",
       "      <td>0.322870</td>\n",
       "      <td>0.340340</td>\n",
       "    </tr>\n",
       "    <tr>\n",
       "      <th>2008</th>\n",
       "      <td>5949.715120</td>\n",
       "      <td>8344.152186</td>\n",
       "      <td>5483.027026</td>\n",
       "      <td>0.713040</td>\n",
       "      <td>1.085115</td>\n",
       "    </tr>\n",
       "    <tr>\n",
       "      <th>2009</th>\n",
       "      <td>6045.558859</td>\n",
       "      <td>7416.862930</td>\n",
       "      <td>9289.396346</td>\n",
       "      <td>0.815110</td>\n",
       "      <td>0.650802</td>\n",
       "    </tr>\n",
       "    <tr>\n",
       "      <th>2010</th>\n",
       "      <td>7384.589336</td>\n",
       "      <td>9702.787989</td>\n",
       "      <td>7857.571123</td>\n",
       "      <td>0.761079</td>\n",
       "      <td>0.939806</td>\n",
       "    </tr>\n",
       "    <tr>\n",
       "      <th>2011</th>\n",
       "      <td>2258.481396</td>\n",
       "      <td>9764.639883</td>\n",
       "      <td>5769.893270</td>\n",
       "      <td>0.231292</td>\n",
       "      <td>0.391425</td>\n",
       "    </tr>\n",
       "    <tr>\n",
       "      <th>2012</th>\n",
       "      <td>2268.377282</td>\n",
       "      <td>1440.234198</td>\n",
       "      <td>6581.110243</td>\n",
       "      <td>1.575006</td>\n",
       "      <td>0.344680</td>\n",
       "    </tr>\n",
       "    <tr>\n",
       "      <th>2013</th>\n",
       "      <td>9732.859313</td>\n",
       "      <td>8299.856035</td>\n",
       "      <td>6983.839841</td>\n",
       "      <td>1.172654</td>\n",
       "      <td>1.393626</td>\n",
       "    </tr>\n",
       "    <tr>\n",
       "      <th>2014</th>\n",
       "      <td>4620.193824</td>\n",
       "      <td>6378.691319</td>\n",
       "      <td>1436.761616</td>\n",
       "      <td>0.724317</td>\n",
       "      <td>3.215700</td>\n",
       "    </tr>\n",
       "    <tr>\n",
       "      <th>2015</th>\n",
       "      <td>1997.035330</td>\n",
       "      <td>9633.165740</td>\n",
       "      <td>6102.102817</td>\n",
       "      <td>0.207308</td>\n",
       "      <td>0.327270</td>\n",
       "    </tr>\n",
       "    <tr>\n",
       "      <th>2016</th>\n",
       "      <td>9971.228330</td>\n",
       "      <td>4291.552993</td>\n",
       "      <td>1475.667793</td>\n",
       "      <td>2.323455</td>\n",
       "      <td>6.757096</td>\n",
       "    </tr>\n",
       "    <tr>\n",
       "      <th>2017</th>\n",
       "      <td>2031.152810</td>\n",
       "      <td>6604.507486</td>\n",
       "      <td>4622.648678</td>\n",
       "      <td>0.307540</td>\n",
       "      <td>0.439392</td>\n",
       "    </tr>\n",
       "  </tbody>\n",
       "</table>\n",
       "</div>"
      ],
      "text/plain": [
       "              GDP        Money  Price Level  Velocity   Real GDP\n",
       "1990  4730.106597  7409.948302   477.719972  0.638345   9.901421\n",
       "1991  7329.066129  5871.159132  3091.168822  1.248317   2.370969\n",
       "1992  3552.697001  6620.452794  1924.881896  0.536624   1.845670\n",
       "1993   552.593668  1179.371904  3549.702004  0.468549   0.155673\n",
       "1994  7139.367974  3020.135943  7021.964377  2.363923   1.016719\n",
       "1995  9729.152086  5920.007979   328.916732  1.643436  29.579377\n",
       "1996  7246.515129  5100.007777  9483.207445  1.420883   0.764142\n",
       "1997  6527.519025   983.974543  7003.800144  6.633829   0.931997\n",
       "1998  4970.815159  5044.126128  9391.262675  0.985466   0.529302\n",
       "1999  7680.455984  3229.672236  7791.230119  2.378091   0.985782\n",
       "2000  4679.020033  7936.099865  7234.078198  0.589587   0.646803\n",
       "2001  1904.801868  3078.322563  5416.065455  0.618779   0.351695\n",
       "2002  1226.625435  5969.181707  8228.278523  0.205493   0.149074\n",
       "2003  9982.401170  1228.954637  3012.301383  8.122677   3.313879\n",
       "2004  8989.656883  3972.416017  9957.513989  2.263020   0.902801\n",
       "2005  6138.160153  5616.975418  8328.256528  1.092787   0.737028\n",
       "2006  4875.058322  3156.902102  7395.025065  1.544254   0.659235\n",
       "2007  2854.214168  8840.124302  8386.365985  0.322870   0.340340\n",
       "2008  5949.715120  8344.152186  5483.027026  0.713040   1.085115\n",
       "2009  6045.558859  7416.862930  9289.396346  0.815110   0.650802\n",
       "2010  7384.589336  9702.787989  7857.571123  0.761079   0.939806\n",
       "2011  2258.481396  9764.639883  5769.893270  0.231292   0.391425\n",
       "2012  2268.377282  1440.234198  6581.110243  1.575006   0.344680\n",
       "2013  9732.859313  8299.856035  6983.839841  1.172654   1.393626\n",
       "2014  4620.193824  6378.691319  1436.761616  0.724317   3.215700\n",
       "2015  1997.035330  9633.165740  6102.102817  0.207308   0.327270\n",
       "2016  9971.228330  4291.552993  1475.667793  2.323455   6.757096\n",
       "2017  2031.152810  6604.507486  4622.648678  0.307540   0.439392"
      ]
     },
     "execution_count": 100,
     "metadata": {},
     "output_type": "execute_result"
    }
   ],
   "source": [
    "# Can usemacro_df[\"GDP\"].div(macro_df[\"Money\"]) instead of /\n",
    "macro_df[\"Velocity\"] = macro_df[\"GDP\"] / macro_df[\"Money\"]\n",
    "macro_df[\"Real GDP\"] = macro_df[\"GDP\"].div(macro_df[\"Price Level\"])\n",
    "macro_df"
   ]
  },
  {
   "cell_type": "code",
   "execution_count": 102,
   "id": "5cc76f3d",
   "metadata": {},
   "outputs": [
    {
     "data": {
      "text/html": [
       "<div>\n",
       "<style scoped>\n",
       "    .dataframe tbody tr th:only-of-type {\n",
       "        vertical-align: middle;\n",
       "    }\n",
       "\n",
       "    .dataframe tbody tr th {\n",
       "        vertical-align: top;\n",
       "    }\n",
       "\n",
       "    .dataframe thead th {\n",
       "        text-align: right;\n",
       "    }\n",
       "</style>\n",
       "<table border=\"1\" class=\"dataframe\">\n",
       "  <thead>\n",
       "    <tr style=\"text-align: right;\">\n",
       "      <th></th>\n",
       "      <th>GDP</th>\n",
       "      <th>Money</th>\n",
       "      <th>Price Level</th>\n",
       "      <th>Velocity</th>\n",
       "      <th>Real GDP</th>\n",
       "    </tr>\n",
       "  </thead>\n",
       "  <tbody>\n",
       "    <tr>\n",
       "      <th>1995</th>\n",
       "      <td>9729.152086</td>\n",
       "      <td>5920.007979</td>\n",
       "      <td>328.916732</td>\n",
       "      <td>1.643436</td>\n",
       "      <td>29.579377</td>\n",
       "    </tr>\n",
       "    <tr>\n",
       "      <th>1996</th>\n",
       "      <td>7246.515129</td>\n",
       "      <td>5100.007777</td>\n",
       "      <td>9483.207445</td>\n",
       "      <td>1.420883</td>\n",
       "      <td>0.764142</td>\n",
       "    </tr>\n",
       "    <tr>\n",
       "      <th>1997</th>\n",
       "      <td>6527.519025</td>\n",
       "      <td>983.974543</td>\n",
       "      <td>7003.800144</td>\n",
       "      <td>6.633829</td>\n",
       "      <td>0.931997</td>\n",
       "    </tr>\n",
       "    <tr>\n",
       "      <th>1998</th>\n",
       "      <td>4970.815159</td>\n",
       "      <td>5044.126128</td>\n",
       "      <td>9391.262675</td>\n",
       "      <td>0.985466</td>\n",
       "      <td>0.529302</td>\n",
       "    </tr>\n",
       "    <tr>\n",
       "      <th>1999</th>\n",
       "      <td>7680.455984</td>\n",
       "      <td>3229.672236</td>\n",
       "      <td>7791.230119</td>\n",
       "      <td>2.378091</td>\n",
       "      <td>0.985782</td>\n",
       "    </tr>\n",
       "    <tr>\n",
       "      <th>2000</th>\n",
       "      <td>4679.020033</td>\n",
       "      <td>7936.099865</td>\n",
       "      <td>7234.078198</td>\n",
       "      <td>0.589587</td>\n",
       "      <td>0.646803</td>\n",
       "    </tr>\n",
       "  </tbody>\n",
       "</table>\n",
       "</div>"
      ],
      "text/plain": [
       "              GDP        Money  Price Level  Velocity   Real GDP\n",
       "1995  9729.152086  5920.007979   328.916732  1.643436  29.579377\n",
       "1996  7246.515129  5100.007777  9483.207445  1.420883   0.764142\n",
       "1997  6527.519025   983.974543  7003.800144  6.633829   0.931997\n",
       "1998  4970.815159  5044.126128  9391.262675  0.985466   0.529302\n",
       "1999  7680.455984  3229.672236  7791.230119  2.378091   0.985782\n",
       "2000  4679.020033  7936.099865  7234.078198  0.589587   0.646803"
      ]
     },
     "execution_count": 102,
     "metadata": {},
     "output_type": "execute_result"
    }
   ],
   "source": [
    "# Can call individual row/range of rows\n",
    "macro_df.loc[1995:2000]"
   ]
  },
  {
   "cell_type": "code",
   "execution_count": 104,
   "id": "0e88e394",
   "metadata": {},
   "outputs": [
    {
     "data": {
      "text/html": [
       "<div>\n",
       "<style scoped>\n",
       "    .dataframe tbody tr th:only-of-type {\n",
       "        vertical-align: middle;\n",
       "    }\n",
       "\n",
       "    .dataframe tbody tr th {\n",
       "        vertical-align: top;\n",
       "    }\n",
       "\n",
       "    .dataframe thead th {\n",
       "        text-align: right;\n",
       "    }\n",
       "</style>\n",
       "<table border=\"1\" class=\"dataframe\">\n",
       "  <thead>\n",
       "    <tr style=\"text-align: right;\">\n",
       "      <th></th>\n",
       "      <th>Real GDP</th>\n",
       "      <th>Money</th>\n",
       "    </tr>\n",
       "  </thead>\n",
       "  <tbody>\n",
       "    <tr>\n",
       "      <th>1995</th>\n",
       "      <td>29.579377</td>\n",
       "      <td>5920.007979</td>\n",
       "    </tr>\n",
       "    <tr>\n",
       "      <th>1996</th>\n",
       "      <td>0.764142</td>\n",
       "      <td>5100.007777</td>\n",
       "    </tr>\n",
       "    <tr>\n",
       "      <th>1997</th>\n",
       "      <td>0.931997</td>\n",
       "      <td>983.974543</td>\n",
       "    </tr>\n",
       "    <tr>\n",
       "      <th>1998</th>\n",
       "      <td>0.529302</td>\n",
       "      <td>5044.126128</td>\n",
       "    </tr>\n",
       "    <tr>\n",
       "      <th>1999</th>\n",
       "      <td>0.985782</td>\n",
       "      <td>3229.672236</td>\n",
       "    </tr>\n",
       "    <tr>\n",
       "      <th>2000</th>\n",
       "      <td>0.646803</td>\n",
       "      <td>7936.099865</td>\n",
       "    </tr>\n",
       "  </tbody>\n",
       "</table>\n",
       "</div>"
      ],
      "text/plain": [
       "       Real GDP        Money\n",
       "1995  29.579377  5920.007979\n",
       "1996   0.764142  5100.007777\n",
       "1997   0.931997   983.974543\n",
       "1998   0.529302  5044.126128\n",
       "1999   0.985782  3229.672236\n",
       "2000   0.646803  7936.099865"
      ]
     },
     "execution_count": 104,
     "metadata": {},
     "output_type": "execute_result"
    }
   ],
   "source": [
    "# Can use this for columns\n",
    "# Calls a subset of rows by passing a list of keys\n",
    "macro_df.loc[1995:2000, [\"Real GDP\", \"Money\"]]"
   ]
  },
  {
   "cell_type": "code",
   "execution_count": 108,
   "id": "f1288606",
   "metadata": {
    "scrolled": true
   },
   "outputs": [
    {
     "data": {
      "text/html": [
       "<div>\n",
       "<style scoped>\n",
       "    .dataframe tbody tr th:only-of-type {\n",
       "        vertical-align: middle;\n",
       "    }\n",
       "\n",
       "    .dataframe tbody tr th {\n",
       "        vertical-align: top;\n",
       "    }\n",
       "\n",
       "    .dataframe thead th {\n",
       "        text-align: right;\n",
       "    }\n",
       "</style>\n",
       "<table border=\"1\" class=\"dataframe\">\n",
       "  <thead>\n",
       "    <tr style=\"text-align: right;\">\n",
       "      <th></th>\n",
       "      <th>Real GDP</th>\n",
       "      <th>Money</th>\n",
       "    </tr>\n",
       "  </thead>\n",
       "  <tbody>\n",
       "    <tr>\n",
       "      <th>1990</th>\n",
       "      <td>9.901421</td>\n",
       "      <td>7409.948302</td>\n",
       "    </tr>\n",
       "    <tr>\n",
       "      <th>1991</th>\n",
       "      <td>2.370969</td>\n",
       "      <td>5871.159132</td>\n",
       "    </tr>\n",
       "    <tr>\n",
       "      <th>1992</th>\n",
       "      <td>1.845670</td>\n",
       "      <td>6620.452794</td>\n",
       "    </tr>\n",
       "    <tr>\n",
       "      <th>1993</th>\n",
       "      <td>0.155673</td>\n",
       "      <td>1179.371904</td>\n",
       "    </tr>\n",
       "    <tr>\n",
       "      <th>1994</th>\n",
       "      <td>1.016719</td>\n",
       "      <td>3020.135943</td>\n",
       "    </tr>\n",
       "    <tr>\n",
       "      <th>1995</th>\n",
       "      <td>29.579377</td>\n",
       "      <td>5920.007979</td>\n",
       "    </tr>\n",
       "    <tr>\n",
       "      <th>1996</th>\n",
       "      <td>0.764142</td>\n",
       "      <td>5100.007777</td>\n",
       "    </tr>\n",
       "    <tr>\n",
       "      <th>1997</th>\n",
       "      <td>0.931997</td>\n",
       "      <td>983.974543</td>\n",
       "    </tr>\n",
       "    <tr>\n",
       "      <th>1998</th>\n",
       "      <td>0.529302</td>\n",
       "      <td>5044.126128</td>\n",
       "    </tr>\n",
       "    <tr>\n",
       "      <th>1999</th>\n",
       "      <td>0.985782</td>\n",
       "      <td>3229.672236</td>\n",
       "    </tr>\n",
       "    <tr>\n",
       "      <th>2000</th>\n",
       "      <td>0.646803</td>\n",
       "      <td>7936.099865</td>\n",
       "    </tr>\n",
       "    <tr>\n",
       "      <th>2001</th>\n",
       "      <td>0.351695</td>\n",
       "      <td>3078.322563</td>\n",
       "    </tr>\n",
       "    <tr>\n",
       "      <th>2002</th>\n",
       "      <td>0.149074</td>\n",
       "      <td>5969.181707</td>\n",
       "    </tr>\n",
       "    <tr>\n",
       "      <th>2003</th>\n",
       "      <td>3.313879</td>\n",
       "      <td>1228.954637</td>\n",
       "    </tr>\n",
       "    <tr>\n",
       "      <th>2004</th>\n",
       "      <td>0.902801</td>\n",
       "      <td>3972.416017</td>\n",
       "    </tr>\n",
       "    <tr>\n",
       "      <th>2005</th>\n",
       "      <td>0.737028</td>\n",
       "      <td>5616.975418</td>\n",
       "    </tr>\n",
       "    <tr>\n",
       "      <th>2006</th>\n",
       "      <td>0.659235</td>\n",
       "      <td>3156.902102</td>\n",
       "    </tr>\n",
       "    <tr>\n",
       "      <th>2007</th>\n",
       "      <td>0.340340</td>\n",
       "      <td>8840.124302</td>\n",
       "    </tr>\n",
       "    <tr>\n",
       "      <th>2008</th>\n",
       "      <td>1.085115</td>\n",
       "      <td>8344.152186</td>\n",
       "    </tr>\n",
       "    <tr>\n",
       "      <th>2009</th>\n",
       "      <td>0.650802</td>\n",
       "      <td>7416.862930</td>\n",
       "    </tr>\n",
       "    <tr>\n",
       "      <th>2010</th>\n",
       "      <td>0.939806</td>\n",
       "      <td>9702.787989</td>\n",
       "    </tr>\n",
       "    <tr>\n",
       "      <th>2011</th>\n",
       "      <td>0.391425</td>\n",
       "      <td>9764.639883</td>\n",
       "    </tr>\n",
       "    <tr>\n",
       "      <th>2012</th>\n",
       "      <td>0.344680</td>\n",
       "      <td>1440.234198</td>\n",
       "    </tr>\n",
       "    <tr>\n",
       "      <th>2013</th>\n",
       "      <td>1.393626</td>\n",
       "      <td>8299.856035</td>\n",
       "    </tr>\n",
       "    <tr>\n",
       "      <th>2014</th>\n",
       "      <td>3.215700</td>\n",
       "      <td>6378.691319</td>\n",
       "    </tr>\n",
       "    <tr>\n",
       "      <th>2015</th>\n",
       "      <td>0.327270</td>\n",
       "      <td>9633.165740</td>\n",
       "    </tr>\n",
       "    <tr>\n",
       "      <th>2016</th>\n",
       "      <td>6.757096</td>\n",
       "      <td>4291.552993</td>\n",
       "    </tr>\n",
       "    <tr>\n",
       "      <th>2017</th>\n",
       "      <td>0.439392</td>\n",
       "      <td>6604.507486</td>\n",
       "    </tr>\n",
       "  </tbody>\n",
       "</table>\n",
       "</div>"
      ],
      "text/plain": [
       "       Real GDP        Money\n",
       "1990   9.901421  7409.948302\n",
       "1991   2.370969  5871.159132\n",
       "1992   1.845670  6620.452794\n",
       "1993   0.155673  1179.371904\n",
       "1994   1.016719  3020.135943\n",
       "1995  29.579377  5920.007979\n",
       "1996   0.764142  5100.007777\n",
       "1997   0.931997   983.974543\n",
       "1998   0.529302  5044.126128\n",
       "1999   0.985782  3229.672236\n",
       "2000   0.646803  7936.099865\n",
       "2001   0.351695  3078.322563\n",
       "2002   0.149074  5969.181707\n",
       "2003   3.313879  1228.954637\n",
       "2004   0.902801  3972.416017\n",
       "2005   0.737028  5616.975418\n",
       "2006   0.659235  3156.902102\n",
       "2007   0.340340  8840.124302\n",
       "2008   1.085115  8344.152186\n",
       "2009   0.650802  7416.862930\n",
       "2010   0.939806  9702.787989\n",
       "2011   0.391425  9764.639883\n",
       "2012   0.344680  1440.234198\n",
       "2013   1.393626  8299.856035\n",
       "2014   3.215700  6378.691319\n",
       "2015   0.327270  9633.165740\n",
       "2016   6.757096  4291.552993\n",
       "2017   0.439392  6604.507486"
      ]
     },
     "execution_count": 108,
     "metadata": {},
     "output_type": "execute_result"
    }
   ],
   "source": [
    "# Same as above but calls all\n",
    "macro_df[[\"Real GDP\", \"Money\"]]"
   ]
  },
  {
   "cell_type": "markdown",
   "id": "74d64dd3",
   "metadata": {},
   "source": [
    "# Matplotlib"
   ]
  },
  {
   "cell_type": "code",
   "execution_count": 110,
   "id": "48d140cb",
   "metadata": {},
   "outputs": [
    {
     "data": {
      "text/plain": [
       "<AxesSubplot:>"
      ]
     },
     "execution_count": 110,
     "metadata": {},
     "output_type": "execute_result"
    },
    {
     "data": {
      "image/png": "[encoded data removed]",
      "text/plain": [
       "<Figure size 432x288 with 1 Axes>"
      ]
     },
     "metadata": {
      "needs_background": "light"
     },
     "output_type": "display_data"
    }
   ],
   "source": [
    "import matplotlib.pyplot as plt\n",
    "%matplotlib inline\n",
    "macro_df.plot.line()"
   ]
  },
  {
   "cell_type": "code",
   "execution_count": 118,
   "id": "9ce0c250",
   "metadata": {
    "scrolled": true
   },
   "outputs": [
    {
     "data": {
      "image/png": "[encoded data removed]",
      "text/plain": [
       "<Figure size 864x576 with 1 Axes>"
      ]
     },
     "metadata": {
      "needs_background": "light"
     },
     "output_type": "display_data"
    },
    {
     "data": {
      "image/png": "[encoded data removed]",
      "text/plain": [
       "<Figure size 864x576 with 1 Axes>"
      ]
     },
     "metadata": {
      "needs_background": "light"
     },
     "output_type": "display_data"
    },
    {
     "data": {
      "image/png": "[encoded data removed]",
      "text/plain": [
       "<Figure size 864x576 with 1 Axes>"
      ]
     },
     "metadata": {
      "needs_background": "light"
     },
     "output_type": "display_data"
    },
    {
     "data": {
      "image/png": "[encoded data removed]",
      "text/plain": [
       "<Figure size 864x576 with 1 Axes>"
      ]
     },
     "metadata": {
      "needs_background": "light"
     },
     "output_type": "display_data"
    },
    {
     "data": {
      "image/png": "[encoded data removed]",
      "text/plain": [
       "<Figure size 864x576 with 1 Axes>"
      ]
     },
     "metadata": {
      "needs_background": "light"
     },
     "output_type": "display_data"
    }
   ],
   "source": [
    "# Used to separate\n",
    "for key in macro_df:\n",
    "    # fig, ax = plt.subplots() is used to change plot size\n",
    "    fig, ax = plt.subplots(figsize = (12, 8))\n",
    "    macro_df[key].plot.line(ax = ax)\n",
    "    macro_df[key].plot.line(ls= \"\", marker = \".\", ax = ax)\n",
    "    plt.title(key, fontsize = 20)\n",
    "    plt.show()\n",
    "    plt.close()"
   ]
  }
 ],
 "metadata": {
  "kernelspec": {
   "display_name": "Python 3",
   "language": "python",
   "name": "python3"
  },
  "language_info": {
   "codemirror_mode": {
    "name": "ipython",
    "version": 3
   },
   "file_extension": ".py",
   "mimetype": "text/x-python",
   "name": "python",
   "nbconvert_exporter": "python",
   "pygments_lexer": "ipython3",
   "version": "3.8.8"
  }
 },
 "nbformat": 4,
 "nbformat_minor": 5
}
