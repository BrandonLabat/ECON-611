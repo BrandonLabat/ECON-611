{
 "cells": [
  {
   "cell_type": "markdown",
   "id": "5622646f",
   "metadata": {},
   "source": [
    "# Project 2: Chapter 2 - Working with Lists"
   ]
  },
  {
   "cell_type": "markdown",
   "id": "4fec777f",
   "metadata": {},
   "source": [
    "Lists can hold any kind of object"
   ]
  },
  {
   "cell_type": "code",
   "execution_count": 1,
   "id": "386f8785",
   "metadata": {},
   "outputs": [
    {
     "name": "stdout",
     "output_type": "stream",
     "text": [
      "[]\n",
      "[2, 4, 6, 8, 10]\n",
      "[2.0, 4.0, 6.0, 8.0, 10.0]\n",
      "['Words', 'List of strings']\n",
      "[3, 4.0, 'Mixed list of objects']\n"
     ]
    }
   ],
   "source": [
    "empty_list = []\n",
    "int_list = [2,4,6,8,10]\n",
    "float_list = [2.0,4.0,6.0,8.0,10.0]\n",
    "string_list = [\"Words\", \"List of strings\"]\n",
    "mixed_list = [3, 4.0, \"Mixed list of objects\"]\n",
    "\n",
    "print(empty_list)\n",
    "print(int_list)\n",
    "print(float_list)\n",
    "print(string_list)\n",
    "print(mixed_list)"
   ]
  },
  {
   "cell_type": "markdown",
   "id": "5185948d",
   "metadata": {},
   "source": [
    "Checking the types of objects in the last lists"
   ]
  },
  {
   "cell_type": "code",
   "execution_count": 2,
   "id": "5341fe3c",
   "metadata": {},
   "outputs": [
    {
     "data": {
      "text/plain": [
       "list"
      ]
     },
     "execution_count": 2,
     "metadata": {},
     "output_type": "execute_result"
    }
   ],
   "source": [
    "type(mixed_list)"
   ]
  },
  {
   "cell_type": "markdown",
   "id": "23de3b1f",
   "metadata": {},
   "source": [
    "To access the elements in the list, must call the index which starts from 0 and counts upward with each additional element"
   ]
  },
  {
   "cell_type": "code",
   "execution_count": 3,
   "id": "f7863a4d",
   "metadata": {},
   "outputs": [
    {
     "data": {
      "text/plain": [
       "(3, int)"
      ]
     },
     "execution_count": 3,
     "metadata": {},
     "output_type": "execute_result"
    }
   ],
   "source": [
    "mixed_list[0], type(mixed_list[0])"
   ]
  },
  {
   "cell_type": "code",
   "execution_count": 4,
   "id": "0e9ac87b",
   "metadata": {},
   "outputs": [
    {
     "data": {
      "text/plain": [
       "(4.0, float)"
      ]
     },
     "execution_count": 4,
     "metadata": {},
     "output_type": "execute_result"
    }
   ],
   "source": [
    "mixed_list[1], type(mixed_list[1])"
   ]
  },
  {
   "cell_type": "code",
   "execution_count": 5,
   "id": "14ff6d81",
   "metadata": {},
   "outputs": [
    {
     "data": {
      "text/plain": [
       "('Mixed list of objects', str)"
      ]
     },
     "execution_count": 5,
     "metadata": {},
     "output_type": "execute_result"
    }
   ],
   "source": [
    "mixed_list[2], type(mixed_list[2])"
   ]
  },
  {
   "cell_type": "markdown",
   "id": "046ddf39",
   "metadata": {},
   "source": [
    "# Concatenated Lists"
   ]
  },
  {
   "cell_type": "code",
   "execution_count": 6,
   "id": "f3ce433e",
   "metadata": {},
   "outputs": [
    {
     "name": "stdout",
     "output_type": "stream",
     "text": [
      "list1: [1, 2, 3, 4, 5]\n",
      "list2: [6, 7, 8, 9, 10]\n",
      "Lists combined: [1, 2, 3, 4, 5, 6, 7, 8, 9, 10]\n"
     ]
    }
   ],
   "source": [
    "list1 = [1,2,3,4,5]\n",
    "list2 = [6,7,8,9,10]\n",
    "join_lists = list1 + list2\n",
    "\n",
    "print(\"list1:\",list1)\n",
    "print(\"list2:\",list2)\n",
    "print(\"Lists combined:\",join_lists)"
   ]
  },
  {
   "cell_type": "markdown",
   "id": "4f13afb1",
   "metadata": {},
   "source": [
    "Similar to concatenating strings"
   ]
  },
  {
   "cell_type": "code",
   "execution_count": 7,
   "id": "3fdfc553",
   "metadata": {},
   "outputs": [
    {
     "data": {
      "text/plain": [
       "'StringAnother string'"
      ]
     },
     "execution_count": 7,
     "metadata": {},
     "output_type": "execute_result"
    }
   ],
   "source": [
    "str1 = \"String\"\n",
    "str2 = \"Another string\"\n",
    "\n",
    "join_strings = str1 + str2\n",
    "join_strings"
   ]
  },
  {
   "cell_type": "code",
   "execution_count": 8,
   "id": "2105ec74",
   "metadata": {},
   "outputs": [
    {
     "data": {
      "text/plain": [
       "'r'"
      ]
     },
     "execution_count": 8,
     "metadata": {},
     "output_type": "execute_result"
    }
   ],
   "source": [
    "join_strings[2]"
   ]
  },
  {
   "cell_type": "markdown",
   "id": "3026e704",
   "metadata": {},
   "source": [
    "# List Slices\n",
    "\n",
    "If you want to call a subset of a list or string, can do this by calling listname[start: end]"
   ]
  },
  {
   "cell_type": "code",
   "execution_count": 9,
   "id": "13fb783c",
   "metadata": {},
   "outputs": [
    {
     "data": {
      "text/plain": [
       "[1, 2, 3, 4, 5, 6, 7, 8, 9, 10]"
      ]
     },
     "execution_count": 9,
     "metadata": {},
     "output_type": "execute_result"
    }
   ],
   "source": [
    "join_lists"
   ]
  },
  {
   "cell_type": "code",
   "execution_count": 10,
   "id": "77ca6120",
   "metadata": {},
   "outputs": [
    {
     "data": {
      "text/plain": [
       "[1, 2, 3, 4, 5]"
      ]
     },
     "execution_count": 10,
     "metadata": {},
     "output_type": "execute_result"
    }
   ],
   "source": [
    "join_lists[:5]"
   ]
  },
  {
   "cell_type": "code",
   "execution_count": 11,
   "id": "f93e2abd",
   "metadata": {},
   "outputs": [
    {
     "data": {
      "text/plain": [
       "[1, 2, 3, 4, 5]"
      ]
     },
     "execution_count": 11,
     "metadata": {},
     "output_type": "execute_result"
    }
   ],
   "source": [
    "join_lists[0:5]"
   ]
  },
  {
   "cell_type": "code",
   "execution_count": 12,
   "id": "634811e5",
   "metadata": {},
   "outputs": [
    {
     "data": {
      "text/plain": [
       "'Strin'"
      ]
     },
     "execution_count": 12,
     "metadata": {},
     "output_type": "execute_result"
    }
   ],
   "source": [
    "join_strings[:5]"
   ]
  },
  {
   "cell_type": "code",
   "execution_count": 13,
   "id": "7a9357b0",
   "metadata": {},
   "outputs": [
    {
     "data": {
      "text/plain": [
       "'Strin'"
      ]
     },
     "execution_count": 13,
     "metadata": {},
     "output_type": "execute_result"
    }
   ],
   "source": [
    "join_strings[0:5]"
   ]
  },
  {
   "cell_type": "code",
   "execution_count": 14,
   "id": "df46c80b",
   "metadata": {},
   "outputs": [
    {
     "data": {
      "text/plain": [
       "'gAnother string'"
      ]
     },
     "execution_count": 14,
     "metadata": {},
     "output_type": "execute_result"
    }
   ],
   "source": [
    "join_strings[5:]"
   ]
  },
  {
   "cell_type": "markdown",
   "id": "d114219f",
   "metadata": {},
   "source": [
    "Calling [-1] will call the last element of the list"
   ]
  },
  {
   "cell_type": "code",
   "execution_count": 15,
   "id": "2c395fd6",
   "metadata": {},
   "outputs": [
    {
     "data": {
      "text/plain": [
       "(10, 'g')"
      ]
     },
     "execution_count": 15,
     "metadata": {},
     "output_type": "execute_result"
    }
   ],
   "source": [
    "join_lists[-1], join_strings[-1]"
   ]
  },
  {
   "cell_type": "markdown",
   "id": "61626809",
   "metadata": {},
   "source": [
    "Can count from end of the list using negative sign. If do this after first colon, will call all except the last i elements for the list. \n",
    "listname[:-1]"
   ]
  },
  {
   "cell_type": "code",
   "execution_count": 16,
   "id": "24636f34",
   "metadata": {},
   "outputs": [
    {
     "data": {
      "text/plain": [
       "([1, 2, 3, 4, 5, 6, 7, 8, 9], 'StringAnother strin')"
      ]
     },
     "execution_count": 16,
     "metadata": {},
     "output_type": "execute_result"
    }
   ],
   "source": [
    "join_lists[:-1], join_strings[:-1]"
   ]
  },
  {
   "cell_type": "code",
   "execution_count": 17,
   "id": "ca87c88e",
   "metadata": {},
   "outputs": [
    {
     "data": {
      "text/plain": [
       "([1, 2, 3, 4, 5], 'StringAnother s')"
      ]
     },
     "execution_count": 17,
     "metadata": {},
     "output_type": "execute_result"
    }
   ],
   "source": [
    "join_lists[:-5], join_strings[:-5]"
   ]
  },
  {
   "cell_type": "markdown",
   "id": "36ffb1e7",
   "metadata": {},
   "source": [
    "# For Loops"
   ]
  },
  {
   "cell_type": "code",
   "execution_count": 30,
   "id": "5f309e82",
   "metadata": {},
   "outputs": [
    {
     "name": "stdout",
     "output_type": "stream",
     "text": [
      "list1 [2, 4, 6, 8, 10]\n",
      "list2 [12, 10, 8, 6, 4]\n",
      "0 2\n",
      "1 4\n",
      "2 6\n",
      "3 8\n",
      "4 10\n",
      "[2, 4, 6, 8, 10]\n",
      "0 12\n",
      "1 10\n",
      "2 8\n",
      "3 6\n",
      "4 4\n",
      "[2, 4, 6, 8, 10, 12, 10, 8, 6, 4] [2, 4, 6, 8, 10, 12, 10, 8, 6, 4]\n",
      "sum_list (append): [14]\n",
      "sum_list (append): [14, 14]\n",
      "sum_list (append): [14, 14, 14]\n",
      "sum_list (append): [14, 14, 14, 14]\n",
      "sum_list (append): [14, 14, 14, 14, 14]\n",
      "sum_list (insert): [14]\n",
      "sum_list (insert): [14, 14]\n",
      "sum_list (insert): [14, 14, 14]\n",
      "sum_list (insert): [14, 14, 14, 14]\n",
      "sum_list (insert): [14, 14, 14, 14, 14]\n",
      "i = 0\n",
      "i = 1\n",
      "i = 2\n",
      "i = 3\n",
      "i = 4\n"
     ]
    }
   ],
   "source": [
    "list1 = [2,4,6,8,10]\n",
    "list2 = [12,10,8,6,4]\n",
    "\n",
    "print(\"list1\", list1)\n",
    "print(\"list2\",list2)\n",
    "\n",
    "# create a blank list that generates the same results as above using the +\n",
    "# sign (concatenate)\n",
    "\n",
    "concat_list = []\n",
    "sum_list = []\n",
    "\n",
    "# Used to make the if statement easier and everything cleaner\n",
    "len_list1 = len(list1)\n",
    "len_list2 = len(list2)\n",
    "\n",
    "# Concatenation first\n",
    "for i in range(0, len_list1): # or can use (0, len(list1))\n",
    "    concat_list.append(list1[i])\n",
    "    print(i, list1[i])\n",
    "\n",
    "print(concat_list)\n",
    "\n",
    "for i in range(0,len_list2):\n",
    "    concat_list.append(list2[i])\n",
    "    print(i, list2[i])\n",
    "               \n",
    "print(concat_list, list1+ list2)\n",
    "\n",
    "sum_list = []\n",
    "if len_list1 == len_list2:\n",
    "    for i in range (len_list1):\n",
    "        sum_list.append(list1[i] + list2[i])\n",
    "        print(\"sum_list (append):\", sum_list)\n",
    "\n",
    "sum_list = []\n",
    "if len_list1 == len_list2:\n",
    "    for i in range (len_list1):\n",
    "        # list.insert(index, value)\n",
    "        sum_list.insert(0, list1[i] + list2[i])\n",
    "        print(\"sum_list (insert):\", sum_list)\n",
    "\n",
    "# Python auto does n - 1\n",
    "for i in range(5):\n",
    "    print(\"i =\", i)"
   ]
  },
  {
   "cell_type": "code",
   "execution_count": 33,
   "id": "66e9b068",
   "metadata": {},
   "outputs": [
    {
     "name": "stdout",
     "output_type": "stream",
     "text": [
      "Statement is True\n"
     ]
    }
   ],
   "source": [
    "if 1 == 1:\n",
    "    print(\"Statement is\", 1 == 1)"
   ]
  },
  {
   "cell_type": "code",
   "execution_count": 36,
   "id": "9f36d672",
   "metadata": {},
   "outputs": [
    {
     "name": "stdout",
     "output_type": "stream",
     "text": [
      "i == 0 i < 5: True\n",
      "i == 1 i < 5: True\n",
      "i == 2 i < 5: True\n",
      "i == 3 i < 5: True\n",
      "i == 4 i < 5: True\n",
      "i == 5 i < 5: False\n",
      "i == 6 i < 5: False\n",
      "i == 7 i < 5: False\n",
      "i == 8 i < 5: False\n",
      "i == 9 i < 5: False\n"
     ]
    }
   ],
   "source": [
    "for i in range(10):\n",
    "    print(\"i ==\", i, \"i < 5:\", i < 5)"
   ]
  },
  {
   "cell_type": "markdown",
   "id": "a7e69762",
   "metadata": {},
   "source": [
    "# Sorting Lists"
   ]
  },
  {
   "cell_type": "code",
   "execution_count": 41,
   "id": "0f69f0b5",
   "metadata": {},
   "outputs": [
    {
     "name": "stdout",
     "output_type": "stream",
     "text": [
      "[5, 6, 3, 4, 1]\n",
      "['blue', 'orange', 'red', 'black', 'yellow']\n"
     ]
    },
    {
     "data": {
      "text/plain": [
       "([1, 3, 4, 5, 6], ['black', 'blue', 'orange', 'red', 'yellow'])"
      ]
     },
     "execution_count": 41,
     "metadata": {},
     "output_type": "execute_result"
    }
   ],
   "source": [
    "list1 = [5,\n",
    "         6,\n",
    "         3,\n",
    "         4,\n",
    "         1]\n",
    "list2 = [\"blue\", \"orange\", \"red\", \"black\", \"yellow\"]\n",
    "\n",
    "print(list1)\n",
    "print(list2)\n",
    "\n",
    "sorted_list1 = sorted(list1) # reverse = True\n",
    "sorted_list2 = sorted(list2)\n",
    "\n",
    "sorted_list1, sorted_list2\n",
    "# Can run backwards by: sorted_list1[::-1], sorted_list2[::-1]\n",
    "# Count backwards by 2 by doing the same thing but replace -1 with -2\n",
    "# Can count forwards same way. replace -1 with 2, etc"
   ]
  },
  {
   "cell_type": "code",
   "execution_count": 49,
   "id": "3fca261d",
   "metadata": {},
   "outputs": [
    {
     "name": "stdout",
     "output_type": "stream",
     "text": [
      "TypeError: unorderable types: str < int\n",
      "['1', '22', '3', '24', '5']\n",
      "[1, 22, 3, 24, 5]\n"
     ]
    },
    {
     "data": {
      "text/plain": [
       "(['1', '22', '24', '3', '5'], [1, 3, 5, 22, 24])"
      ]
     },
     "execution_count": 49,
     "metadata": {},
     "output_type": "execute_result"
    }
   ],
   "source": [
    "# Can still run code with certain errors\n",
    "list3 = [\"1\", 22, \"3\", 24, \"5\"]\n",
    "try:\n",
    "    sorted_list3 = sorted(list3)\n",
    "except:\n",
    "    print(\"TypeError: unorderable types: str < int\")\n",
    "\n",
    "# Way to fix the above error\n",
    "# Generator function creates list using for loop within the created list\n",
    "alpha_list3 = [str(val) for val in list3]\n",
    "\n",
    "num_list3 = []\n",
    "for val in list3:\n",
    "    num_list3.append(int(val))\n",
    "print(alpha_list3)\n",
    "print(num_list3)\n",
    "sorted(alpha_list3), sorted(num_list3)"
   ]
  },
  {
   "cell_type": "markdown",
   "id": "49d69296",
   "metadata": {},
   "source": [
    "# Nested Loops\n",
    "\n",
    "Nesting loops means that you add a loop within a loop"
   ]
  },
  {
   "cell_type": "code",
   "execution_count": 57,
   "id": "ac0c6834",
   "metadata": {},
   "outputs": [
    {
     "name": "stdout",
     "output_type": "stream",
     "text": [
      "i j k\n",
      "0 0 0\n",
      "0 0 1\n",
      "0 0 2\n",
      "0 0 3\n",
      "0 1 0\n",
      "0 1 1\n",
      "0 1 2\n",
      "0 1 3\n",
      "0 2 0\n",
      "0 2 1\n",
      "0 2 2\n",
      "0 2 3\n",
      "1 0 0\n",
      "1 0 1\n",
      "1 0 2\n",
      "1 0 3\n",
      "1 1 0\n",
      "1 1 1\n",
      "1 1 2\n",
      "1 1 3\n",
      "1 2 0\n",
      "1 2 1\n",
      "1 2 2\n",
      "1 2 3\n",
      "2 0 0\n",
      "2 0 1\n",
      "2 0 2\n",
      "2 0 3\n",
      "2 1 0\n",
      "2 1 1\n",
      "2 1 2\n",
      "2 1 3\n",
      "2 2 0\n",
      "2 2 1\n",
      "2 2 2\n",
      "2 2 3\n",
      "3 0 0\n",
      "3 0 1\n",
      "3 0 2\n",
      "3 0 3\n",
      "3 1 0\n",
      "3 1 1\n",
      "3 1 2\n",
      "3 1 3\n",
      "3 2 0\n",
      "3 2 1\n",
      "3 2 2\n",
      "3 2 3\n",
      "4 0 0\n",
      "4 0 1\n",
      "4 0 2\n",
      "4 0 3\n",
      "4 1 0\n",
      "4 1 1\n",
      "4 1 2\n",
      "4 1 3\n",
      "4 2 0\n",
      "4 2 1\n",
      "4 2 2\n",
      "4 2 3\n",
      "[0, 1, 2, 3, 4]\n",
      "[0, 1, 2]\n",
      "[0, 1, 2, 3]\n"
     ]
    }
   ],
   "source": [
    "# Useful for plots\n",
    "print(\"i\", \"j\", \"k\")\n",
    "# Needed to print total lists at the end\n",
    "i_list = list(range(5))\n",
    "j_list = list(range(3))\n",
    "k_list = list(range(4))\n",
    "\n",
    "for i in range (5):\n",
    "    for j in range (3):\n",
    "        for k in range (4):\n",
    "            print(i, j, k)\n",
    "        # Could flip these numbers, have them the same, etc. Will change output\n",
    "print(i_list)\n",
    "print(j_list)\n",
    "print(k_list)"
   ]
  },
  {
   "cell_type": "code",
   "execution_count": null,
   "id": "24fe3b9e",
   "metadata": {},
   "outputs": [],
   "source": []
  }
 ],
 "metadata": {
  "kernelspec": {
   "display_name": "Python 3",
   "language": "python",
   "name": "python3"
  },
  "language_info": {
   "codemirror_mode": {
    "name": "ipython",
    "version": 3
   },
   "file_extension": ".py",
   "mimetype": "text/x-python",
   "name": "python",
   "nbconvert_exporter": "python",
   "pygments_lexer": "ipython3",
   "version": "3.8.8"
  }
 },
 "nbformat": 4,
 "nbformat_minor": 5
}
