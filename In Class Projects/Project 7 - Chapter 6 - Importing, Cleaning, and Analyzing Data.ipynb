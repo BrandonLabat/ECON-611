{
 "cells": [
  {
   "cell_type": "markdown",
   "id": "22004e82",
   "metadata": {},
   "source": [
    "# Chapter 6: Importing, Cleaning and Analyzing Data"
   ]
  },
  {
   "cell_type": "code",
   "execution_count": 3,
   "id": "8338faa4",
   "metadata": {},
   "outputs": [
    {
     "ename": "FileNotFoundError",
     "evalue": "[Errno 2] No such file or directory: 'efw-2019-master-index-data-for-researchers.xlsx'",
     "output_type": "error",
     "traceback": [
      "\u001b[1;31m---------------------------------------------------------------------------\u001b[0m",
      "\u001b[1;31mFileNotFoundError\u001b[0m                         Traceback (most recent call last)",
      "\u001b[1;32m<ipython-input-3-ba05c7e2c741>\u001b[0m in \u001b[0;36m<module>\u001b[1;34m\u001b[0m\n\u001b[0;32m      2\u001b[0m \u001b[1;32mimport\u001b[0m \u001b[0mpandas\u001b[0m \u001b[1;32mas\u001b[0m \u001b[0mpd\u001b[0m\u001b[1;33m\u001b[0m\u001b[1;33m\u001b[0m\u001b[0m\n\u001b[0;32m      3\u001b[0m \u001b[1;32mfrom\u001b[0m \u001b[0mdatlib\u001b[0m \u001b[1;32mimport\u001b[0m \u001b[0mstats\u001b[0m\u001b[1;33m\u001b[0m\u001b[1;33m\u001b[0m\u001b[0m\n\u001b[1;32m----> 4\u001b[1;33m data = pd.read_excel(\"efw-2019-master-index-data-for-researchers.xlsx\", \n\u001b[0m\u001b[0;32m      5\u001b[0m                      index_col = [2,1], header = [4])\n",
      "\u001b[1;32mC:\\ProgramData\\Anaconda3\\lib\\site-packages\\pandas\\util\\_decorators.py\u001b[0m in \u001b[0;36mwrapper\u001b[1;34m(*args, **kwargs)\u001b[0m\n\u001b[0;32m    297\u001b[0m                 )\n\u001b[0;32m    298\u001b[0m                 \u001b[0mwarnings\u001b[0m\u001b[1;33m.\u001b[0m\u001b[0mwarn\u001b[0m\u001b[1;33m(\u001b[0m\u001b[0mmsg\u001b[0m\u001b[1;33m,\u001b[0m \u001b[0mFutureWarning\u001b[0m\u001b[1;33m,\u001b[0m \u001b[0mstacklevel\u001b[0m\u001b[1;33m=\u001b[0m\u001b[0mstacklevel\u001b[0m\u001b[1;33m)\u001b[0m\u001b[1;33m\u001b[0m\u001b[1;33m\u001b[0m\u001b[0m\n\u001b[1;32m--> 299\u001b[1;33m             \u001b[1;32mreturn\u001b[0m \u001b[0mfunc\u001b[0m\u001b[1;33m(\u001b[0m\u001b[1;33m*\u001b[0m\u001b[0margs\u001b[0m\u001b[1;33m,\u001b[0m \u001b[1;33m**\u001b[0m\u001b[0mkwargs\u001b[0m\u001b[1;33m)\u001b[0m\u001b[1;33m\u001b[0m\u001b[1;33m\u001b[0m\u001b[0m\n\u001b[0m\u001b[0;32m    300\u001b[0m \u001b[1;33m\u001b[0m\u001b[0m\n\u001b[0;32m    301\u001b[0m         \u001b[1;32mreturn\u001b[0m \u001b[0mwrapper\u001b[0m\u001b[1;33m\u001b[0m\u001b[1;33m\u001b[0m\u001b[0m\n",
      "\u001b[1;32mC:\\ProgramData\\Anaconda3\\lib\\site-packages\\pandas\\io\\excel\\_base.py\u001b[0m in \u001b[0;36mread_excel\u001b[1;34m(io, sheet_name, header, names, index_col, usecols, squeeze, dtype, engine, converters, true_values, false_values, skiprows, nrows, na_values, keep_default_na, na_filter, verbose, parse_dates, date_parser, thousands, comment, skipfooter, convert_float, mangle_dupe_cols, storage_options)\u001b[0m\n\u001b[0;32m    334\u001b[0m     \u001b[1;32mif\u001b[0m \u001b[1;32mnot\u001b[0m \u001b[0misinstance\u001b[0m\u001b[1;33m(\u001b[0m\u001b[0mio\u001b[0m\u001b[1;33m,\u001b[0m \u001b[0mExcelFile\u001b[0m\u001b[1;33m)\u001b[0m\u001b[1;33m:\u001b[0m\u001b[1;33m\u001b[0m\u001b[1;33m\u001b[0m\u001b[0m\n\u001b[0;32m    335\u001b[0m         \u001b[0mshould_close\u001b[0m \u001b[1;33m=\u001b[0m \u001b[1;32mTrue\u001b[0m\u001b[1;33m\u001b[0m\u001b[1;33m\u001b[0m\u001b[0m\n\u001b[1;32m--> 336\u001b[1;33m         \u001b[0mio\u001b[0m \u001b[1;33m=\u001b[0m \u001b[0mExcelFile\u001b[0m\u001b[1;33m(\u001b[0m\u001b[0mio\u001b[0m\u001b[1;33m,\u001b[0m \u001b[0mstorage_options\u001b[0m\u001b[1;33m=\u001b[0m\u001b[0mstorage_options\u001b[0m\u001b[1;33m,\u001b[0m \u001b[0mengine\u001b[0m\u001b[1;33m=\u001b[0m\u001b[0mengine\u001b[0m\u001b[1;33m)\u001b[0m\u001b[1;33m\u001b[0m\u001b[1;33m\u001b[0m\u001b[0m\n\u001b[0m\u001b[0;32m    337\u001b[0m     \u001b[1;32melif\u001b[0m \u001b[0mengine\u001b[0m \u001b[1;32mand\u001b[0m \u001b[0mengine\u001b[0m \u001b[1;33m!=\u001b[0m \u001b[0mio\u001b[0m\u001b[1;33m.\u001b[0m\u001b[0mengine\u001b[0m\u001b[1;33m:\u001b[0m\u001b[1;33m\u001b[0m\u001b[1;33m\u001b[0m\u001b[0m\n\u001b[0;32m    338\u001b[0m         raise ValueError(\n",
      "\u001b[1;32mC:\\ProgramData\\Anaconda3\\lib\\site-packages\\pandas\\io\\excel\\_base.py\u001b[0m in \u001b[0;36m__init__\u001b[1;34m(self, path_or_buffer, engine, storage_options)\u001b[0m\n\u001b[0;32m   1069\u001b[0m                 \u001b[0mext\u001b[0m \u001b[1;33m=\u001b[0m \u001b[1;34m\"xls\"\u001b[0m\u001b[1;33m\u001b[0m\u001b[1;33m\u001b[0m\u001b[0m\n\u001b[0;32m   1070\u001b[0m             \u001b[1;32melse\u001b[0m\u001b[1;33m:\u001b[0m\u001b[1;33m\u001b[0m\u001b[1;33m\u001b[0m\u001b[0m\n\u001b[1;32m-> 1071\u001b[1;33m                 ext = inspect_excel_format(\n\u001b[0m\u001b[0;32m   1072\u001b[0m                     \u001b[0mcontent\u001b[0m\u001b[1;33m=\u001b[0m\u001b[0mpath_or_buffer\u001b[0m\u001b[1;33m,\u001b[0m \u001b[0mstorage_options\u001b[0m\u001b[1;33m=\u001b[0m\u001b[0mstorage_options\u001b[0m\u001b[1;33m\u001b[0m\u001b[1;33m\u001b[0m\u001b[0m\n\u001b[0;32m   1073\u001b[0m                 )\n",
      "\u001b[1;32mC:\\ProgramData\\Anaconda3\\lib\\site-packages\\pandas\\io\\excel\\_base.py\u001b[0m in \u001b[0;36minspect_excel_format\u001b[1;34m(path, content, storage_options)\u001b[0m\n\u001b[0;32m    947\u001b[0m     \u001b[1;32massert\u001b[0m \u001b[0mcontent_or_path\u001b[0m \u001b[1;32mis\u001b[0m \u001b[1;32mnot\u001b[0m \u001b[1;32mNone\u001b[0m\u001b[1;33m\u001b[0m\u001b[1;33m\u001b[0m\u001b[0m\n\u001b[0;32m    948\u001b[0m \u001b[1;33m\u001b[0m\u001b[0m\n\u001b[1;32m--> 949\u001b[1;33m     with get_handle(\n\u001b[0m\u001b[0;32m    950\u001b[0m         \u001b[0mcontent_or_path\u001b[0m\u001b[1;33m,\u001b[0m \u001b[1;34m\"rb\"\u001b[0m\u001b[1;33m,\u001b[0m \u001b[0mstorage_options\u001b[0m\u001b[1;33m=\u001b[0m\u001b[0mstorage_options\u001b[0m\u001b[1;33m,\u001b[0m \u001b[0mis_text\u001b[0m\u001b[1;33m=\u001b[0m\u001b[1;32mFalse\u001b[0m\u001b[1;33m\u001b[0m\u001b[1;33m\u001b[0m\u001b[0m\n\u001b[0;32m    951\u001b[0m     ) as handle:\n",
      "\u001b[1;32mC:\\ProgramData\\Anaconda3\\lib\\site-packages\\pandas\\io\\common.py\u001b[0m in \u001b[0;36mget_handle\u001b[1;34m(path_or_buf, mode, encoding, compression, memory_map, is_text, errors, storage_options)\u001b[0m\n\u001b[0;32m    649\u001b[0m         \u001b[1;32melse\u001b[0m\u001b[1;33m:\u001b[0m\u001b[1;33m\u001b[0m\u001b[1;33m\u001b[0m\u001b[0m\n\u001b[0;32m    650\u001b[0m             \u001b[1;31m# Binary mode\u001b[0m\u001b[1;33m\u001b[0m\u001b[1;33m\u001b[0m\u001b[1;33m\u001b[0m\u001b[0m\n\u001b[1;32m--> 651\u001b[1;33m             \u001b[0mhandle\u001b[0m \u001b[1;33m=\u001b[0m \u001b[0mopen\u001b[0m\u001b[1;33m(\u001b[0m\u001b[0mhandle\u001b[0m\u001b[1;33m,\u001b[0m \u001b[0mioargs\u001b[0m\u001b[1;33m.\u001b[0m\u001b[0mmode\u001b[0m\u001b[1;33m)\u001b[0m\u001b[1;33m\u001b[0m\u001b[1;33m\u001b[0m\u001b[0m\n\u001b[0m\u001b[0;32m    652\u001b[0m         \u001b[0mhandles\u001b[0m\u001b[1;33m.\u001b[0m\u001b[0mappend\u001b[0m\u001b[1;33m(\u001b[0m\u001b[0mhandle\u001b[0m\u001b[1;33m)\u001b[0m\u001b[1;33m\u001b[0m\u001b[1;33m\u001b[0m\u001b[0m\n\u001b[0;32m    653\u001b[0m \u001b[1;33m\u001b[0m\u001b[0m\n",
      "\u001b[1;31mFileNotFoundError\u001b[0m: [Errno 2] No such file or directory: 'efw-2019-master-index-data-for-researchers.xlsx'"
     ]
    }
   ],
   "source": [
    "import numpy\n",
    "import pandas as pd\n",
    "from datlib import stats \n",
    "data = pd.read_excel(\"efw-2019-master-index-data-for-researchers.xlsx\", \n",
    "                     index_col = [2,1], header = [4])"
   ]
  },
  {
   "cell_type": "code",
   "execution_count": null,
   "id": "68454737",
   "metadata": {},
   "outputs": [],
   "source": [
    "data = pd.read_excel(\"efw-2019-master-index-data-for-researchers.xlsx\", \n",
    "                     index_col = [2,1], \n",
    "                     header = [4],\n",
    "                    sheet_name = \"EFW Panel Data 2019 Report\")\n",
    "data"
   ]
  },
  {
   "cell_type": "code",
   "execution_count": null,
   "id": "0e85cab8",
   "metadata": {},
   "outputs": [],
   "source": [
    "data = data.dropn(how = \"all\", axis = 1)"
   ]
  },
  {
   "cell_type": "code",
   "execution_count": null,
   "id": "54fedf84",
   "metadata": {},
   "outputs": [],
   "source": [
    "data.keys()"
   ]
  },
  {
   "cell_type": "markdown",
   "id": "fce0d28d",
   "metadata": {},
   "source": [
    "## Dropping countries from the columns"
   ]
  },
  {
   "cell_type": "code",
   "execution_count": null,
   "id": "8c979724",
   "metadata": {},
   "outputs": [],
   "source": [
    "skip_keys = [\"Countries\"]\n",
    "data_for_stats = drop.drop(skip_keys, \n",
    "                           axis = 1).drop.na(\n",
    "                           how = \"any\", \n",
    "                           axi = 0)\n",
    "data_for_stats"
   ]
  },
  {
   "cell_type": "code",
   "execution_count": null,
   "id": "6f9268d7",
   "metadata": {},
   "outputs": [],
   "source": [
    "# Gets rid of the numbers in each of the column headings\n",
    "keys = list(data_for_stats.keys())\n",
    "data_for_stats.rename(\n",
    "    columns = [key:key[3:].title() for key in keys],\n",
    "    inplace = True)\n",
    "data_for_stats"
   ]
  },
  {
   "cell_type": "code",
   "execution_count": null,
   "id": "d794bc84",
   "metadata": {},
   "outputs": [],
   "source": [
    "# Renames the first column because its name was deleted because\n",
    "# We used the remove first three characters previously\n",
    "data_for_stats.rename(columns = {\"\":\"EFW\"}, inplace = True)\n",
    "data_for_stats"
   ]
  },
  {
   "cell_type": "markdown",
   "id": "e9be124e",
   "metadata": {},
   "source": [
    "## Building dictionaries with statistics"
   ]
  },
  {
   "cell_type": "code",
   "execution_count": null,
   "id": "41ac5aa3",
   "metadata": {},
   "outputs": [],
   "source": [
    "stats_dict = {}\n",
    "cov_dict = {}\n",
    "corr_dict = {}"
   ]
  },
  {
   "cell_type": "code",
   "execution_count": null,
   "id": "6edfb437",
   "metadata": {},
   "outputs": [],
   "source": [
    "# vec = vector\n",
    "for key1, vec1 in data_for_stats.items():\n",
    "    stats_dict[key1] = {}\n",
    "    stats_dict[key1][\"mean\"] = stats.mean(list(vec1))\n",
    "    stats_dict[key1][\"median\"] = stats.median(vec1)\n",
    "    stats_dict[key1][\"variance\"] = stats.variance(vec1)\n",
    "    stats_dict[key1][\"standard deviation\"] = stats.SD(vec1, sample = True)\n",
    "    stats_dict[key1][\"skewness\"] = stats.skewness(vec1, sample = True)\n",
    "    stats_dict[key1][\"kurtosis\"] = stats.kurtosis(vec1, sample = True)\n",
    "    # Creates new dictionaries for both cov and corr\n",
    "    cov_dict[key1] = {}\n",
    "    corr_dict[key1] = {}\n",
    "    for key2, vec2 in data_for_stats.items():\n",
    "        cov_dict[key1][key2] = stats.covariance(vec1, vec2, sample = True)\n",
    "        corr_dict[key1][key2] = stats.correlation(vec1, vec2)"
   ]
  },
  {
   "cell_type": "code",
   "execution_count": null,
   "id": "fac22310",
   "metadata": {},
   "outputs": [],
   "source": [
    "# Prints dataframe. T transposes it\n",
    "# Put stats_df so we can call it at a later time\n",
    "stats_df = pd.DataFrame(stats_dict).T\n",
    "stats_df"
   ]
  },
  {
   "cell_type": "code",
   "execution_count": null,
   "id": "ad73d754",
   "metadata": {},
   "outputs": [],
   "source": [
    "cov_df = pd.Dataframe(cov_dict)\n",
    "cov_df"
   ]
  },
  {
   "cell_type": "code",
   "execution_count": null,
   "id": "635cd7f5",
   "metadata": {},
   "outputs": [],
   "source": [
    "corr_df = pd.Dataframe(corr_dict)\n",
    "corr_df"
   ]
  },
  {
   "cell_type": "code",
   "execution_count": null,
   "id": "38bcc39c",
   "metadata": {},
   "outputs": [],
   "source": [
    "Data_for_stats.to_csv(\"cleanedEconFreedomData.csv\")"
   ]
  },
  {
   "cell_type": "markdown",
   "id": "eece1e09",
   "metadata": {},
   "source": [
    "# Importing the data that was saved"
   ]
  },
  {
   "cell_type": "code",
   "execution_count": null,
   "id": "cef1dff1",
   "metadata": {},
   "outputs": [],
   "source": [
    "data = pd.read_csv(\"cleanedEconFreedomData.csv\"), index_col = [0,1])\n",
    "data"
   ]
  },
  {
   "cell_type": "markdown",
   "id": "6b6a1800",
   "metadata": {},
   "source": [
    "# Visualizing data with scatter plots (3 Dim)"
   ]
  },
  {
   "cell_type": "code",
   "execution_count": null,
   "id": "f8ce0397",
   "metadata": {},
   "outputs": [],
   "source": [
    "import matplotlib.pyplot as plt\n",
    "from matplotlib.backends.backend_pdf import PdfPages\n",
    "\n",
    "def color_dim_scatter(data, pp):\n",
    "    # Removes the chance of any variable showing up more than once\n",
    "    for x in data:\n",
    "        for y in data:\n",
    "            if x != y:\n",
    "                for c in data:\n",
    "                    if x != c and y != c:\n",
    "                        fig, ax = plt.subplots(figsize = (20, 20))\n",
    "                        data.plot.scatter(x = x, y = y, c = c,\n",
    "                                         # Size of the dots = s\n",
    "                                         s = 50,\n",
    "                                         alpha = 0.7,\n",
    "                                         colormap = \"viridis\",\n",
    "                                         ax = ax)\n",
    "                        plt.xticks(rotation = 90)\n",
    "                        plt.setp(ax.get_ticklines(), visible = False)\n",
    "                        plt.setp(ax.get_yticklines(), visible = False)\n",
    "                        plt.show()\n",
    "                        pp.savefig(fig, bbox_inches = \"tight\")\n",
    "                        plt.close()\n",
    "                        \n",
    "pp = PdfPages(\"EconomicFreedomPlots.pdf\")\n",
    "plt.rcParams.update({\"font.size\":26})\n",
    "color_dim_scatter(data, pp)\n",
    "pp.close()"
   ]
  },
  {
   "cell_type": "code",
   "execution_count": null,
   "id": "f151b6d9",
   "metadata": {},
   "outputs": [],
   "source": []
  }
 ],
 "metadata": {
  "kernelspec": {
   "display_name": "Python 3",
   "language": "python",
   "name": "python3"
  },
  "language_info": {
   "codemirror_mode": {
    "name": "ipython",
    "version": 3
   },
   "file_extension": ".py",
   "mimetype": "text/x-python",
   "name": "python",
   "nbconvert_exporter": "python",
   "pygments_lexer": "ipython3",
   "version": "3.8.8"
  }
 },
 "nbformat": 4,
 "nbformat_minor": 5
}
