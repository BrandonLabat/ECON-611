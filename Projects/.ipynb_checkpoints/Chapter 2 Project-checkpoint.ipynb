{
 "cells": [
  {
   "cell_type": "markdown",
   "id": "f0e0a2ba",
   "metadata": {},
   "source": [
    "# Chapter 2 Project\n",
    "\n",
    "Questions 1-7 and the 3 Exploration Questions"
   ]
  },
  {
   "cell_type": "markdown",
   "id": "1dcd639b",
   "metadata": {},
   "source": [
    "Question 1"
   ]
  },
  {
   "cell_type": "code",
   "execution_count": 1,
   "id": "13b2822c",
   "metadata": {},
   "outputs": [
    {
     "name": "stdout",
     "output_type": "stream",
     "text": [
      "[3, 6, 9, 12, 15, 18, 21, 24, 27, 30, 33, 36, 39, 42, 45, 48, 51, 54, 57, 60, 63, 66, 69, 72, 75, 78, 81, 84, 87, 90, 93, 96, 99, 102, 105, 108, 111, 114, 117, 120, 123, 126, 129, 132, 135, 138, 141, 144, 147, 150, 153, 156, 159, 162, 165, 168, 171, 174, 177, 180, 183, 186, 189, 192, 195, 198, 201, 204, 207, 210, 213, 216, 219, 222, 225, 228, 231, 234, 237, 240, 243, 246, 249, 252, 255, 258, 261, 264, 267, 270, 273, 276, 279, 282, 285, 288, 291, 294, 297, 300]\n"
     ]
    }
   ],
   "source": [
    "# Prints a list of 100 numbers from 3 to 300 by an interval of 3.\n",
    "list_numbers = list(range(3, 301, 3))\n",
    "\n",
    "print(list_numbers)"
   ]
  },
  {
   "cell_type": "markdown",
   "id": "9118c460",
   "metadata": {},
   "source": [
    "Question 2"
   ]
  },
  {
   "cell_type": "code",
   "execution_count": 2,
   "id": "5f307261",
   "metadata": {},
   "outputs": [
    {
     "name": "stdout",
     "output_type": "stream",
     "text": [
      "['3', '6', '9', '12', '15', '18', '21', '24', '27', '30', '33', '36', '39', '42', '45', '48', '51', '54', '57', '60', '63', '66', '69', '72', '75', '78', '81', '84', '87', '90', '93', '96', '99', '102', '105', '108', '111', '114', '117', '120', '123', '126', '129', '132', '135', '138', '141', '144', '147', '150', '153', '156', '159', '162', '165', '168', '171', '174', '177', '180', '183', '186', '189', '192', '195', '198', '201', '204', '207', '210', '213', '216', '219', '222', '225', '228', '231', '234', '237', '240', '243', '246', '249', '252', '255', '258', '261', '264', '267', '270', '273', '276', '279', '282', '285', '288', '291', '294', '297', '300']\n"
     ]
    }
   ],
   "source": [
    "# Prints the same list as question 1, but converts the numbers to strings.\n",
    "list_string = []\n",
    "\n",
    "for val in list_numbers:\n",
    "    list_string.append(str(val))\n",
    "\n",
    "print(list_string)"
   ]
  },
  {
   "cell_type": "markdown",
   "id": "9efd5354",
   "metadata": {},
   "source": [
    "Question 3"
   ]
  },
  {
   "cell_type": "code",
   "execution_count": 3,
   "id": "c49fcfd1",
   "metadata": {},
   "outputs": [
    {
     "name": "stdout",
     "output_type": "stream",
     "text": [
      "369121518212427303336394245485154576063666972757881848790939699102105108111114117120123126129132135138141144147150153156159162165168171174177180183186189192195198201204207210213216219222225228231234237240243246249252255258261264267270273276279282285288291294297300\n"
     ]
    }
   ],
   "source": [
    "# Creates a variable that concatenates each element from above \n",
    "# in order of index.\n",
    "\n",
    "print(*list_string, sep = \"\")"
   ]
  },
  {
   "cell_type": "markdown",
   "id": "04f47027",
   "metadata": {},
   "source": [
    "Question 4"
   ]
  },
  {
   "cell_type": "code",
   "execution_count": 4,
   "id": "9ca574a2",
   "metadata": {},
   "outputs": [
    {
     "name": "stdout",
     "output_type": "stream",
     "text": [
      "[300, 297, 294, 291, 288, 285, 282, 279, 276, 273, 270, 267, 264, 261, 258, 255, 252, 249, 246, 243, 240, 237, 234, 231, 228, 225, 222, 219, 216, 213, 210, 207, 204, 201, 198, 195, 192, 189, 186, 183, 180, 177, 174, 171, 168, 165, 162, 159, 156, 153, 150, 147, 144, 141, 138, 135, 132, 129, 126, 123, 120, 117, 114, 111, 108, 105, 102, 99, 96, 93, 90, 87, 84, 81, 78, 75, 72, 69, 66, 63, 60, 57, 54, 51, 48, 45, 42, 39, 36, 33, 30, 27, 24, 21, 18, 15, 12, 9, 6, 3]\n"
     ]
    }
   ],
   "source": [
    "# Creates the same list as question 1, but prints it in reverse order. \n",
    "list_numbers = list(range(3, 301, 3))\n",
    "reverse_list = []\n",
    "\n",
    "for i in range(len(list_numbers)):\n",
    "    reverse_list.append(list_numbers.pop())\n",
    "    \n",
    "print(reverse_list)"
   ]
  },
  {
   "cell_type": "markdown",
   "id": "f69cb4bd",
   "metadata": {},
   "source": [
    "Question 5"
   ]
  },
  {
   "cell_type": "code",
   "execution_count": 5,
   "id": "ddce99ef",
   "metadata": {},
   "outputs": [
    {
     "name": "stdout",
     "output_type": "stream",
     "text": [
      "The middle value is: 153\n",
      "Second half of the list: [153, 156, 159, 162, 165, 168, 171, 174, 177, 180, 183, 186, 189, 192, 195, 198, 201, 204, 207, 210, 213, 216, 219, 222, 225, 228, 231, 234, 237, 240, 243, 246, 249, 252, 255, 258, 261, 264, 267, 270, 273, 276, 279, 282, 285, 288, 291, 294, 297, 300]\n"
     ]
    }
   ],
   "source": [
    "# Prints the midpoint and the second half of the list.\n",
    "list_numbers = list(range(3, 301, 3))\n",
    "\n",
    "print(\"The middle value is:\", list_numbers[int(len(list_numbers) / 2)])\n",
    "\n",
    "min_index = 50\n",
    "max_index = 101\n",
    "\n",
    "second_half = list_numbers[min_index:max_index]\n",
    "\n",
    "print(\"Second half of the list:\", second_half)"
   ]
  },
  {
   "cell_type": "markdown",
   "id": "ab4d8877",
   "metadata": {},
   "source": [
    "Question 6"
   ]
  },
  {
   "cell_type": "code",
   "execution_count": 6,
   "id": "d3e19830",
   "metadata": {},
   "outputs": [
    {
     "name": "stdout",
     "output_type": "stream",
     "text": [
      "['3', '9', '15', '21', '27', '33', '39', '45', '51', '57', '63', '69', '75', '81', '87', '93', '99', '105', '111', '117', '123', '129', '135', '141', '147', '153', '159', '165', '171', '177', '183', '189', '195', '201', '207', '213', '219', '225', '231', '237', '243', '249', '255', '261', '267', '273', '279', '285', '291', '297']\n"
     ]
    }
   ],
   "source": [
    "# Includes every other element from question 3 string.\n",
    "\n",
    "print(list_string[::2])"
   ]
  },
  {
   "cell_type": "markdown",
   "id": "1546b36e",
   "metadata": {},
   "source": [
    "Question 7\n",
    "\n",
    "Explains the difference between a list and a tuple in Python"
   ]
  },
  {
   "cell_type": "markdown",
   "id": "0204cafb",
   "metadata": {},
   "source": [
    "A list in Python is dynamic, where a tuple is static. This means that if a tuple is changed somewhere, the change will take place in all other instances where this value is. Lists are also allocated small memory blocks, where as tuples are not - they have smaller memory. Because of this, tuples are faster than lists when large numbers of elements are involved."
   ]
  },
  {
   "cell_type": "markdown",
   "id": "60841124",
   "metadata": {},
   "source": [
    "# Exploration"
   ]
  },
  {
   "cell_type": "markdown",
   "id": "81aa1567",
   "metadata": {},
   "source": [
    "Question 1"
   ]
  },
  {
   "cell_type": "code",
   "execution_count": 7,
   "id": "544e10cc",
   "metadata": {},
   "outputs": [
    {
     "name": "stdout",
     "output_type": "stream",
     "text": [
      "[2, 3, 5, 7, 11, 13, 17, 19, 23, 29, 31, 37, 41, 43, 47, 53, 59, 61, 67, 71, 73, 79, 83, 89, 97, 101, 103, 107, 109, 113, 127, 131, 137, 139, 149, 151, 157, 163, 167, 173, 179, 181, 191, 193, 197, 199, 211, 223, 227, 229, 233, 239, 241, 251, 257, 263, 269, 271, 277, 281, 283, 293, 307, 311, 313, 317, 331, 337, 347, 349, 353, 359, 367, 373, 379, 383, 389, 397, 401, 409, 419, 421, 431, 433, 439, 443, 449, 457, 461, 463, 467, 479, 487, 491, 499, 503, 509, 521, 523, 541]\n"
     ]
    }
   ],
   "source": [
    "# Uses a generator to create a list of the first 100 prime numbers.\n",
    "def prime_generator(last):\n",
    "    for i in range(2, last):\n",
    "        for x in range(2, i):\n",
    "            if i % x == 0:\n",
    "                break\n",
    "        else:\n",
    "            yield i\n",
    "\n",
    "prime_list = list(prime_generator(542))\n",
    "print(prime_list)"
   ]
  },
  {
   "cell_type": "markdown",
   "id": "9197e1b2",
   "metadata": {},
   "source": [
    "In Python, a generator is a function that creates a sequence of results. It allows for a way to make an iterator, which is an object that contains a countable number of values. Unlike a normal function, a generator uses a yield statement that saves the state of the function from the last call. This can be resumed the next time a generator is called. Also, a generator takes up less memory compared to a list. "
   ]
  },
  {
   "cell_type": "markdown",
   "id": "f304f40c",
   "metadata": {},
   "source": [
    "Question 2"
   ]
  },
  {
   "cell_type": "code",
   "execution_count": 8,
   "id": "1a220507",
   "metadata": {},
   "outputs": [
    {
     "name": "stdout",
     "output_type": "stream",
     "text": [
      "[541, 523, 521, 509, 503, 499, 491, 487, 479, 467, 463, 461, 457, 449, 443, 439, 433, 431, 421, 419, 409, 401, 397, 389, 383, 379, 373, 367, 359, 353, 349, 347, 337, 331, 317, 313, 311, 307, 293, 283, 281, 277, 271, 269, 263, 257, 251, 241, 239, 233, 229, 227, 223, 211, 199, 197, 193, 191, 181, 179, 173, 167, 163, 157, 151, 149, 139, 137, 131, 127, 113, 109, 107, 103, 101, 97, 89, 83, 79, 73, 71, 67, 61, 59, 53, 47, 43, 41, 37, 31, 29, 23, 19, 17, 13, 11, 7, 5, 3, 2]\n"
     ]
    }
   ],
   "source": [
    "# Uses a for loop and the pop function to create a list of values\n",
    "# from the prime numbers list in descending order.\n",
    "\n",
    "prime_list_length = len(prime_list)\n",
    "descending_list = []\n",
    "\n",
    "for i in range(prime_list_length):\n",
    "    descending_list.append(prime_list.pop())\n",
    "    \n",
    "print(descending_list)"
   ]
  },
  {
   "cell_type": "markdown",
   "id": "281f5fab",
   "metadata": {},
   "source": [
    "Question 3"
   ]
  },
  {
   "cell_type": "code",
   "execution_count": 9,
   "id": "a21e306d",
   "metadata": {},
   "outputs": [
    {
     "name": "stdout",
     "output_type": "stream",
     "text": [
      "[467, 313, 509, 137, 29, 263, 61, 379, 127, 59, 151, 163, 13, 277, 149, 353, 461, 107, 283, 103, 11, 167, 271, 337, 5, 53, 383, 19, 347, 73, 41, 523, 233, 479, 31, 499, 281, 457, 109, 521, 223, 409, 359, 257, 227, 97, 401, 331, 79, 23, 307, 433, 181, 367, 541, 251, 349, 43, 191, 113, 2, 397, 463, 439, 241, 7, 389, 443, 491, 37, 419, 17, 193, 211, 83, 131, 199, 487, 293, 239, 67, 71, 173, 3, 503, 179, 269, 373, 421, 139, 449, 197, 157, 229, 431, 47, 317, 101, 311, 89]\n"
     ]
    }
   ],
   "source": [
    "# Creates a list that includes the numbers above but in random order.\n",
    "import random, copy\n",
    "\n",
    "def prime_generator(last):\n",
    "    for i in range(2, last):\n",
    "        for x in range(2, i):\n",
    "            if i % x == 0:\n",
    "                break\n",
    "        else:\n",
    "            yield i\n",
    "\n",
    "prime_list = list(prime_generator(542))\n",
    "\n",
    "copy_list = copy.copy(prime_list)\n",
    "random.shuffle(copy_list)\n",
    "print(copy_list)"
   ]
  },
  {
   "cell_type": "markdown",
   "id": "aa232328",
   "metadata": {},
   "source": [
    "To complete this, I looked up how to use the copy library and went to geeksforgeeks.org. Here, I was able to find how to copy a list and different examples using this feature. Following this, I looked up how to use the random.shuffle function on the same site. This allowed me to randomly sort my copied list."
   ]
  }
 ],
 "metadata": {
  "kernelspec": {
   "display_name": "Python 3",
   "language": "python",
   "name": "python3"
  },
  "language_info": {
   "codemirror_mode": {
    "name": "ipython",
    "version": 3
   },
   "file_extension": ".py",
   "mimetype": "text/x-python",
   "name": "python",
   "nbconvert_exporter": "python",
   "pygments_lexer": "ipython3",
   "version": "3.8.8"
  }
 },
 "nbformat": 4,
 "nbformat_minor": 5
}
